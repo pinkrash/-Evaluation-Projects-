{
 "cells": [
  {
   "cell_type": "markdown",
   "id": "09ed1e45",
   "metadata": {},
   "source": [
    "# ZOMATO"
   ]
  },
  {
   "cell_type": "code",
   "execution_count": 1,
   "id": "7f20837a",
   "metadata": {},
   "outputs": [],
   "source": [
    "import pandas as pd\n",
    "import numpy as np\n",
    "import matplotlib.pyplot as plt\n",
    "import seaborn as sns\n",
    "import warnings\n",
    "warnings.filterwarnings('ignore')\n",
    "\n",
    "from scipy.stats import zscore,boxcox\n",
    "from sklearn.preprocessing import LabelEncoder\n",
    "from sklearn.preprocessing import StandardScaler\n",
    "\n",
    "from sklearn.tree import DecisionTreeRegressor\n",
    "from sklearn.neighbors import KNeighborsRegressor\n",
    "from sklearn.linear_model import Lasso,Ridge, LinearRegression, SGDRegressor\n",
    "from sklearn.ensemble import RandomForestRegressor, GradientBoostingRegressor, AdaBoostRegressor\n",
    "\n",
    "from sklearn.model_selection import train_test_split\n",
    "from imblearn.over_sampling import SMOTE\n",
    "\n",
    "from sklearn.tree import DecisionTreeClassifier\n",
    "from sklearn.neighbors import KNeighborsClassifier\n",
    "from sklearn.ensemble import RandomForestClassifier, ExtraTreesClassifier\n",
    "from sklearn.linear_model import SGDClassifier\n",
    "from sklearn.ensemble import AdaBoostClassifier\n",
    "from sklearn.ensemble import GradientBoostingClassifier\n",
    "from sklearn.metrics import accuracy_score, confusion_matrix, classification_report"
   ]
  },
  {
   "cell_type": "code",
   "execution_count": 2,
   "id": "6ec95f51",
   "metadata": {},
   "outputs": [],
   "source": [
    "df1=pd.read_csv('CountryCode.csv')"
   ]
  },
  {
   "cell_type": "code",
   "execution_count": 3,
   "id": "79937acf",
   "metadata": {},
   "outputs": [],
   "source": [
    "df2=pd.read_csv('zomato')"
   ]
  },
  {
   "cell_type": "code",
   "execution_count": 4,
   "id": "cefa2c2d",
   "metadata": {},
   "outputs": [
    {
     "data": {
      "text/html": [
       "<div>\n",
       "<style scoped>\n",
       "    .dataframe tbody tr th:only-of-type {\n",
       "        vertical-align: middle;\n",
       "    }\n",
       "\n",
       "    .dataframe tbody tr th {\n",
       "        vertical-align: top;\n",
       "    }\n",
       "\n",
       "    .dataframe thead th {\n",
       "        text-align: right;\n",
       "    }\n",
       "</style>\n",
       "<table border=\"1\" class=\"dataframe\">\n",
       "  <thead>\n",
       "    <tr style=\"text-align: right;\">\n",
       "      <th></th>\n",
       "      <th>Country Code</th>\n",
       "      <th>Country</th>\n",
       "    </tr>\n",
       "  </thead>\n",
       "  <tbody>\n",
       "    <tr>\n",
       "      <th>0</th>\n",
       "      <td>1</td>\n",
       "      <td>India</td>\n",
       "    </tr>\n",
       "    <tr>\n",
       "      <th>1</th>\n",
       "      <td>14</td>\n",
       "      <td>Australia</td>\n",
       "    </tr>\n",
       "    <tr>\n",
       "      <th>2</th>\n",
       "      <td>30</td>\n",
       "      <td>Brazil</td>\n",
       "    </tr>\n",
       "  </tbody>\n",
       "</table>\n",
       "</div>"
      ],
      "text/plain": [
       "   Country Code    Country\n",
       "0             1      India\n",
       "1            14  Australia\n",
       "2            30     Brazil"
      ]
     },
     "execution_count": 4,
     "metadata": {},
     "output_type": "execute_result"
    }
   ],
   "source": [
    "df1.head(3)"
   ]
  },
  {
   "cell_type": "code",
   "execution_count": 5,
   "id": "1506560a",
   "metadata": {},
   "outputs": [
    {
     "data": {
      "text/html": [
       "<div>\n",
       "<style scoped>\n",
       "    .dataframe tbody tr th:only-of-type {\n",
       "        vertical-align: middle;\n",
       "    }\n",
       "\n",
       "    .dataframe tbody tr th {\n",
       "        vertical-align: top;\n",
       "    }\n",
       "\n",
       "    .dataframe thead th {\n",
       "        text-align: right;\n",
       "    }\n",
       "</style>\n",
       "<table border=\"1\" class=\"dataframe\">\n",
       "  <thead>\n",
       "    <tr style=\"text-align: right;\">\n",
       "      <th></th>\n",
       "      <th>Restaurant ID</th>\n",
       "      <th>Restaurant Name</th>\n",
       "      <th>Country Code</th>\n",
       "      <th>City</th>\n",
       "      <th>Address</th>\n",
       "      <th>Locality</th>\n",
       "      <th>Locality Verbose</th>\n",
       "      <th>Longitude</th>\n",
       "      <th>Latitude</th>\n",
       "      <th>Cuisines</th>\n",
       "      <th>...</th>\n",
       "      <th>Currency</th>\n",
       "      <th>Has Table booking</th>\n",
       "      <th>Has Online delivery</th>\n",
       "      <th>Is delivering now</th>\n",
       "      <th>Switch to order menu</th>\n",
       "      <th>Price range</th>\n",
       "      <th>Aggregate rating</th>\n",
       "      <th>Rating color</th>\n",
       "      <th>Rating text</th>\n",
       "      <th>Votes</th>\n",
       "    </tr>\n",
       "  </thead>\n",
       "  <tbody>\n",
       "    <tr>\n",
       "      <th>0</th>\n",
       "      <td>6317637</td>\n",
       "      <td>Le Petit Souffle</td>\n",
       "      <td>162</td>\n",
       "      <td>Makati City</td>\n",
       "      <td>Third Floor, Century City Mall, Kalayaan Avenu...</td>\n",
       "      <td>Century City Mall, Poblacion, Makati City</td>\n",
       "      <td>Century City Mall, Poblacion, Makati City, Mak...</td>\n",
       "      <td>121.027535</td>\n",
       "      <td>14.565443</td>\n",
       "      <td>French, Japanese, Desserts</td>\n",
       "      <td>...</td>\n",
       "      <td>Botswana Pula(P)</td>\n",
       "      <td>Yes</td>\n",
       "      <td>No</td>\n",
       "      <td>No</td>\n",
       "      <td>No</td>\n",
       "      <td>3</td>\n",
       "      <td>4.8</td>\n",
       "      <td>Dark Green</td>\n",
       "      <td>Excellent</td>\n",
       "      <td>314</td>\n",
       "    </tr>\n",
       "    <tr>\n",
       "      <th>1</th>\n",
       "      <td>6304287</td>\n",
       "      <td>Izakaya Kikufuji</td>\n",
       "      <td>162</td>\n",
       "      <td>Makati City</td>\n",
       "      <td>Little Tokyo, 2277 Chino Roces Avenue, Legaspi...</td>\n",
       "      <td>Little Tokyo, Legaspi Village, Makati City</td>\n",
       "      <td>Little Tokyo, Legaspi Village, Makati City, Ma...</td>\n",
       "      <td>121.014101</td>\n",
       "      <td>14.553708</td>\n",
       "      <td>Japanese</td>\n",
       "      <td>...</td>\n",
       "      <td>Botswana Pula(P)</td>\n",
       "      <td>Yes</td>\n",
       "      <td>No</td>\n",
       "      <td>No</td>\n",
       "      <td>No</td>\n",
       "      <td>3</td>\n",
       "      <td>4.5</td>\n",
       "      <td>Dark Green</td>\n",
       "      <td>Excellent</td>\n",
       "      <td>591</td>\n",
       "    </tr>\n",
       "    <tr>\n",
       "      <th>2</th>\n",
       "      <td>6300002</td>\n",
       "      <td>Heat - Edsa Shangri-La</td>\n",
       "      <td>162</td>\n",
       "      <td>Mandaluyong City</td>\n",
       "      <td>Edsa Shangri-La, 1 Garden Way, Ortigas, Mandal...</td>\n",
       "      <td>Edsa Shangri-La, Ortigas, Mandaluyong City</td>\n",
       "      <td>Edsa Shangri-La, Ortigas, Mandaluyong City, Ma...</td>\n",
       "      <td>121.056831</td>\n",
       "      <td>14.581404</td>\n",
       "      <td>Seafood, Asian, Filipino, Indian</td>\n",
       "      <td>...</td>\n",
       "      <td>Botswana Pula(P)</td>\n",
       "      <td>Yes</td>\n",
       "      <td>No</td>\n",
       "      <td>No</td>\n",
       "      <td>No</td>\n",
       "      <td>4</td>\n",
       "      <td>4.4</td>\n",
       "      <td>Green</td>\n",
       "      <td>Very Good</td>\n",
       "      <td>270</td>\n",
       "    </tr>\n",
       "  </tbody>\n",
       "</table>\n",
       "<p>3 rows × 21 columns</p>\n",
       "</div>"
      ],
      "text/plain": [
       "   Restaurant ID         Restaurant Name  Country Code              City  \\\n",
       "0        6317637        Le Petit Souffle           162       Makati City   \n",
       "1        6304287        Izakaya Kikufuji           162       Makati City   \n",
       "2        6300002  Heat - Edsa Shangri-La           162  Mandaluyong City   \n",
       "\n",
       "                                             Address  \\\n",
       "0  Third Floor, Century City Mall, Kalayaan Avenu...   \n",
       "1  Little Tokyo, 2277 Chino Roces Avenue, Legaspi...   \n",
       "2  Edsa Shangri-La, 1 Garden Way, Ortigas, Mandal...   \n",
       "\n",
       "                                     Locality  \\\n",
       "0   Century City Mall, Poblacion, Makati City   \n",
       "1  Little Tokyo, Legaspi Village, Makati City   \n",
       "2  Edsa Shangri-La, Ortigas, Mandaluyong City   \n",
       "\n",
       "                                    Locality Verbose   Longitude   Latitude  \\\n",
       "0  Century City Mall, Poblacion, Makati City, Mak...  121.027535  14.565443   \n",
       "1  Little Tokyo, Legaspi Village, Makati City, Ma...  121.014101  14.553708   \n",
       "2  Edsa Shangri-La, Ortigas, Mandaluyong City, Ma...  121.056831  14.581404   \n",
       "\n",
       "                           Cuisines  ...          Currency Has Table booking  \\\n",
       "0        French, Japanese, Desserts  ...  Botswana Pula(P)               Yes   \n",
       "1                          Japanese  ...  Botswana Pula(P)               Yes   \n",
       "2  Seafood, Asian, Filipino, Indian  ...  Botswana Pula(P)               Yes   \n",
       "\n",
       "  Has Online delivery Is delivering now Switch to order menu Price range  \\\n",
       "0                  No                No                   No           3   \n",
       "1                  No                No                   No           3   \n",
       "2                  No                No                   No           4   \n",
       "\n",
       "   Aggregate rating  Rating color Rating text Votes  \n",
       "0               4.8    Dark Green   Excellent   314  \n",
       "1               4.5    Dark Green   Excellent   591  \n",
       "2               4.4         Green   Very Good   270  \n",
       "\n",
       "[3 rows x 21 columns]"
      ]
     },
     "execution_count": 5,
     "metadata": {},
     "output_type": "execute_result"
    }
   ],
   "source": [
    "df2.head(3)"
   ]
  },
  {
   "cell_type": "code",
   "execution_count": 6,
   "id": "22156fd3",
   "metadata": {},
   "outputs": [
    {
     "data": {
      "text/plain": [
       "15"
      ]
     },
     "execution_count": 6,
     "metadata": {},
     "output_type": "execute_result"
    }
   ],
   "source": [
    "df2['Country Code'].nunique()"
   ]
  },
  {
   "cell_type": "code",
   "execution_count": 7,
   "id": "84830512",
   "metadata": {},
   "outputs": [
    {
     "data": {
      "text/plain": [
       "(15, 2)"
      ]
     },
     "execution_count": 7,
     "metadata": {},
     "output_type": "execute_result"
    }
   ],
   "source": [
    "df1.shape"
   ]
  },
  {
   "cell_type": "code",
   "execution_count": 8,
   "id": "6f713bed",
   "metadata": {},
   "outputs": [],
   "source": [
    "df=pd.merge(df1,df2,on='Country Code')"
   ]
  },
  {
   "cell_type": "code",
   "execution_count": 9,
   "id": "61297d94",
   "metadata": {},
   "outputs": [
    {
     "data": {
      "text/html": [
       "<div>\n",
       "<style scoped>\n",
       "    .dataframe tbody tr th:only-of-type {\n",
       "        vertical-align: middle;\n",
       "    }\n",
       "\n",
       "    .dataframe tbody tr th {\n",
       "        vertical-align: top;\n",
       "    }\n",
       "\n",
       "    .dataframe thead th {\n",
       "        text-align: right;\n",
       "    }\n",
       "</style>\n",
       "<table border=\"1\" class=\"dataframe\">\n",
       "  <thead>\n",
       "    <tr style=\"text-align: right;\">\n",
       "      <th></th>\n",
       "      <th>Country Code</th>\n",
       "      <th>Country</th>\n",
       "      <th>Restaurant ID</th>\n",
       "      <th>Restaurant Name</th>\n",
       "      <th>City</th>\n",
       "      <th>Address</th>\n",
       "      <th>Locality</th>\n",
       "      <th>Locality Verbose</th>\n",
       "      <th>Longitude</th>\n",
       "      <th>Latitude</th>\n",
       "      <th>...</th>\n",
       "      <th>Currency</th>\n",
       "      <th>Has Table booking</th>\n",
       "      <th>Has Online delivery</th>\n",
       "      <th>Is delivering now</th>\n",
       "      <th>Switch to order menu</th>\n",
       "      <th>Price range</th>\n",
       "      <th>Aggregate rating</th>\n",
       "      <th>Rating color</th>\n",
       "      <th>Rating text</th>\n",
       "      <th>Votes</th>\n",
       "    </tr>\n",
       "  </thead>\n",
       "  <tbody>\n",
       "    <tr>\n",
       "      <th>0</th>\n",
       "      <td>1</td>\n",
       "      <td>India</td>\n",
       "      <td>3400025</td>\n",
       "      <td>Jahanpanah</td>\n",
       "      <td>Agra</td>\n",
       "      <td>E 23, Shopping Arcade, Sadar Bazaar, Agra Cant...</td>\n",
       "      <td>Agra Cantt</td>\n",
       "      <td>Agra Cantt, Agra</td>\n",
       "      <td>78.011544</td>\n",
       "      <td>27.161661</td>\n",
       "      <td>...</td>\n",
       "      <td>Indian Rupees(Rs.)</td>\n",
       "      <td>No</td>\n",
       "      <td>No</td>\n",
       "      <td>No</td>\n",
       "      <td>No</td>\n",
       "      <td>3</td>\n",
       "      <td>3.9</td>\n",
       "      <td>Yellow</td>\n",
       "      <td>Good</td>\n",
       "      <td>140</td>\n",
       "    </tr>\n",
       "    <tr>\n",
       "      <th>1</th>\n",
       "      <td>1</td>\n",
       "      <td>India</td>\n",
       "      <td>3400341</td>\n",
       "      <td>Rangrezz Restaurant</td>\n",
       "      <td>Agra</td>\n",
       "      <td>E-20, Shopping Arcade, Sadar Bazaar, Agra Cant...</td>\n",
       "      <td>Agra Cantt</td>\n",
       "      <td>Agra Cantt, Agra</td>\n",
       "      <td>0.000000</td>\n",
       "      <td>0.000000</td>\n",
       "      <td>...</td>\n",
       "      <td>Indian Rupees(Rs.)</td>\n",
       "      <td>No</td>\n",
       "      <td>No</td>\n",
       "      <td>No</td>\n",
       "      <td>No</td>\n",
       "      <td>2</td>\n",
       "      <td>3.5</td>\n",
       "      <td>Yellow</td>\n",
       "      <td>Good</td>\n",
       "      <td>71</td>\n",
       "    </tr>\n",
       "    <tr>\n",
       "      <th>2</th>\n",
       "      <td>1</td>\n",
       "      <td>India</td>\n",
       "      <td>3400005</td>\n",
       "      <td>Time2Eat - Mama Chicken</td>\n",
       "      <td>Agra</td>\n",
       "      <td>Main Market, Sadar Bazaar, Agra Cantt, Agra</td>\n",
       "      <td>Agra Cantt</td>\n",
       "      <td>Agra Cantt, Agra</td>\n",
       "      <td>78.011608</td>\n",
       "      <td>27.160832</td>\n",
       "      <td>...</td>\n",
       "      <td>Indian Rupees(Rs.)</td>\n",
       "      <td>No</td>\n",
       "      <td>No</td>\n",
       "      <td>No</td>\n",
       "      <td>No</td>\n",
       "      <td>2</td>\n",
       "      <td>3.6</td>\n",
       "      <td>Yellow</td>\n",
       "      <td>Good</td>\n",
       "      <td>94</td>\n",
       "    </tr>\n",
       "  </tbody>\n",
       "</table>\n",
       "<p>3 rows × 22 columns</p>\n",
       "</div>"
      ],
      "text/plain": [
       "   Country Code Country  Restaurant ID          Restaurant Name  City  \\\n",
       "0             1   India        3400025               Jahanpanah  Agra   \n",
       "1             1   India        3400341      Rangrezz Restaurant  Agra   \n",
       "2             1   India        3400005  Time2Eat - Mama Chicken  Agra   \n",
       "\n",
       "                                             Address    Locality  \\\n",
       "0  E 23, Shopping Arcade, Sadar Bazaar, Agra Cant...  Agra Cantt   \n",
       "1  E-20, Shopping Arcade, Sadar Bazaar, Agra Cant...  Agra Cantt   \n",
       "2        Main Market, Sadar Bazaar, Agra Cantt, Agra  Agra Cantt   \n",
       "\n",
       "   Locality Verbose  Longitude   Latitude  ...            Currency  \\\n",
       "0  Agra Cantt, Agra  78.011544  27.161661  ...  Indian Rupees(Rs.)   \n",
       "1  Agra Cantt, Agra   0.000000   0.000000  ...  Indian Rupees(Rs.)   \n",
       "2  Agra Cantt, Agra  78.011608  27.160832  ...  Indian Rupees(Rs.)   \n",
       "\n",
       "   Has Table booking Has Online delivery Is delivering now  \\\n",
       "0                 No                  No                No   \n",
       "1                 No                  No                No   \n",
       "2                 No                  No                No   \n",
       "\n",
       "  Switch to order menu Price range Aggregate rating  Rating color  \\\n",
       "0                   No           3              3.9        Yellow   \n",
       "1                   No           2              3.5        Yellow   \n",
       "2                   No           2              3.6        Yellow   \n",
       "\n",
       "   Rating text Votes  \n",
       "0         Good   140  \n",
       "1         Good    71  \n",
       "2         Good    94  \n",
       "\n",
       "[3 rows x 22 columns]"
      ]
     },
     "execution_count": 9,
     "metadata": {},
     "output_type": "execute_result"
    }
   ],
   "source": [
    "df.head(3)"
   ]
  },
  {
   "cell_type": "code",
   "execution_count": 10,
   "id": "d4fad2bd",
   "metadata": {},
   "outputs": [
    {
     "name": "stdout",
     "output_type": "stream",
     "text": [
      "<class 'pandas.core.frame.DataFrame'>\n",
      "Int64Index: 9551 entries, 0 to 9550\n",
      "Data columns (total 22 columns):\n",
      " #   Column                Non-Null Count  Dtype  \n",
      "---  ------                --------------  -----  \n",
      " 0   Country Code          9551 non-null   int64  \n",
      " 1   Country               9551 non-null   object \n",
      " 2   Restaurant ID         9551 non-null   int64  \n",
      " 3   Restaurant Name       9551 non-null   object \n",
      " 4   City                  9551 non-null   object \n",
      " 5   Address               9551 non-null   object \n",
      " 6   Locality              9551 non-null   object \n",
      " 7   Locality Verbose      9551 non-null   object \n",
      " 8   Longitude             9551 non-null   float64\n",
      " 9   Latitude              9551 non-null   float64\n",
      " 10  Cuisines              9542 non-null   object \n",
      " 11  Average Cost for two  9551 non-null   int64  \n",
      " 12  Currency              9551 non-null   object \n",
      " 13  Has Table booking     9551 non-null   object \n",
      " 14  Has Online delivery   9551 non-null   object \n",
      " 15  Is delivering now     9551 non-null   object \n",
      " 16  Switch to order menu  9551 non-null   object \n",
      " 17  Price range           9551 non-null   int64  \n",
      " 18  Aggregate rating      9551 non-null   float64\n",
      " 19  Rating color          9551 non-null   object \n",
      " 20  Rating text           9551 non-null   object \n",
      " 21  Votes                 9551 non-null   int64  \n",
      "dtypes: float64(3), int64(5), object(14)\n",
      "memory usage: 1.7+ MB\n"
     ]
    }
   ],
   "source": [
    "df.info()"
   ]
  },
  {
   "cell_type": "code",
   "execution_count": 11,
   "id": "2541337c",
   "metadata": {},
   "outputs": [
    {
     "data": {
      "text/plain": [
       "Country Code            0\n",
       "Country                 0\n",
       "Restaurant ID           0\n",
       "Restaurant Name         0\n",
       "City                    0\n",
       "Address                 0\n",
       "Locality                0\n",
       "Locality Verbose        0\n",
       "Longitude               0\n",
       "Latitude                0\n",
       "Cuisines                9\n",
       "Average Cost for two    0\n",
       "Currency                0\n",
       "Has Table booking       0\n",
       "Has Online delivery     0\n",
       "Is delivering now       0\n",
       "Switch to order menu    0\n",
       "Price range             0\n",
       "Aggregate rating        0\n",
       "Rating color            0\n",
       "Rating text             0\n",
       "Votes                   0\n",
       "dtype: int64"
      ]
     },
     "execution_count": 11,
     "metadata": {},
     "output_type": "execute_result"
    }
   ],
   "source": [
    "df.isnull().sum()"
   ]
  },
  {
   "cell_type": "code",
   "execution_count": 12,
   "id": "98299fbe",
   "metadata": {},
   "outputs": [],
   "source": [
    "# There is 9 null values in cuisines. We can fill them with mode or drop them."
   ]
  },
  {
   "cell_type": "code",
   "execution_count": 13,
   "id": "23fac91a",
   "metadata": {},
   "outputs": [],
   "source": [
    "df=df.dropna(axis=1)"
   ]
  },
  {
   "cell_type": "code",
   "execution_count": 14,
   "id": "f0ec8c0f",
   "metadata": {},
   "outputs": [
    {
     "data": {
      "text/html": [
       "<div>\n",
       "<style scoped>\n",
       "    .dataframe tbody tr th:only-of-type {\n",
       "        vertical-align: middle;\n",
       "    }\n",
       "\n",
       "    .dataframe tbody tr th {\n",
       "        vertical-align: top;\n",
       "    }\n",
       "\n",
       "    .dataframe thead th {\n",
       "        text-align: right;\n",
       "    }\n",
       "</style>\n",
       "<table border=\"1\" class=\"dataframe\">\n",
       "  <thead>\n",
       "    <tr style=\"text-align: right;\">\n",
       "      <th></th>\n",
       "      <th>Country Code</th>\n",
       "      <th>Restaurant ID</th>\n",
       "      <th>Longitude</th>\n",
       "      <th>Latitude</th>\n",
       "      <th>Average Cost for two</th>\n",
       "      <th>Price range</th>\n",
       "      <th>Aggregate rating</th>\n",
       "      <th>Votes</th>\n",
       "    </tr>\n",
       "  </thead>\n",
       "  <tbody>\n",
       "    <tr>\n",
       "      <th>count</th>\n",
       "      <td>9551.000000</td>\n",
       "      <td>9.551000e+03</td>\n",
       "      <td>9551.000000</td>\n",
       "      <td>9551.000000</td>\n",
       "      <td>9551.000000</td>\n",
       "      <td>9551.000000</td>\n",
       "      <td>9551.000000</td>\n",
       "      <td>9551.000000</td>\n",
       "    </tr>\n",
       "    <tr>\n",
       "      <th>mean</th>\n",
       "      <td>18.365616</td>\n",
       "      <td>9.051128e+06</td>\n",
       "      <td>64.126574</td>\n",
       "      <td>25.854381</td>\n",
       "      <td>1199.210763</td>\n",
       "      <td>1.804837</td>\n",
       "      <td>2.666370</td>\n",
       "      <td>156.909748</td>\n",
       "    </tr>\n",
       "    <tr>\n",
       "      <th>std</th>\n",
       "      <td>56.750546</td>\n",
       "      <td>8.791521e+06</td>\n",
       "      <td>41.467058</td>\n",
       "      <td>11.007935</td>\n",
       "      <td>16121.183073</td>\n",
       "      <td>0.905609</td>\n",
       "      <td>1.516378</td>\n",
       "      <td>430.169145</td>\n",
       "    </tr>\n",
       "    <tr>\n",
       "      <th>min</th>\n",
       "      <td>1.000000</td>\n",
       "      <td>5.300000e+01</td>\n",
       "      <td>-157.948486</td>\n",
       "      <td>-41.330428</td>\n",
       "      <td>0.000000</td>\n",
       "      <td>1.000000</td>\n",
       "      <td>0.000000</td>\n",
       "      <td>0.000000</td>\n",
       "    </tr>\n",
       "    <tr>\n",
       "      <th>25%</th>\n",
       "      <td>1.000000</td>\n",
       "      <td>3.019625e+05</td>\n",
       "      <td>77.081343</td>\n",
       "      <td>28.478713</td>\n",
       "      <td>250.000000</td>\n",
       "      <td>1.000000</td>\n",
       "      <td>2.500000</td>\n",
       "      <td>5.000000</td>\n",
       "    </tr>\n",
       "    <tr>\n",
       "      <th>50%</th>\n",
       "      <td>1.000000</td>\n",
       "      <td>6.004089e+06</td>\n",
       "      <td>77.191964</td>\n",
       "      <td>28.570469</td>\n",
       "      <td>400.000000</td>\n",
       "      <td>2.000000</td>\n",
       "      <td>3.200000</td>\n",
       "      <td>31.000000</td>\n",
       "    </tr>\n",
       "    <tr>\n",
       "      <th>75%</th>\n",
       "      <td>1.000000</td>\n",
       "      <td>1.835229e+07</td>\n",
       "      <td>77.282006</td>\n",
       "      <td>28.642758</td>\n",
       "      <td>700.000000</td>\n",
       "      <td>2.000000</td>\n",
       "      <td>3.700000</td>\n",
       "      <td>131.000000</td>\n",
       "    </tr>\n",
       "    <tr>\n",
       "      <th>max</th>\n",
       "      <td>216.000000</td>\n",
       "      <td>1.850065e+07</td>\n",
       "      <td>174.832089</td>\n",
       "      <td>55.976980</td>\n",
       "      <td>800000.000000</td>\n",
       "      <td>4.000000</td>\n",
       "      <td>4.900000</td>\n",
       "      <td>10934.000000</td>\n",
       "    </tr>\n",
       "  </tbody>\n",
       "</table>\n",
       "</div>"
      ],
      "text/plain": [
       "       Country Code  Restaurant ID    Longitude     Latitude  \\\n",
       "count   9551.000000   9.551000e+03  9551.000000  9551.000000   \n",
       "mean      18.365616   9.051128e+06    64.126574    25.854381   \n",
       "std       56.750546   8.791521e+06    41.467058    11.007935   \n",
       "min        1.000000   5.300000e+01  -157.948486   -41.330428   \n",
       "25%        1.000000   3.019625e+05    77.081343    28.478713   \n",
       "50%        1.000000   6.004089e+06    77.191964    28.570469   \n",
       "75%        1.000000   1.835229e+07    77.282006    28.642758   \n",
       "max      216.000000   1.850065e+07   174.832089    55.976980   \n",
       "\n",
       "       Average Cost for two  Price range  Aggregate rating         Votes  \n",
       "count           9551.000000  9551.000000       9551.000000   9551.000000  \n",
       "mean            1199.210763     1.804837          2.666370    156.909748  \n",
       "std            16121.183073     0.905609          1.516378    430.169145  \n",
       "min                0.000000     1.000000          0.000000      0.000000  \n",
       "25%              250.000000     1.000000          2.500000      5.000000  \n",
       "50%              400.000000     2.000000          3.200000     31.000000  \n",
       "75%              700.000000     2.000000          3.700000    131.000000  \n",
       "max           800000.000000     4.000000          4.900000  10934.000000  "
      ]
     },
     "execution_count": 14,
     "metadata": {},
     "output_type": "execute_result"
    }
   ],
   "source": [
    "df.describe()"
   ]
  },
  {
   "cell_type": "code",
   "execution_count": 15,
   "id": "4a239d36",
   "metadata": {},
   "outputs": [],
   "source": [
    "# Removing unwanted columns\n",
    "df.drop(['Restaurant ID', 'Address', 'Locality Verbose', 'Longitude', 'Latitude','Switch to order menu' ],\n",
    "        axis=1, inplace=True)\n"
   ]
  },
  {
   "cell_type": "code",
   "execution_count": 16,
   "id": "1665fbea",
   "metadata": {},
   "outputs": [],
   "source": [
    "cat=[]\n",
    "num=[]\n",
    "for i in df.columns:\n",
    "    if df[i].dtype=='object':\n",
    "        cat.append(i)\n",
    "    else:\n",
    "        num.append(i)\n"
   ]
  },
  {
   "cell_type": "code",
   "execution_count": 17,
   "id": "2c01582d",
   "metadata": {},
   "outputs": [
    {
     "name": "stdout",
     "output_type": "stream",
     "text": [
      "categorical columns are: ['Country', 'Restaurant Name', 'City', 'Locality', 'Currency', 'Has Table booking', 'Has Online delivery', 'Is delivering now', 'Rating color', 'Rating text']\n",
      "numerical columns are: ['Country Code', 'Average Cost for two', 'Price range', 'Aggregate rating', 'Votes']\n"
     ]
    }
   ],
   "source": [
    "print('categorical columns are:',cat)\n",
    "print('numerical columns are:',num)"
   ]
  },
  {
   "cell_type": "code",
   "execution_count": 18,
   "id": "aeda96c3",
   "metadata": {},
   "outputs": [
    {
     "name": "stdout",
     "output_type": "stream",
     "text": [
      "Country\n",
      "India             8652\n",
      "United States      434\n",
      "United Kingdom      80\n",
      "Brazil              60\n",
      "South Africa        60\n",
      "UAE                 60\n",
      "New Zealand         40\n",
      "Turkey              34\n",
      "Australia           24\n",
      "Phillipines         22\n",
      "Indonesia           21\n",
      "Qatar               20\n",
      "Singapore           20\n",
      "Sri Lanka           20\n",
      "Canada               4\n",
      "Name: Country, dtype: int64\n",
      "====================================================================================================\n",
      "Restaurant Name\n",
      "Cafe Coffee Day                       83\n",
      "Domino's Pizza                        79\n",
      "Subway                                63\n",
      "Green Chick Chop                      51\n",
      "McDonald's                            48\n",
      "                                      ..\n",
      "Chor Bizarre - Hotel Broadway          1\n",
      "Thugs - Hotel Broadway                 1\n",
      "The Kylin Experience - Holiday Inn     1\n",
      "Cafe on 3 - Holiday Inn                1\n",
      "Fishpatrick's Crabby Cafe              1\n",
      "Name: Restaurant Name, Length: 7446, dtype: int64\n",
      "====================================================================================================\n",
      "City\n",
      "New Delhi           5473\n",
      "Gurgaon             1118\n",
      "Noida               1080\n",
      "Faridabad            251\n",
      "Ghaziabad             25\n",
      "                    ... \n",
      "Vineland Station       1\n",
      "Yorkton                1\n",
      "Bandung                1\n",
      "Quezon City            1\n",
      "Winchester Bay         1\n",
      "Name: City, Length: 141, dtype: int64\n",
      "====================================================================================================\n",
      "Locality\n",
      "Connaught Place    122\n",
      "Rajouri Garden      99\n",
      "Shahdara            87\n",
      "Defence Colony      86\n",
      "Pitampura           85\n",
      "                  ... \n",
      "Waltair Uplands      1\n",
      "Armidale             1\n",
      "Balingup             1\n",
      "Beechworth           1\n",
      "Winchester Bay       1\n",
      "Name: Locality, Length: 1208, dtype: int64\n",
      "====================================================================================================\n",
      "Currency\n",
      "Indian Rupees(Rs.)        8652\n",
      "Dollar($)                  482\n",
      "Pounds(��)                  80\n",
      "Brazilian Real(R$)          60\n",
      "Rand(R)                     60\n",
      "Emirati Diram(AED)          60\n",
      "NewZealand($)               40\n",
      "Turkish Lira(TL)            34\n",
      "Botswana Pula(P)            22\n",
      "Indonesian Rupiah(IDR)      21\n",
      "Qatari Rial(QR)             20\n",
      "Sri Lankan Rupee(LKR)       20\n",
      "Name: Currency, dtype: int64\n",
      "====================================================================================================\n",
      "Has Table booking\n",
      "No     8393\n",
      "Yes    1158\n",
      "Name: Has Table booking, dtype: int64\n",
      "====================================================================================================\n",
      "Has Online delivery\n",
      "No     7100\n",
      "Yes    2451\n",
      "Name: Has Online delivery, dtype: int64\n",
      "====================================================================================================\n",
      "Is delivering now\n",
      "No     9517\n",
      "Yes      34\n",
      "Name: Is delivering now, dtype: int64\n",
      "====================================================================================================\n",
      "Rating color\n",
      "Orange        3737\n",
      "White         2148\n",
      "Yellow        2100\n",
      "Green         1079\n",
      "Dark Green     301\n",
      "Red            186\n",
      "Name: Rating color, dtype: int64\n",
      "====================================================================================================\n",
      "Rating text\n",
      "Average      3737\n",
      "Not rated    2148\n",
      "Good         2100\n",
      "Very Good    1079\n",
      "Excellent     301\n",
      "Poor          186\n",
      "Name: Rating text, dtype: int64\n",
      "====================================================================================================\n"
     ]
    }
   ],
   "source": [
    "for i in cat:\n",
    "    print(i)\n",
    "    print(df[i].value_counts())\n",
    "    print('=='*50)"
   ]
  },
  {
   "cell_type": "code",
   "execution_count": 19,
   "id": "d9860537",
   "metadata": {},
   "outputs": [
    {
     "name": "stdout",
     "output_type": "stream",
     "text": [
      "Country Code\n",
      "1      8652\n",
      "216     434\n",
      "215      80\n",
      "30       60\n",
      "189      60\n",
      "214      60\n",
      "148      40\n",
      "208      34\n",
      "14       24\n",
      "162      22\n",
      "94       21\n",
      "166      20\n",
      "184      20\n",
      "191      20\n",
      "37        4\n",
      "Name: Country Code, dtype: int64\n",
      "====================================================================================================\n",
      "Average Cost for two\n",
      "500       900\n",
      "300       897\n",
      "400       857\n",
      "200       687\n",
      "600       652\n",
      "         ... \n",
      "70000       1\n",
      "165000      1\n",
      "450000      1\n",
      "120000      1\n",
      "4300        1\n",
      "Name: Average Cost for two, Length: 140, dtype: int64\n",
      "====================================================================================================\n",
      "Price range\n",
      "1    4444\n",
      "2    3113\n",
      "3    1408\n",
      "4     586\n",
      "Name: Price range, dtype: int64\n",
      "====================================================================================================\n",
      "Aggregate rating\n",
      "0.0    2148\n",
      "3.2     522\n",
      "3.1     519\n",
      "3.4     498\n",
      "3.3     483\n",
      "3.5     480\n",
      "3.0     468\n",
      "3.6     458\n",
      "3.7     427\n",
      "3.8     400\n",
      "2.9     381\n",
      "3.9     335\n",
      "2.8     315\n",
      "4.1     274\n",
      "4.0     266\n",
      "2.7     250\n",
      "4.2     221\n",
      "2.6     191\n",
      "4.3     174\n",
      "4.4     144\n",
      "2.5     110\n",
      "4.5      95\n",
      "2.4      87\n",
      "4.6      78\n",
      "4.9      61\n",
      "2.3      47\n",
      "4.7      42\n",
      "2.2      27\n",
      "4.8      25\n",
      "2.1      15\n",
      "2.0       7\n",
      "1.9       2\n",
      "1.8       1\n",
      "Name: Aggregate rating, dtype: int64\n",
      "====================================================================================================\n",
      "Votes\n",
      "0       1094\n",
      "1        483\n",
      "2        327\n",
      "3        244\n",
      "4        207\n",
      "        ... \n",
      "1801       1\n",
      "1333       1\n",
      "1863       1\n",
      "1134       1\n",
      "575        1\n",
      "Name: Votes, Length: 1012, dtype: int64\n",
      "====================================================================================================\n"
     ]
    }
   ],
   "source": [
    "for i in num:\n",
    "    print(i)\n",
    "    print(df[i].value_counts())\n",
    "    print('=='*50)"
   ]
  },
  {
   "cell_type": "code",
   "execution_count": 20,
   "id": "9d46e43d",
   "metadata": {},
   "outputs": [],
   "source": [
    "# Checking outliers"
   ]
  },
  {
   "cell_type": "code",
   "execution_count": 21,
   "id": "e82150f5",
   "metadata": {},
   "outputs": [
    {
     "data": {
      "text/plain": [
       "<Axes: >"
      ]
     },
     "execution_count": 21,
     "metadata": {},
     "output_type": "execute_result"
    },
    {
     "data": {
      "image/png": "[encoded data removed]",
      "text/plain": [
       "<Figure size 640x480 with 1 Axes>"
      ]
     },
     "metadata": {},
     "output_type": "display_data"
    }
   ],
   "source": [
    "df['Average Cost for two'].plot.box()"
   ]
  },
  {
   "cell_type": "code",
   "execution_count": 22,
   "id": "630b5356",
   "metadata": {},
   "outputs": [
    {
     "data": {
      "text/plain": [
       "<Axes: >"
      ]
     },
     "execution_count": 22,
     "metadata": {},
     "output_type": "execute_result"
    },
    {
     "data": {
      "image/png": "[encoded data removed]",
      "text/plain": [
       "<Figure size 640x480 with 1 Axes>"
      ]
     },
     "metadata": {},
     "output_type": "display_data"
    }
   ],
   "source": [
    "df['Price range'].plot.box()"
   ]
  },
  {
   "cell_type": "code",
   "execution_count": 23,
   "id": "e5352ff7",
   "metadata": {},
   "outputs": [
    {
     "data": {
      "text/plain": [
       "<Axes: >"
      ]
     },
     "execution_count": 23,
     "metadata": {},
     "output_type": "execute_result"
    },
    {
     "data": {
      "image/png": "[encoded data removed]",
      "text/plain": [
       "<Figure size 640x480 with 1 Axes>"
      ]
     },
     "metadata": {},
     "output_type": "display_data"
    }
   ],
   "source": [
    "df['Aggregate rating'].plot.box()"
   ]
  },
  {
   "cell_type": "code",
   "execution_count": 24,
   "id": "a66ebc1b",
   "metadata": {},
   "outputs": [
    {
     "data": {
      "text/plain": [
       "<Axes: >"
      ]
     },
     "execution_count": 24,
     "metadata": {},
     "output_type": "execute_result"
    },
    {
     "data": {
      "image/png": "[encoded data removed]",
      "text/plain": [
       "<Figure size 640x480 with 1 Axes>"
      ]
     },
     "metadata": {},
     "output_type": "display_data"
    }
   ],
   "source": [
    "df['Votes'].plot.box()"
   ]
  },
  {
   "cell_type": "code",
   "execution_count": 25,
   "id": "83f00b47",
   "metadata": {},
   "outputs": [],
   "source": [
    "# checking skewness"
   ]
  },
  {
   "cell_type": "code",
   "execution_count": 26,
   "id": "1b59e49f",
   "metadata": {},
   "outputs": [
    {
     "data": {
      "text/plain": [
       "Country Code             3.043965\n",
       "Average Cost for two    35.477915\n",
       "Price range              0.889618\n",
       "Aggregate rating        -0.954130\n",
       "Votes                    8.807637\n",
       "dtype: float64"
      ]
     },
     "execution_count": 26,
     "metadata": {},
     "output_type": "execute_result"
    }
   ],
   "source": [
    "df.skew()"
   ]
  },
  {
   "cell_type": "code",
   "execution_count": 27,
   "id": "d621acd1",
   "metadata": {},
   "outputs": [],
   "source": [
    "# Visualisation"
   ]
  },
  {
   "cell_type": "code",
   "execution_count": 28,
   "id": "15b7b00c",
   "metadata": {},
   "outputs": [
    {
     "data": {
      "text/plain": [
       "([0, 1, 2, 3, 4, 5, 6, 7, 8, 9, 10, 11, 12, 13, 14],\n",
       " [Text(0, 0, 'India'),\n",
       "  Text(1, 0, 'Australia'),\n",
       "  Text(2, 0, 'Brazil'),\n",
       "  Text(3, 0, 'Canada'),\n",
       "  Text(4, 0, 'Indonesia'),\n",
       "  Text(5, 0, 'New Zealand'),\n",
       "  Text(6, 0, 'Phillipines'),\n",
       "  Text(7, 0, 'Qatar'),\n",
       "  Text(8, 0, 'Singapore'),\n",
       "  Text(9, 0, 'South Africa'),\n",
       "  Text(10, 0, 'Sri Lanka'),\n",
       "  Text(11, 0, 'Turkey'),\n",
       "  Text(12, 0, 'UAE'),\n",
       "  Text(13, 0, 'United Kingdom'),\n",
       "  Text(14, 0, 'United States')])"
      ]
     },
     "execution_count": 28,
     "metadata": {},
     "output_type": "execute_result"
    },
    {
     "data": {
      "image/png": "[encoded data removed]",
      "text/plain": [
       "<Figure size 500x500 with 1 Axes>"
      ]
     },
     "metadata": {},
     "output_type": "display_data"
    }
   ],
   "source": [
    "sns.catplot(x='Country',y='Average Cost for two',data=df)\n",
    "plt.xticks(rotation='vertical')"
   ]
  },
  {
   "cell_type": "code",
   "execution_count": 29,
   "id": "0b9d61c5",
   "metadata": {},
   "outputs": [
    {
     "data": {
      "text/plain": [
       "([0, 1, 2, 3, 4, 5, 6, 7, 8, 9, 10, 11, 12, 13, 14],\n",
       " [Text(0, 0, 'India'),\n",
       "  Text(1, 0, 'Australia'),\n",
       "  Text(2, 0, 'Brazil'),\n",
       "  Text(3, 0, 'Canada'),\n",
       "  Text(4, 0, 'Indonesia'),\n",
       "  Text(5, 0, 'New Zealand'),\n",
       "  Text(6, 0, 'Phillipines'),\n",
       "  Text(7, 0, 'Qatar'),\n",
       "  Text(8, 0, 'Singapore'),\n",
       "  Text(9, 0, 'South Africa'),\n",
       "  Text(10, 0, 'Sri Lanka'),\n",
       "  Text(11, 0, 'Turkey'),\n",
       "  Text(12, 0, 'UAE'),\n",
       "  Text(13, 0, 'United Kingdom'),\n",
       "  Text(14, 0, 'United States')])"
      ]
     },
     "execution_count": 29,
     "metadata": {},
     "output_type": "execute_result"
    },
    {
     "data": {
      "image/png": "[encoded data removed]",
      "text/plain": [
       "<Figure size 640x480 with 1 Axes>"
      ]
     },
     "metadata": {},
     "output_type": "display_data"
    }
   ],
   "source": [
    "sns.lineplot(x='Country',y='Average Cost for two',data=df)\n",
    "plt.xticks(rotation='vertical')"
   ]
  },
  {
   "cell_type": "code",
   "execution_count": 30,
   "id": "02af99e4",
   "metadata": {},
   "outputs": [
    {
     "data": {
      "text/plain": [
       "<Axes: xlabel='Average Cost for two', ylabel='Density'>"
      ]
     },
     "execution_count": 30,
     "metadata": {},
     "output_type": "execute_result"
    },
    {
     "data": {
      "image/png": "[encoded data removed]",
      "text/plain": [
       "<Figure size 640x480 with 1 Axes>"
      ]
     },
     "metadata": {},
     "output_type": "display_data"
    }
   ],
   "source": [
    "sns.distplot(df['Average Cost for two'])"
   ]
  },
  {
   "cell_type": "code",
   "execution_count": 31,
   "id": "64bc60c3",
   "metadata": {},
   "outputs": [
    {
     "data": {
      "text/plain": [
       "(array([ 0,  1,  2,  3,  4,  5,  6,  7,  8,  9, 10, 11, 12, 13, 14]),\n",
       " [Text(0, 0, 'India'),\n",
       "  Text(1, 0, 'Australia'),\n",
       "  Text(2, 0, 'Brazil'),\n",
       "  Text(3, 0, 'Canada'),\n",
       "  Text(4, 0, 'Indonesia'),\n",
       "  Text(5, 0, 'New Zealand'),\n",
       "  Text(6, 0, 'Phillipines'),\n",
       "  Text(7, 0, 'Qatar'),\n",
       "  Text(8, 0, 'Singapore'),\n",
       "  Text(9, 0, 'South Africa'),\n",
       "  Text(10, 0, 'Sri Lanka'),\n",
       "  Text(11, 0, 'Turkey'),\n",
       "  Text(12, 0, 'UAE'),\n",
       "  Text(13, 0, 'United Kingdom'),\n",
       "  Text(14, 0, 'United States')])"
      ]
     },
     "execution_count": 31,
     "metadata": {},
     "output_type": "execute_result"
    },
    {
     "data": {
      "image/png": "[encoded data removed]",
      "text/plain": [
       "<Figure size 640x480 with 1 Axes>"
      ]
     },
     "metadata": {},
     "output_type": "display_data"
    }
   ],
   "source": [
    "sns.countplot(x='Country',data=df)\n",
    "plt.xticks(rotation='vertical')"
   ]
  },
  {
   "cell_type": "code",
   "execution_count": 32,
   "id": "4bdf25ce",
   "metadata": {},
   "outputs": [
    {
     "data": {
      "text/plain": [
       "(array([  0,   1,   2,   3,   4,   5,   6,   7,   8,   9,  10,  11,  12,\n",
       "         13,  14,  15,  16,  17,  18,  19,  20,  21,  22,  23,  24,  25,\n",
       "         26,  27,  28,  29,  30,  31,  32,  33,  34,  35,  36,  37,  38,\n",
       "         39,  40,  41,  42,  43,  44,  45,  46,  47,  48,  49,  50,  51,\n",
       "         52,  53,  54,  55,  56,  57,  58,  59,  60,  61,  62,  63,  64,\n",
       "         65,  66,  67,  68,  69,  70,  71,  72,  73,  74,  75,  76,  77,\n",
       "         78,  79,  80,  81,  82,  83,  84,  85,  86,  87,  88,  89,  90,\n",
       "         91,  92,  93,  94,  95,  96,  97,  98,  99, 100, 101, 102, 103,\n",
       "        104, 105, 106, 107, 108, 109, 110, 111, 112, 113, 114, 115, 116,\n",
       "        117, 118, 119, 120, 121, 122, 123, 124, 125, 126, 127, 128, 129,\n",
       "        130, 131, 132, 133, 134, 135, 136, 137, 138, 139]),\n",
       " [Text(0, 0, '0'),\n",
       "  Text(1, 0, '7'),\n",
       "  Text(2, 0, '10'),\n",
       "  Text(3, 0, '15'),\n",
       "  Text(4, 0, '20'),\n",
       "  Text(5, 0, '25'),\n",
       "  Text(6, 0, '30'),\n",
       "  Text(7, 0, '35'),\n",
       "  Text(8, 0, '40'),\n",
       "  Text(9, 0, '45'),\n",
       "  Text(10, 0, '50'),\n",
       "  Text(11, 0, '55'),\n",
       "  Text(12, 0, '60'),\n",
       "  Text(13, 0, '65'),\n",
       "  Text(14, 0, '70'),\n",
       "  Text(15, 0, '75'),\n",
       "  Text(16, 0, '80'),\n",
       "  Text(17, 0, '85'),\n",
       "  Text(18, 0, '90'),\n",
       "  Text(19, 0, '95'),\n",
       "  Text(20, 0, '100'),\n",
       "  Text(21, 0, '105'),\n",
       "  Text(22, 0, '110'),\n",
       "  Text(23, 0, '120'),\n",
       "  Text(24, 0, '125'),\n",
       "  Text(25, 0, '130'),\n",
       "  Text(26, 0, '140'),\n",
       "  Text(27, 0, '150'),\n",
       "  Text(28, 0, '160'),\n",
       "  Text(29, 0, '170'),\n",
       "  Text(30, 0, '180'),\n",
       "  Text(31, 0, '190'),\n",
       "  Text(32, 0, '200'),\n",
       "  Text(33, 0, '220'),\n",
       "  Text(34, 0, '230'),\n",
       "  Text(35, 0, '240'),\n",
       "  Text(36, 0, '250'),\n",
       "  Text(37, 0, '260'),\n",
       "  Text(38, 0, '270'),\n",
       "  Text(39, 0, '280'),\n",
       "  Text(40, 0, '285'),\n",
       "  Text(41, 0, '290'),\n",
       "  Text(42, 0, '294'),\n",
       "  Text(43, 0, '300'),\n",
       "  Text(44, 0, '315'),\n",
       "  Text(45, 0, '320'),\n",
       "  Text(46, 0, '330'),\n",
       "  Text(47, 0, '350'),\n",
       "  Text(48, 0, '360'),\n",
       "  Text(49, 0, '390'),\n",
       "  Text(50, 0, '400'),\n",
       "  Text(51, 0, '410'),\n",
       "  Text(52, 0, '430'),\n",
       "  Text(53, 0, '445'),\n",
       "  Text(54, 0, '450'),\n",
       "  Text(55, 0, '500'),\n",
       "  Text(56, 0, '515'),\n",
       "  Text(57, 0, '535'),\n",
       "  Text(58, 0, '545'),\n",
       "  Text(59, 0, '550'),\n",
       "  Text(60, 0, '570'),\n",
       "  Text(61, 0, '600'),\n",
       "  Text(62, 0, '650'),\n",
       "  Text(63, 0, '700'),\n",
       "  Text(64, 0, '720'),\n",
       "  Text(65, 0, '750'),\n",
       "  Text(66, 0, '800'),\n",
       "  Text(67, 0, '850'),\n",
       "  Text(68, 0, '900'),\n",
       "  Text(69, 0, '950'),\n",
       "  Text(70, 0, '955'),\n",
       "  Text(71, 0, '1000'),\n",
       "  Text(72, 0, '1050'),\n",
       "  Text(73, 0, '1100'),\n",
       "  Text(74, 0, '1150'),\n",
       "  Text(75, 0, '1200'),\n",
       "  Text(76, 0, '1250'),\n",
       "  Text(77, 0, '1300'),\n",
       "  Text(78, 0, '1350'),\n",
       "  Text(79, 0, '1400'),\n",
       "  Text(80, 0, '1450'),\n",
       "  Text(81, 0, '1500'),\n",
       "  Text(82, 0, '1540'),\n",
       "  Text(83, 0, '1550'),\n",
       "  Text(84, 0, '1600'),\n",
       "  Text(85, 0, '1650'),\n",
       "  Text(86, 0, '1700'),\n",
       "  Text(87, 0, '1750'),\n",
       "  Text(88, 0, '1800'),\n",
       "  Text(89, 0, '1850'),\n",
       "  Text(90, 0, '1900'),\n",
       "  Text(91, 0, '1950'),\n",
       "  Text(92, 0, '2000'),\n",
       "  Text(93, 0, '2100'),\n",
       "  Text(94, 0, '2200'),\n",
       "  Text(95, 0, '2300'),\n",
       "  Text(96, 0, '2350'),\n",
       "  Text(97, 0, '2400'),\n",
       "  Text(98, 0, '2500'),\n",
       "  Text(99, 0, '2600'),\n",
       "  Text(100, 0, '2650'),\n",
       "  Text(101, 0, '2700'),\n",
       "  Text(102, 0, '2800'),\n",
       "  Text(103, 0, '2900'),\n",
       "  Text(104, 0, '3000'),\n",
       "  Text(105, 0, '3200'),\n",
       "  Text(106, 0, '3210'),\n",
       "  Text(107, 0, '3300'),\n",
       "  Text(108, 0, '3500'),\n",
       "  Text(109, 0, '3600'),\n",
       "  Text(110, 0, '3650'),\n",
       "  Text(111, 0, '3700'),\n",
       "  Text(112, 0, '3800'),\n",
       "  Text(113, 0, '4000'),\n",
       "  Text(114, 0, '4100'),\n",
       "  Text(115, 0, '4200'),\n",
       "  Text(116, 0, '4300'),\n",
       "  Text(117, 0, '4400'),\n",
       "  Text(118, 0, '4500'),\n",
       "  Text(119, 0, '4700'),\n",
       "  Text(120, 0, '4800'),\n",
       "  Text(121, 0, '5000'),\n",
       "  Text(122, 0, '5100'),\n",
       "  Text(123, 0, '5500'),\n",
       "  Text(124, 0, '6000'),\n",
       "  Text(125, 0, '6500'),\n",
       "  Text(126, 0, '7000'),\n",
       "  Text(127, 0, '8000'),\n",
       "  Text(128, 0, '70000'),\n",
       "  Text(129, 0, '100000'),\n",
       "  Text(130, 0, '120000'),\n",
       "  Text(131, 0, '150000'),\n",
       "  Text(132, 0, '165000'),\n",
       "  Text(133, 0, '200000'),\n",
       "  Text(134, 0, '250000'),\n",
       "  Text(135, 0, '300000'),\n",
       "  Text(136, 0, '350000'),\n",
       "  Text(137, 0, '450000'),\n",
       "  Text(138, 0, '500000'),\n",
       "  Text(139, 0, '800000')])"
      ]
     },
     "execution_count": 32,
     "metadata": {},
     "output_type": "execute_result"
    },
    {
     "data": {
      "image/png": "[encoded data removed]",
      "text/plain": [
       "<Figure size 640x480 with 1 Axes>"
      ]
     },
     "metadata": {},
     "output_type": "display_data"
    }
   ],
   "source": [
    "sns.countplot(x='Average Cost for two',data=df)\n",
    "plt.xticks(rotation='vertical')"
   ]
  },
  {
   "cell_type": "code",
   "execution_count": 33,
   "id": "dbf3a1e7",
   "metadata": {},
   "outputs": [
    {
     "data": {
      "text/plain": [
       "(array([0, 1, 2, 3, 4, 5]),\n",
       " [Text(0, 0, 'Good'),\n",
       "  Text(1, 0, 'Very Good'),\n",
       "  Text(2, 0, 'Average'),\n",
       "  Text(3, 0, 'Excellent'),\n",
       "  Text(4, 0, 'Not rated'),\n",
       "  Text(5, 0, 'Poor')])"
      ]
     },
     "execution_count": 33,
     "metadata": {},
     "output_type": "execute_result"
    },
    {
     "data": {
      "image/png": "[encoded data removed]",
      "text/plain": [
       "<Figure size 640x480 with 1 Axes>"
      ]
     },
     "metadata": {},
     "output_type": "display_data"
    }
   ],
   "source": [
    "sns.countplot(x='Rating text',data=df)\n",
    "plt.xticks(rotation='vertical')"
   ]
  },
  {
   "cell_type": "code",
   "execution_count": 34,
   "id": "5daa232d",
   "metadata": {},
   "outputs": [
    {
     "data": {
      "text/plain": [
       "(array([ 0,  1,  2,  3,  4,  5,  6,  7,  8,  9, 10, 11, 12, 13, 14, 15, 16,\n",
       "        17, 18, 19, 20, 21, 22, 23, 24, 25, 26, 27, 28, 29, 30, 31, 32]),\n",
       " [Text(0, 0, '0.0'),\n",
       "  Text(1, 0, '1.8'),\n",
       "  Text(2, 0, '1.9'),\n",
       "  Text(3, 0, '2.0'),\n",
       "  Text(4, 0, '2.1'),\n",
       "  Text(5, 0, '2.2'),\n",
       "  Text(6, 0, '2.3'),\n",
       "  Text(7, 0, '2.4'),\n",
       "  Text(8, 0, '2.5'),\n",
       "  Text(9, 0, '2.6'),\n",
       "  Text(10, 0, '2.7'),\n",
       "  Text(11, 0, '2.8'),\n",
       "  Text(12, 0, '2.9'),\n",
       "  Text(13, 0, '3.0'),\n",
       "  Text(14, 0, '3.1'),\n",
       "  Text(15, 0, '3.2'),\n",
       "  Text(16, 0, '3.3'),\n",
       "  Text(17, 0, '3.4'),\n",
       "  Text(18, 0, '3.5'),\n",
       "  Text(19, 0, '3.6'),\n",
       "  Text(20, 0, '3.7'),\n",
       "  Text(21, 0, '3.8'),\n",
       "  Text(22, 0, '3.9'),\n",
       "  Text(23, 0, '4.0'),\n",
       "  Text(24, 0, '4.1'),\n",
       "  Text(25, 0, '4.2'),\n",
       "  Text(26, 0, '4.3'),\n",
       "  Text(27, 0, '4.4'),\n",
       "  Text(28, 0, '4.5'),\n",
       "  Text(29, 0, '4.6'),\n",
       "  Text(30, 0, '4.7'),\n",
       "  Text(31, 0, '4.8'),\n",
       "  Text(32, 0, '4.9')])"
      ]
     },
     "execution_count": 34,
     "metadata": {},
     "output_type": "execute_result"
    },
    {
     "data": {
      "image/png": "[encoded data removed]",
      "text/plain": [
       "<Figure size 640x480 with 1 Axes>"
      ]
     },
     "metadata": {},
     "output_type": "display_data"
    }
   ],
   "source": [
    "sns.countplot(x='Aggregate rating',data=df)\n",
    "plt.xticks(rotation='vertical')"
   ]
  },
  {
   "cell_type": "code",
   "execution_count": 37,
   "id": "b2ad4d09",
   "metadata": {},
   "outputs": [],
   "source": [
    "# This dataset has maximum restaurants from India.\n",
    "# Mostly cost for two varies under 1000 in Indian Currency.\n",
    "# Maximum rating text recieved as 'average'.\n",
    "# Aggregating rating varies 3 to 4 in majority."
   ]
  },
  {
   "cell_type": "code",
   "execution_count": 38,
   "id": "1545136e",
   "metadata": {},
   "outputs": [
    {
     "data": {
      "text/plain": [
       "Country\n",
       "Indonesia         281190.476190\n",
       "Sri Lanka           2375.000000\n",
       "Phillipines         1606.818182\n",
       "India                623.370319\n",
       "South Africa         419.733333\n",
       "Qatar                223.750000\n",
       "UAE                  166.416667\n",
       "Singapore            155.750000\n",
       "Brazil               134.666667\n",
       "Turkey                84.852941\n",
       "New Zealand           69.750000\n",
       "United Kingdom        47.812500\n",
       "Canada                36.250000\n",
       "United States         26.152074\n",
       "Australia             24.083333\n",
       "Name: Average Cost for two, dtype: float64"
      ]
     },
     "execution_count": 38,
     "metadata": {},
     "output_type": "execute_result"
    }
   ],
   "source": [
    "group=df.groupby('Country')['Average Cost for two'].mean()\n",
    "grouped=group.sort_values(ascending=False)\n",
    "grouped"
   ]
  },
  {
   "cell_type": "code",
   "execution_count": 39,
   "id": "502fd484",
   "metadata": {},
   "outputs": [
    {
     "data": {
      "text/plain": [
       "City\n",
       "Jakarta           308437.500000\n",
       "Tangerang         250000.000000\n",
       "Bogor             160000.000000\n",
       "Bandung           150000.000000\n",
       "Pasay City          3333.333333\n",
       "                      ...      \n",
       "Mc Millan             10.000000\n",
       "Inverloch              7.000000\n",
       "Lakes Entrance         7.000000\n",
       "Dicky Beach            7.000000\n",
       "Miller                 0.000000\n",
       "Name: Average Cost for two, Length: 141, dtype: float64"
      ]
     },
     "execution_count": 39,
     "metadata": {},
     "output_type": "execute_result"
    }
   ],
   "source": [
    "group2=df.groupby('City')['Average Cost for two'].mean()\n",
    "grouped2=group2.sort_values(ascending=False)\n",
    "grouped2"
   ]
  },
  {
   "cell_type": "code",
   "execution_count": 40,
   "id": "74473a96",
   "metadata": {},
   "outputs": [
    {
     "data": {
      "text/plain": [
       "Has Table booking\n",
       "Yes    1535.898100\n",
       "No     1152.757298\n",
       "Name: Average Cost for two, dtype: float64"
      ]
     },
     "execution_count": 40,
     "metadata": {},
     "output_type": "execute_result"
    }
   ],
   "source": [
    "group3=df.groupby('Has Table booking')['Average Cost for two'].mean()\n",
    "grouped3=group3.sort_values(ascending=False)\n",
    "grouped3"
   ]
  },
  {
   "cell_type": "code",
   "execution_count": 41,
   "id": "fb0c9143",
   "metadata": {},
   "outputs": [
    {
     "data": {
      "text/plain": [
       "Has Online delivery\n",
       "No     1378.919296\n",
       "Yes     678.635251\n",
       "Name: Average Cost for two, dtype: float64"
      ]
     },
     "execution_count": 41,
     "metadata": {},
     "output_type": "execute_result"
    }
   ],
   "source": [
    "group4=df.groupby('Has Online delivery')['Average Cost for two'].mean()\n",
    "grouped4=group4.sort_values(ascending=False)\n",
    "grouped4"
   ]
  },
  {
   "cell_type": "code",
   "execution_count": 42,
   "id": "b78455ff",
   "metadata": {},
   "outputs": [
    {
     "data": {
      "text/plain": [
       "Has Online delivery\n",
       "Yes    1.924929\n",
       "No     1.763380\n",
       "Name: Price range, dtype: float64"
      ]
     },
     "execution_count": 42,
     "metadata": {},
     "output_type": "execute_result"
    }
   ],
   "source": [
    "group5=df.groupby('Has Online delivery')['Price range'].mean()\n",
    "grouped5=group5.sort_values(ascending=False)\n",
    "grouped5"
   ]
  },
  {
   "cell_type": "code",
   "execution_count": 43,
   "id": "ca250041",
   "metadata": {},
   "outputs": [
    {
     "data": {
      "text/plain": [
       "Aggregate rating  Rating color  Rating text\n",
       "0.0               White         Not rated      2148\n",
       "1.8               Red           Poor              1\n",
       "1.9               Red           Poor              2\n",
       "2.0               Red           Poor              7\n",
       "2.1               Red           Poor             15\n",
       "2.2               Red           Poor             27\n",
       "2.3               Red           Poor             47\n",
       "2.4               Red           Poor             87\n",
       "2.5               Orange        Average         110\n",
       "2.6               Orange        Average         191\n",
       "2.7               Orange        Average         250\n",
       "2.8               Orange        Average         315\n",
       "2.9               Orange        Average         381\n",
       "3.0               Orange        Average         468\n",
       "3.1               Orange        Average         519\n",
       "3.2               Orange        Average         522\n",
       "3.3               Orange        Average         483\n",
       "3.4               Orange        Average         498\n",
       "3.5               Yellow        Good            480\n",
       "3.6               Yellow        Good            458\n",
       "3.7               Yellow        Good            427\n",
       "3.8               Yellow        Good            400\n",
       "3.9               Yellow        Good            335\n",
       "4.0               Green         Very Good       266\n",
       "4.1               Green         Very Good       274\n",
       "4.2               Green         Very Good       221\n",
       "4.3               Green         Very Good       174\n",
       "4.4               Green         Very Good       144\n",
       "4.5               Dark Green    Excellent        95\n",
       "4.6               Dark Green    Excellent        78\n",
       "4.7               Dark Green    Excellent        42\n",
       "4.8               Dark Green    Excellent        25\n",
       "4.9               Dark Green    Excellent        61\n",
       "dtype: int64"
      ]
     },
     "execution_count": 43,
     "metadata": {},
     "output_type": "execute_result"
    }
   ],
   "source": [
    "df.groupby(['Aggregate rating','Rating color','Rating text']).size()"
   ]
  },
  {
   "cell_type": "code",
   "execution_count": 44,
   "id": "2767dcbe",
   "metadata": {},
   "outputs": [
    {
     "data": {
      "text/plain": [
       "Restaurant Name\n",
       "Atlanta Highway Seafood Market    4.9\n",
       "Bao                               4.9\n",
       "Braseiro da G��vea                4.9\n",
       "CakeBee                           4.9\n",
       "Carnival By Tresind               4.9\n",
       "Caterspoint                       4.9\n",
       "Cube - Tasting Kitchen            4.9\n",
       "Draft Gastro Pub                  4.9\n",
       "Duck & Waffle                     4.9\n",
       "Flat Iron                         4.9\n",
       "Name: Aggregate rating, dtype: float64"
      ]
     },
     "execution_count": 44,
     "metadata": {},
     "output_type": "execute_result"
    }
   ],
   "source": [
    "df.groupby('Restaurant Name')['Aggregate rating'].mean().nlargest(10)\n"
   ]
  },
  {
   "cell_type": "code",
   "execution_count": 45,
   "id": "88c6947e",
   "metadata": {},
   "outputs": [],
   "source": [
    "# Indonesia, Sri Lanka, Phillipines and India has maximum rate for two.\n",
    "# People who booked a table have paid more than who have not booked.\n",
    "# most of restaurant dont do online delivery.\n"
   ]
  },
  {
   "cell_type": "code",
   "execution_count": 46,
   "id": "4fc3220e",
   "metadata": {},
   "outputs": [],
   "source": [
    "# Removing outliers"
   ]
  },
  {
   "cell_type": "code",
   "execution_count": 47,
   "id": "34aebe53",
   "metadata": {},
   "outputs": [],
   "source": [
    "z=np.abs(zscore(df[num]))"
   ]
  },
  {
   "cell_type": "code",
   "execution_count": 48,
   "id": "f8bd5af8",
   "metadata": {},
   "outputs": [
    {
     "data": {
      "text/plain": [
       "(8692, 15)"
      ]
     },
     "execution_count": 48,
     "metadata": {},
     "output_type": "execute_result"
    }
   ],
   "source": [
    "df1 = df[(z < 3).all(axis=1)]\n",
    "df1.shape"
   ]
  },
  {
   "cell_type": "code",
   "execution_count": 49,
   "id": "a75309b7",
   "metadata": {},
   "outputs": [],
   "source": [
    "df=df1"
   ]
  },
  {
   "cell_type": "code",
   "execution_count": 50,
   "id": "ff561bb8",
   "metadata": {},
   "outputs": [],
   "source": [
    "# Remoning skewness\n",
    "df['Votes'] = np.log1p(df['Votes'])\n",
    "df['Average Cost for two']=np.log1p(df['Average Cost for two'])"
   ]
  },
  {
   "cell_type": "code",
   "execution_count": 51,
   "id": "9f8858ce",
   "metadata": {},
   "outputs": [
    {
     "data": {
      "text/plain": [
       "Country Code            8.892253\n",
       "Average Cost for two   -0.524304\n",
       "Price range             1.013469\n",
       "Aggregate rating       -0.882750\n",
       "Votes                  -0.059095\n",
       "dtype: float64"
      ]
     },
     "execution_count": 51,
     "metadata": {},
     "output_type": "execute_result"
    }
   ],
   "source": [
    "df.skew()"
   ]
  },
  {
   "cell_type": "code",
   "execution_count": 52,
   "id": "c6bbdc28",
   "metadata": {},
   "outputs": [],
   "source": [
    "# Labeling\n",
    "lb = LabelEncoder()\n",
    "for i in cat:\n",
    "    df[i] = lb.fit_transform(df[i])\n"
   ]
  },
  {
   "cell_type": "code",
   "execution_count": 53,
   "id": "04f370f4",
   "metadata": {},
   "outputs": [
    {
     "data": {
      "text/html": [
       "<div>\n",
       "<style scoped>\n",
       "    .dataframe tbody tr th:only-of-type {\n",
       "        vertical-align: middle;\n",
       "    }\n",
       "\n",
       "    .dataframe tbody tr th {\n",
       "        vertical-align: top;\n",
       "    }\n",
       "\n",
       "    .dataframe thead th {\n",
       "        text-align: right;\n",
       "    }\n",
       "</style>\n",
       "<table border=\"1\" class=\"dataframe\">\n",
       "  <thead>\n",
       "    <tr style=\"text-align: right;\">\n",
       "      <th></th>\n",
       "      <th>Country Code</th>\n",
       "      <th>Country</th>\n",
       "      <th>Restaurant Name</th>\n",
       "      <th>City</th>\n",
       "      <th>Locality</th>\n",
       "      <th>Average Cost for two</th>\n",
       "      <th>Currency</th>\n",
       "      <th>Has Table booking</th>\n",
       "      <th>Has Online delivery</th>\n",
       "      <th>Is delivering now</th>\n",
       "      <th>Price range</th>\n",
       "      <th>Aggregate rating</th>\n",
       "      <th>Rating color</th>\n",
       "      <th>Rating text</th>\n",
       "      <th>Votes</th>\n",
       "    </tr>\n",
       "  </thead>\n",
       "  <tbody>\n",
       "    <tr>\n",
       "      <th>0</th>\n",
       "      <td>1</td>\n",
       "      <td>3</td>\n",
       "      <td>2876</td>\n",
       "      <td>0</td>\n",
       "      <td>13</td>\n",
       "      <td>6.746412</td>\n",
       "      <td>3</td>\n",
       "      <td>0</td>\n",
       "      <td>0</td>\n",
       "      <td>0</td>\n",
       "      <td>3</td>\n",
       "      <td>3.9</td>\n",
       "      <td>5</td>\n",
       "      <td>2</td>\n",
       "      <td>4.948760</td>\n",
       "    </tr>\n",
       "    <tr>\n",
       "      <th>1</th>\n",
       "      <td>1</td>\n",
       "      <td>3</td>\n",
       "      <td>4750</td>\n",
       "      <td>0</td>\n",
       "      <td>13</td>\n",
       "      <td>6.552508</td>\n",
       "      <td>3</td>\n",
       "      <td>0</td>\n",
       "      <td>0</td>\n",
       "      <td>0</td>\n",
       "      <td>2</td>\n",
       "      <td>3.5</td>\n",
       "      <td>5</td>\n",
       "      <td>2</td>\n",
       "      <td>4.276666</td>\n",
       "    </tr>\n",
       "    <tr>\n",
       "      <th>2</th>\n",
       "      <td>1</td>\n",
       "      <td>3</td>\n",
       "      <td>6240</td>\n",
       "      <td>0</td>\n",
       "      <td>13</td>\n",
       "      <td>6.216606</td>\n",
       "      <td>3</td>\n",
       "      <td>0</td>\n",
       "      <td>0</td>\n",
       "      <td>0</td>\n",
       "      <td>2</td>\n",
       "      <td>3.6</td>\n",
       "      <td>5</td>\n",
       "      <td>2</td>\n",
       "      <td>4.553877</td>\n",
       "    </tr>\n",
       "  </tbody>\n",
       "</table>\n",
       "</div>"
      ],
      "text/plain": [
       "   Country Code  Country  Restaurant Name  City  Locality  \\\n",
       "0             1        3             2876     0        13   \n",
       "1             1        3             4750     0        13   \n",
       "2             1        3             6240     0        13   \n",
       "\n",
       "   Average Cost for two  Currency  Has Table booking  Has Online delivery  \\\n",
       "0              6.746412         3                  0                    0   \n",
       "1              6.552508         3                  0                    0   \n",
       "2              6.216606         3                  0                    0   \n",
       "\n",
       "   Is delivering now  Price range  Aggregate rating  Rating color  \\\n",
       "0                  0            3               3.9             5   \n",
       "1                  0            2               3.5             5   \n",
       "2                  0            2               3.6             5   \n",
       "\n",
       "   Rating text     Votes  \n",
       "0            2  4.948760  \n",
       "1            2  4.276666  \n",
       "2            2  4.553877  "
      ]
     },
     "execution_count": 53,
     "metadata": {},
     "output_type": "execute_result"
    }
   ],
   "source": [
    "df.head(3)"
   ]
  },
  {
   "cell_type": "code",
   "execution_count": 54,
   "id": "b1eba0d0",
   "metadata": {},
   "outputs": [],
   "source": [
    "# Splitting for first target -- 'Average price for two'"
   ]
  },
  {
   "cell_type": "code",
   "execution_count": 55,
   "id": "dc28f6c2",
   "metadata": {},
   "outputs": [],
   "source": [
    "X = df.drop(['Average Cost for two'], axis =1)\n",
    "Y = df['Average Cost for two']\n"
   ]
  },
  {
   "cell_type": "code",
   "execution_count": 56,
   "id": "416a3f52",
   "metadata": {},
   "outputs": [
    {
     "data": {
      "text/html": [
       "<div>\n",
       "<style scoped>\n",
       "    .dataframe tbody tr th:only-of-type {\n",
       "        vertical-align: middle;\n",
       "    }\n",
       "\n",
       "    .dataframe tbody tr th {\n",
       "        vertical-align: top;\n",
       "    }\n",
       "\n",
       "    .dataframe thead th {\n",
       "        text-align: right;\n",
       "    }\n",
       "</style>\n",
       "<table border=\"1\" class=\"dataframe\">\n",
       "  <thead>\n",
       "    <tr style=\"text-align: right;\">\n",
       "      <th></th>\n",
       "      <th>Country Code</th>\n",
       "      <th>Country</th>\n",
       "      <th>Restaurant Name</th>\n",
       "      <th>City</th>\n",
       "      <th>Locality</th>\n",
       "      <th>Currency</th>\n",
       "      <th>Has Table booking</th>\n",
       "      <th>Has Online delivery</th>\n",
       "      <th>Is delivering now</th>\n",
       "      <th>Price range</th>\n",
       "      <th>Aggregate rating</th>\n",
       "      <th>Rating color</th>\n",
       "      <th>Rating text</th>\n",
       "      <th>Votes</th>\n",
       "    </tr>\n",
       "  </thead>\n",
       "  <tbody>\n",
       "    <tr>\n",
       "      <th>0</th>\n",
       "      <td>-0.121976</td>\n",
       "      <td>-0.009105</td>\n",
       "      <td>-0.211859</td>\n",
       "      <td>-3.587884</td>\n",
       "      <td>-2.005899</td>\n",
       "      <td>0.067252</td>\n",
       "      <td>-0.373878</td>\n",
       "      <td>-0.611743</td>\n",
       "      <td>-0.062666</td>\n",
       "      <td>1.455358</td>\n",
       "      <td>0.909250</td>\n",
       "      <td>1.391309</td>\n",
       "      <td>0.212137</td>\n",
       "      <td>0.974643</td>\n",
       "    </tr>\n",
       "    <tr>\n",
       "      <th>1</th>\n",
       "      <td>-0.121976</td>\n",
       "      <td>-0.009105</td>\n",
       "      <td>0.761246</td>\n",
       "      <td>-3.587884</td>\n",
       "      <td>-2.005899</td>\n",
       "      <td>0.067252</td>\n",
       "      <td>-0.373878</td>\n",
       "      <td>-0.611743</td>\n",
       "      <td>-0.062666</td>\n",
       "      <td>0.305465</td>\n",
       "      <td>0.644522</td>\n",
       "      <td>1.391309</td>\n",
       "      <td>0.212137</td>\n",
       "      <td>0.624188</td>\n",
       "    </tr>\n",
       "    <tr>\n",
       "      <th>2</th>\n",
       "      <td>-0.121976</td>\n",
       "      <td>-0.009105</td>\n",
       "      <td>1.534953</td>\n",
       "      <td>-3.587884</td>\n",
       "      <td>-2.005899</td>\n",
       "      <td>0.067252</td>\n",
       "      <td>-0.373878</td>\n",
       "      <td>-0.611743</td>\n",
       "      <td>-0.062666</td>\n",
       "      <td>0.305465</td>\n",
       "      <td>0.710704</td>\n",
       "      <td>1.391309</td>\n",
       "      <td>0.212137</td>\n",
       "      <td>0.768737</td>\n",
       "    </tr>\n",
       "    <tr>\n",
       "      <th>3</th>\n",
       "      <td>-0.121976</td>\n",
       "      <td>-0.009105</td>\n",
       "      <td>-0.926889</td>\n",
       "      <td>-3.587884</td>\n",
       "      <td>-1.493209</td>\n",
       "      <td>0.067252</td>\n",
       "      <td>-0.373878</td>\n",
       "      <td>-0.611743</td>\n",
       "      <td>-0.062666</td>\n",
       "      <td>0.305465</td>\n",
       "      <td>0.975432</td>\n",
       "      <td>-1.455839</td>\n",
       "      <td>2.060960</td>\n",
       "      <td>0.728826</td>\n",
       "    </tr>\n",
       "    <tr>\n",
       "      <th>4</th>\n",
       "      <td>-0.121976</td>\n",
       "      <td>-0.009105</td>\n",
       "      <td>0.592485</td>\n",
       "      <td>-3.587884</td>\n",
       "      <td>-1.493209</td>\n",
       "      <td>0.067252</td>\n",
       "      <td>-0.373878</td>\n",
       "      <td>-0.611743</td>\n",
       "      <td>-0.062666</td>\n",
       "      <td>1.455358</td>\n",
       "      <td>1.107797</td>\n",
       "      <td>-1.455839</td>\n",
       "      <td>2.060960</td>\n",
       "      <td>1.096151</td>\n",
       "    </tr>\n",
       "    <tr>\n",
       "      <th>...</th>\n",
       "      <td>...</td>\n",
       "      <td>...</td>\n",
       "      <td>...</td>\n",
       "      <td>...</td>\n",
       "      <td>...</td>\n",
       "      <td>...</td>\n",
       "      <td>...</td>\n",
       "      <td>...</td>\n",
       "      <td>...</td>\n",
       "      <td>...</td>\n",
       "      <td>...</td>\n",
       "      <td>...</td>\n",
       "      <td>...</td>\n",
       "      <td>...</td>\n",
       "    </tr>\n",
       "    <tr>\n",
       "      <th>8687</th>\n",
       "      <td>10.321505</td>\n",
       "      <td>11.297270</td>\n",
       "      <td>-0.266382</td>\n",
       "      <td>1.764194</td>\n",
       "      <td>0.105176</td>\n",
       "      <td>-3.728549</td>\n",
       "      <td>-0.373878</td>\n",
       "      <td>-0.611743</td>\n",
       "      <td>-0.062666</td>\n",
       "      <td>2.605252</td>\n",
       "      <td>0.445975</td>\n",
       "      <td>-0.744052</td>\n",
       "      <td>-1.020412</td>\n",
       "      <td>0.217384</td>\n",
       "    </tr>\n",
       "    <tr>\n",
       "      <th>8688</th>\n",
       "      <td>10.321505</td>\n",
       "      <td>11.297270</td>\n",
       "      <td>1.181333</td>\n",
       "      <td>1.764194</td>\n",
       "      <td>0.531699</td>\n",
       "      <td>-3.728549</td>\n",
       "      <td>-0.373878</td>\n",
       "      <td>-0.611743</td>\n",
       "      <td>-0.062666</td>\n",
       "      <td>2.605252</td>\n",
       "      <td>0.445975</td>\n",
       "      <td>-0.744052</td>\n",
       "      <td>-1.020412</td>\n",
       "      <td>0.184784</td>\n",
       "    </tr>\n",
       "    <tr>\n",
       "      <th>8689</th>\n",
       "      <td>10.321505</td>\n",
       "      <td>11.297270</td>\n",
       "      <td>-1.486659</td>\n",
       "      <td>1.764194</td>\n",
       "      <td>1.199489</td>\n",
       "      <td>-3.728549</td>\n",
       "      <td>-0.373878</td>\n",
       "      <td>-0.611743</td>\n",
       "      <td>-0.062666</td>\n",
       "      <td>1.455358</td>\n",
       "      <td>0.843068</td>\n",
       "      <td>1.391309</td>\n",
       "      <td>0.212137</td>\n",
       "      <td>0.150009</td>\n",
       "    </tr>\n",
       "    <tr>\n",
       "      <th>8690</th>\n",
       "      <td>10.321505</td>\n",
       "      <td>11.297270</td>\n",
       "      <td>-1.289857</td>\n",
       "      <td>1.764194</td>\n",
       "      <td>1.281347</td>\n",
       "      <td>-3.728549</td>\n",
       "      <td>-0.373878</td>\n",
       "      <td>-0.611743</td>\n",
       "      <td>-0.062666</td>\n",
       "      <td>1.455358</td>\n",
       "      <td>0.909250</td>\n",
       "      <td>1.391309</td>\n",
       "      <td>0.212137</td>\n",
       "      <td>0.262755</td>\n",
       "    </tr>\n",
       "    <tr>\n",
       "      <th>8691</th>\n",
       "      <td>10.321505</td>\n",
       "      <td>11.297270</td>\n",
       "      <td>-1.487178</td>\n",
       "      <td>1.764194</td>\n",
       "      <td>1.617395</td>\n",
       "      <td>-3.728549</td>\n",
       "      <td>-0.373878</td>\n",
       "      <td>-0.611743</td>\n",
       "      <td>-0.062666</td>\n",
       "      <td>2.605252</td>\n",
       "      <td>0.445975</td>\n",
       "      <td>-0.744052</td>\n",
       "      <td>-1.020412</td>\n",
       "      <td>0.232951</td>\n",
       "    </tr>\n",
       "  </tbody>\n",
       "</table>\n",
       "<p>8692 rows × 14 columns</p>\n",
       "</div>"
      ],
      "text/plain": [
       "      Country Code    Country  Restaurant Name      City  Locality  Currency  \\\n",
       "0        -0.121976  -0.009105        -0.211859 -3.587884 -2.005899  0.067252   \n",
       "1        -0.121976  -0.009105         0.761246 -3.587884 -2.005899  0.067252   \n",
       "2        -0.121976  -0.009105         1.534953 -3.587884 -2.005899  0.067252   \n",
       "3        -0.121976  -0.009105        -0.926889 -3.587884 -1.493209  0.067252   \n",
       "4        -0.121976  -0.009105         0.592485 -3.587884 -1.493209  0.067252   \n",
       "...            ...        ...              ...       ...       ...       ...   \n",
       "8687     10.321505  11.297270        -0.266382  1.764194  0.105176 -3.728549   \n",
       "8688     10.321505  11.297270         1.181333  1.764194  0.531699 -3.728549   \n",
       "8689     10.321505  11.297270        -1.486659  1.764194  1.199489 -3.728549   \n",
       "8690     10.321505  11.297270        -1.289857  1.764194  1.281347 -3.728549   \n",
       "8691     10.321505  11.297270        -1.487178  1.764194  1.617395 -3.728549   \n",
       "\n",
       "      Has Table booking  Has Online delivery  Is delivering now  Price range  \\\n",
       "0             -0.373878            -0.611743          -0.062666     1.455358   \n",
       "1             -0.373878            -0.611743          -0.062666     0.305465   \n",
       "2             -0.373878            -0.611743          -0.062666     0.305465   \n",
       "3             -0.373878            -0.611743          -0.062666     0.305465   \n",
       "4             -0.373878            -0.611743          -0.062666     1.455358   \n",
       "...                 ...                  ...                ...          ...   \n",
       "8687          -0.373878            -0.611743          -0.062666     2.605252   \n",
       "8688          -0.373878            -0.611743          -0.062666     2.605252   \n",
       "8689          -0.373878            -0.611743          -0.062666     1.455358   \n",
       "8690          -0.373878            -0.611743          -0.062666     1.455358   \n",
       "8691          -0.373878            -0.611743          -0.062666     2.605252   \n",
       "\n",
       "      Aggregate rating  Rating color  Rating text     Votes  \n",
       "0             0.909250      1.391309     0.212137  0.974643  \n",
       "1             0.644522      1.391309     0.212137  0.624188  \n",
       "2             0.710704      1.391309     0.212137  0.768737  \n",
       "3             0.975432     -1.455839     2.060960  0.728826  \n",
       "4             1.107797     -1.455839     2.060960  1.096151  \n",
       "...                ...           ...          ...       ...  \n",
       "8687          0.445975     -0.744052    -1.020412  0.217384  \n",
       "8688          0.445975     -0.744052    -1.020412  0.184784  \n",
       "8689          0.843068      1.391309     0.212137  0.150009  \n",
       "8690          0.909250      1.391309     0.212137  0.262755  \n",
       "8691          0.445975     -0.744052    -1.020412  0.232951  \n",
       "\n",
       "[8692 rows x 14 columns]"
      ]
     },
     "execution_count": 56,
     "metadata": {},
     "output_type": "execute_result"
    }
   ],
   "source": [
    "st= StandardScaler()\n",
    "X_scale = st.fit_transform(X)\n",
    "X = pd.DataFrame(X_scale, columns=X.columns)\n",
    "X"
   ]
  },
  {
   "cell_type": "code",
   "execution_count": 60,
   "id": "b1c0f291",
   "metadata": {},
   "outputs": [],
   "source": [
    "from sklearn.metrics import mean_absolute_error, mean_squared_error, r2_score\n",
    "LR = LinearRegression()\n",
    "RD = Ridge()\n",
    "LS = Lasso()\n",
    "DTC = DecisionTreeRegressor()\n",
    "KNR = KNeighborsRegressor()\n",
    "RFR = RandomForestRegressor()\n",
    "GB = GradientBoostingRegressor()\n",
    "ADA= AdaBoostRegressor()\n",
    "\n",
    "\n",
    "\n",
    "models = [LR,RD,LS,DTC,KNR,RFR,GB,ADA]"
   ]
  },
  {
   "cell_type": "code",
   "execution_count": 61,
   "id": "5660498b",
   "metadata": {},
   "outputs": [
    {
     "name": "stdout",
     "output_type": "stream",
     "text": [
      "Best accuracy: 0.7947337725652172 best Random_state: 24\n"
     ]
    }
   ],
   "source": [
    "# Checking best random state\n",
    "max_accu=0\n",
    "max_rs=0\n",
    "for i in range(1,100):\n",
    "    Xtrain,Xtest,Ytrain,Ytest = train_test_split(X,Y,test_size = 0.3, random_state=i)\n",
    "    LR=LinearRegression()\n",
    "    LR.fit(Xtrain,Ytrain)\n",
    "    ypred=LR.predict(Xtest)\n",
    "    acc=r2_score(Ytest,ypred)\n",
    "    if acc>max_accu:\n",
    "        max_accu=acc\n",
    "        maxrs=i\n",
    "print('Best accuracy:', max_accu ,'best Random_state:', maxrs)"
   ]
  },
  {
   "cell_type": "code",
   "execution_count": 63,
   "id": "bef9a3de",
   "metadata": {},
   "outputs": [
    {
     "name": "stdout",
     "output_type": "stream",
     "text": [
      "LinearRegression()\n",
      "0.2637248046630842\n",
      "0.7343337722244033\n",
      "====================================================================================================\n",
      "Ridge()\n",
      "0.26372460037285667\n",
      "0.7341896952751439\n",
      "====================================================================================================\n",
      "Lasso()\n",
      "0.5908666589456866\n",
      "-1.9419688674282158e+29\n",
      "====================================================================================================\n",
      "DecisionTreeRegressor()\n",
      "0.31198717029422024\n",
      "0.6473940438867694\n",
      "====================================================================================================\n",
      "KNeighborsRegressor()\n",
      "0.2749982029594731\n",
      "0.7273374392121594\n",
      "====================================================================================================\n",
      "RandomForestRegressor()\n",
      "0.24050937594804458\n",
      "0.7847417029833067\n",
      "====================================================================================================\n",
      "GradientBoostingRegressor()\n",
      "0.24366395166060942\n",
      "0.7738651226554306\n",
      "====================================================================================================\n",
      "AdaBoostRegressor()\n",
      "0.3234939386461084\n",
      "0.5494574076546279\n",
      "====================================================================================================\n"
     ]
    }
   ],
   "source": [
    "xtrain,xtest,ytrain,ytest=train_test_split(X,Y,test_size=.3,random_state=24)\n",
    "for i in models:\n",
    "    i.fit(xtrain,ytrain)\n",
    "    pred=i.predict(xtest)\n",
    "    print(i)\n",
    "    print(mean_absolute_error(pred,ytest))\n",
    "    print(r2_score(pred,ytest))\n",
    "    print('=='*50)"
   ]
  },
  {
   "cell_type": "code",
   "execution_count": 64,
   "id": "c6c7c95a",
   "metadata": {},
   "outputs": [],
   "source": [
    "# Random forest and Gradient boosting has more accuracy than others."
   ]
  },
  {
   "cell_type": "code",
   "execution_count": 65,
   "id": "10924cb3",
   "metadata": {},
   "outputs": [],
   "source": [
    "# Second target -- 'Price range'\n",
    "x = df1.drop(['Price range'], axis =1)\n",
    "y = df1['Price range']"
   ]
  },
  {
   "cell_type": "code",
   "execution_count": 66,
   "id": "81e5adba",
   "metadata": {},
   "outputs": [
    {
     "data": {
      "text/plain": [
       "1    4298\n",
       "2    2855\n",
       "3    1089\n",
       "4     450\n",
       "Name: Price range, dtype: int64"
      ]
     },
     "execution_count": 66,
     "metadata": {},
     "output_type": "execute_result"
    }
   ],
   "source": [
    "y.value_counts()"
   ]
  },
  {
   "cell_type": "code",
   "execution_count": 67,
   "id": "fa17deba",
   "metadata": {},
   "outputs": [
    {
     "data": {
      "text/plain": [
       "3    4298\n",
       "2    4298\n",
       "4    4298\n",
       "1    4298\n",
       "Name: Price range, dtype: int64"
      ]
     },
     "execution_count": 67,
     "metadata": {},
     "output_type": "execute_result"
    }
   ],
   "source": [
    "sm=SMOTE()\n",
    "\n",
    "x,y=sm.fit_resample(x,y)\n",
    "y.value_counts()"
   ]
  },
  {
   "cell_type": "code",
   "execution_count": 68,
   "id": "f221d09c",
   "metadata": {},
   "outputs": [
    {
     "data": {
      "text/html": [
       "<div>\n",
       "<style scoped>\n",
       "    .dataframe tbody tr th:only-of-type {\n",
       "        vertical-align: middle;\n",
       "    }\n",
       "\n",
       "    .dataframe tbody tr th {\n",
       "        vertical-align: top;\n",
       "    }\n",
       "\n",
       "    .dataframe thead th {\n",
       "        text-align: right;\n",
       "    }\n",
       "</style>\n",
       "<table border=\"1\" class=\"dataframe\">\n",
       "  <thead>\n",
       "    <tr style=\"text-align: right;\">\n",
       "      <th></th>\n",
       "      <th>Country Code</th>\n",
       "      <th>Country</th>\n",
       "      <th>Restaurant Name</th>\n",
       "      <th>City</th>\n",
       "      <th>Locality</th>\n",
       "      <th>Average Cost for two</th>\n",
       "      <th>Currency</th>\n",
       "      <th>Has Table booking</th>\n",
       "      <th>Has Online delivery</th>\n",
       "      <th>Is delivering now</th>\n",
       "      <th>Aggregate rating</th>\n",
       "      <th>Rating color</th>\n",
       "      <th>Rating text</th>\n",
       "      <th>Votes</th>\n",
       "    </tr>\n",
       "  </thead>\n",
       "  <tbody>\n",
       "    <tr>\n",
       "      <th>0</th>\n",
       "      <td>-0.221130</td>\n",
       "      <td>0.049313</td>\n",
       "      <td>-0.262711</td>\n",
       "      <td>-3.428197</td>\n",
       "      <td>-1.883083</td>\n",
       "      <td>0.188484</td>\n",
       "      <td>0.212067</td>\n",
       "      <td>-0.507949</td>\n",
       "      <td>-0.47538</td>\n",
       "      <td>-0.045166</td>\n",
       "      <td>0.688198</td>\n",
       "      <td>1.494107</td>\n",
       "      <td>0.192669</td>\n",
       "      <td>0.641708</td>\n",
       "    </tr>\n",
       "    <tr>\n",
       "      <th>1</th>\n",
       "      <td>-0.221130</td>\n",
       "      <td>0.049313</td>\n",
       "      <td>0.694695</td>\n",
       "      <td>-3.428197</td>\n",
       "      <td>-1.883083</td>\n",
       "      <td>-0.020396</td>\n",
       "      <td>0.212067</td>\n",
       "      <td>-0.507949</td>\n",
       "      <td>-0.47538</td>\n",
       "      <td>-0.045166</td>\n",
       "      <td>0.380452</td>\n",
       "      <td>1.494107</td>\n",
       "      <td>0.192669</td>\n",
       "      <td>0.267337</td>\n",
       "    </tr>\n",
       "    <tr>\n",
       "      <th>2</th>\n",
       "      <td>-0.221130</td>\n",
       "      <td>0.049313</td>\n",
       "      <td>1.455919</td>\n",
       "      <td>-3.428197</td>\n",
       "      <td>-1.883083</td>\n",
       "      <td>-0.382241</td>\n",
       "      <td>0.212067</td>\n",
       "      <td>-0.507949</td>\n",
       "      <td>-0.47538</td>\n",
       "      <td>-0.045166</td>\n",
       "      <td>0.457388</td>\n",
       "      <td>1.494107</td>\n",
       "      <td>0.192669</td>\n",
       "      <td>0.421749</td>\n",
       "    </tr>\n",
       "    <tr>\n",
       "      <th>3</th>\n",
       "      <td>-0.221130</td>\n",
       "      <td>0.049313</td>\n",
       "      <td>-0.966205</td>\n",
       "      <td>-3.428197</td>\n",
       "      <td>-1.389163</td>\n",
       "      <td>-0.622081</td>\n",
       "      <td>0.212067</td>\n",
       "      <td>-0.507949</td>\n",
       "      <td>-0.47538</td>\n",
       "      <td>-0.045166</td>\n",
       "      <td>0.765135</td>\n",
       "      <td>-1.224420</td>\n",
       "      <td>2.130099</td>\n",
       "      <td>0.379115</td>\n",
       "    </tr>\n",
       "    <tr>\n",
       "      <th>4</th>\n",
       "      <td>-0.221130</td>\n",
       "      <td>0.049313</td>\n",
       "      <td>0.528656</td>\n",
       "      <td>-3.428197</td>\n",
       "      <td>-1.389163</td>\n",
       "      <td>0.363364</td>\n",
       "      <td>0.212067</td>\n",
       "      <td>-0.507949</td>\n",
       "      <td>-0.47538</td>\n",
       "      <td>-0.045166</td>\n",
       "      <td>0.919008</td>\n",
       "      <td>-1.224420</td>\n",
       "      <td>2.130099</td>\n",
       "      <td>0.771507</td>\n",
       "    </tr>\n",
       "    <tr>\n",
       "      <th>...</th>\n",
       "      <td>...</td>\n",
       "      <td>...</td>\n",
       "      <td>...</td>\n",
       "      <td>...</td>\n",
       "      <td>...</td>\n",
       "      <td>...</td>\n",
       "      <td>...</td>\n",
       "      <td>...</td>\n",
       "      <td>...</td>\n",
       "      <td>...</td>\n",
       "      <td>...</td>\n",
       "      <td>...</td>\n",
       "      <td>...</td>\n",
       "      <td>...</td>\n",
       "    </tr>\n",
       "    <tr>\n",
       "      <th>17187</th>\n",
       "      <td>-0.221130</td>\n",
       "      <td>0.049313</td>\n",
       "      <td>-0.337812</td>\n",
       "      <td>0.754646</td>\n",
       "      <td>1.350222</td>\n",
       "      <td>1.861295</td>\n",
       "      <td>0.212067</td>\n",
       "      <td>-0.507949</td>\n",
       "      <td>-0.47538</td>\n",
       "      <td>-0.045166</td>\n",
       "      <td>0.694382</td>\n",
       "      <td>-1.224420</td>\n",
       "      <td>1.484289</td>\n",
       "      <td>1.061491</td>\n",
       "    </tr>\n",
       "    <tr>\n",
       "      <th>17188</th>\n",
       "      <td>-0.221130</td>\n",
       "      <td>0.049313</td>\n",
       "      <td>-1.215008</td>\n",
       "      <td>-0.038651</td>\n",
       "      <td>-1.007310</td>\n",
       "      <td>1.334102</td>\n",
       "      <td>0.212067</td>\n",
       "      <td>1.968700</td>\n",
       "      <td>-0.47538</td>\n",
       "      <td>-0.045166</td>\n",
       "      <td>0.688198</td>\n",
       "      <td>1.494107</td>\n",
       "      <td>0.192669</td>\n",
       "      <td>1.056863</td>\n",
       "    </tr>\n",
       "    <tr>\n",
       "      <th>17189</th>\n",
       "      <td>-0.221130</td>\n",
       "      <td>0.049313</td>\n",
       "      <td>-1.419875</td>\n",
       "      <td>-1.625247</td>\n",
       "      <td>0.520105</td>\n",
       "      <td>0.869264</td>\n",
       "      <td>0.212067</td>\n",
       "      <td>-0.507949</td>\n",
       "      <td>-0.47538</td>\n",
       "      <td>-0.045166</td>\n",
       "      <td>1.155847</td>\n",
       "      <td>-1.904052</td>\n",
       "      <td>0.838479</td>\n",
       "      <td>0.782010</td>\n",
       "    </tr>\n",
       "    <tr>\n",
       "      <th>17190</th>\n",
       "      <td>-0.221130</td>\n",
       "      <td>0.049313</td>\n",
       "      <td>-1.149104</td>\n",
       "      <td>-1.264657</td>\n",
       "      <td>-1.223140</td>\n",
       "      <td>1.316150</td>\n",
       "      <td>0.212067</td>\n",
       "      <td>1.968700</td>\n",
       "      <td>-0.47538</td>\n",
       "      <td>-0.045166</td>\n",
       "      <td>0.502022</td>\n",
       "      <td>0.814475</td>\n",
       "      <td>-0.453141</td>\n",
       "      <td>1.587842</td>\n",
       "    </tr>\n",
       "    <tr>\n",
       "      <th>17191</th>\n",
       "      <td>0.168637</td>\n",
       "      <td>-1.895167</td>\n",
       "      <td>-1.671743</td>\n",
       "      <td>0.971000</td>\n",
       "      <td>-0.114934</td>\n",
       "      <td>0.525335</td>\n",
       "      <td>-2.008308</td>\n",
       "      <td>-0.507949</td>\n",
       "      <td>-0.47538</td>\n",
       "      <td>-0.045166</td>\n",
       "      <td>0.209911</td>\n",
       "      <td>-1.224420</td>\n",
       "      <td>-0.453141</td>\n",
       "      <td>-0.227244</td>\n",
       "    </tr>\n",
       "  </tbody>\n",
       "</table>\n",
       "<p>17192 rows × 14 columns</p>\n",
       "</div>"
      ],
      "text/plain": [
       "       Country Code   Country  Restaurant Name      City  Locality  \\\n",
       "0         -0.221130  0.049313        -0.262711 -3.428197 -1.883083   \n",
       "1         -0.221130  0.049313         0.694695 -3.428197 -1.883083   \n",
       "2         -0.221130  0.049313         1.455919 -3.428197 -1.883083   \n",
       "3         -0.221130  0.049313        -0.966205 -3.428197 -1.389163   \n",
       "4         -0.221130  0.049313         0.528656 -3.428197 -1.389163   \n",
       "...             ...       ...              ...       ...       ...   \n",
       "17187     -0.221130  0.049313        -0.337812  0.754646  1.350222   \n",
       "17188     -0.221130  0.049313        -1.215008 -0.038651 -1.007310   \n",
       "17189     -0.221130  0.049313        -1.419875 -1.625247  0.520105   \n",
       "17190     -0.221130  0.049313        -1.149104 -1.264657 -1.223140   \n",
       "17191      0.168637 -1.895167        -1.671743  0.971000 -0.114934   \n",
       "\n",
       "       Average Cost for two  Currency  Has Table booking  Has Online delivery  \\\n",
       "0                  0.188484  0.212067          -0.507949             -0.47538   \n",
       "1                 -0.020396  0.212067          -0.507949             -0.47538   \n",
       "2                 -0.382241  0.212067          -0.507949             -0.47538   \n",
       "3                 -0.622081  0.212067          -0.507949             -0.47538   \n",
       "4                  0.363364  0.212067          -0.507949             -0.47538   \n",
       "...                     ...       ...                ...                  ...   \n",
       "17187              1.861295  0.212067          -0.507949             -0.47538   \n",
       "17188              1.334102  0.212067           1.968700             -0.47538   \n",
       "17189              0.869264  0.212067          -0.507949             -0.47538   \n",
       "17190              1.316150  0.212067           1.968700             -0.47538   \n",
       "17191              0.525335 -2.008308          -0.507949             -0.47538   \n",
       "\n",
       "       Is delivering now  Aggregate rating  Rating color  Rating text  \\\n",
       "0              -0.045166          0.688198      1.494107     0.192669   \n",
       "1              -0.045166          0.380452      1.494107     0.192669   \n",
       "2              -0.045166          0.457388      1.494107     0.192669   \n",
       "3              -0.045166          0.765135     -1.224420     2.130099   \n",
       "4              -0.045166          0.919008     -1.224420     2.130099   \n",
       "...                  ...               ...           ...          ...   \n",
       "17187          -0.045166          0.694382     -1.224420     1.484289   \n",
       "17188          -0.045166          0.688198      1.494107     0.192669   \n",
       "17189          -0.045166          1.155847     -1.904052     0.838479   \n",
       "17190          -0.045166          0.502022      0.814475    -0.453141   \n",
       "17191          -0.045166          0.209911     -1.224420    -0.453141   \n",
       "\n",
       "          Votes  \n",
       "0      0.641708  \n",
       "1      0.267337  \n",
       "2      0.421749  \n",
       "3      0.379115  \n",
       "4      0.771507  \n",
       "...         ...  \n",
       "17187  1.061491  \n",
       "17188  1.056863  \n",
       "17189  0.782010  \n",
       "17190  1.587842  \n",
       "17191 -0.227244  \n",
       "\n",
       "[17192 rows x 14 columns]"
      ]
     },
     "execution_count": 68,
     "metadata": {},
     "output_type": "execute_result"
    }
   ],
   "source": [
    "x_scale = st.fit_transform(x)\n",
    "x = pd.DataFrame(x_scale, columns=x.columns)\n",
    "x"
   ]
  },
  {
   "cell_type": "code",
   "execution_count": 69,
   "id": "0b757c82",
   "metadata": {},
   "outputs": [],
   "source": [
    "\n",
    "DTC = DecisionTreeClassifier()\n",
    "KNC = KNeighborsClassifier()\n",
    "RFC = RandomForestClassifier()\n",
    "ETC=ExtraTreesClassifier()\n",
    "GBC = GradientBoostingClassifier()\n",
    "SGD=SGDClassifier()\n",
    "ABC=AdaBoostClassifier()\n",
    "\n",
    "\n",
    "model = [DTC,KNC,RFC,GBC,ETC,ABC,SGD]"
   ]
  },
  {
   "cell_type": "code",
   "execution_count": 70,
   "id": "3dda9016",
   "metadata": {},
   "outputs": [
    {
     "name": "stdout",
     "output_type": "stream",
     "text": [
      "Best accuracy: 0.9732454439705313 best Random_state: 95\n"
     ]
    }
   ],
   "source": [
    "# Checking best random state\n",
    "max_accu=0\n",
    "max_rs=0\n",
    "for i in range(1,100):\n",
    "    x_train,x_test,y_train,y_test = train_test_split(x,y,test_size = 0.3, random_state=i)\n",
    "    DTC=DecisionTreeClassifier()\n",
    "    DTC.fit(x_train,y_train)\n",
    "    y_pred=DTC.predict(x_test)\n",
    "    acc=accuracy_score(y_pred,y_test)\n",
    "    if acc>max_accu:\n",
    "        max_accu=acc\n",
    "        maxrs=i\n",
    "print('Best accuracy:', max_accu ,'best Random_state:', maxrs)"
   ]
  },
  {
   "cell_type": "code",
   "execution_count": 71,
   "id": "6e6f1fb4",
   "metadata": {},
   "outputs": [
    {
     "name": "stdout",
     "output_type": "stream",
     "text": [
      "DecisionTreeClassifier()\n",
      "0.9651027530050407\n",
      "              precision    recall  f1-score   support\n",
      "\n",
      "           1       0.99      0.99      0.99      1352\n",
      "           2       0.97      0.97      0.97      1293\n",
      "           3       0.93      0.95      0.94      1237\n",
      "           4       0.96      0.95      0.96      1276\n",
      "\n",
      "    accuracy                           0.97      5158\n",
      "   macro avg       0.96      0.96      0.96      5158\n",
      "weighted avg       0.97      0.97      0.97      5158\n",
      "\n",
      "[[1342   10    0    0]\n",
      " [   7 1256   27    3]\n",
      " [   0   24 1169   44]\n",
      " [   0    1   64 1211]]\n",
      "KNeighborsClassifier()\n",
      "0.8631252423419931\n",
      "              precision    recall  f1-score   support\n",
      "\n",
      "           1       0.89      0.94      0.91      1288\n",
      "           2       0.83      0.81      0.82      1333\n",
      "           3       0.80      0.82      0.81      1216\n",
      "           4       0.93      0.88      0.91      1321\n",
      "\n",
      "    accuracy                           0.86      5158\n",
      "   macro avg       0.86      0.86      0.86      5158\n",
      "weighted avg       0.86      0.86      0.86      5158\n",
      "\n",
      "[[1206   81    1    0]\n",
      " [ 139 1076  116    2]\n",
      " [   2  124 1002   88]\n",
      " [   2   10  141 1168]]\n",
      "RandomForestClassifier()\n",
      "0.97712291585886\n",
      "              precision    recall  f1-score   support\n",
      "\n",
      "           1       0.99      0.99      0.99      1347\n",
      "           2       0.98      0.98      0.98      1285\n",
      "           3       0.95      0.97      0.96      1236\n",
      "           4       0.99      0.96      0.97      1290\n",
      "\n",
      "    accuracy                           0.98      5158\n",
      "   macro avg       0.98      0.98      0.98      5158\n",
      "weighted avg       0.98      0.98      0.98      5158\n",
      "\n",
      "[[1340    7    0    0]\n",
      " [   7 1261   17    0]\n",
      " [   2   19 1198   17]\n",
      " [   0    4   45 1241]]\n",
      "GradientBoostingClassifier()\n",
      "0.9656843737882901\n",
      "              precision    recall  f1-score   support\n",
      "\n",
      "           1       1.00      0.99      0.99      1356\n",
      "           2       0.97      0.97      0.97      1296\n",
      "           3       0.93      0.94      0.94      1250\n",
      "           4       0.96      0.96      0.96      1256\n",
      "\n",
      "    accuracy                           0.97      5158\n",
      "   macro avg       0.97      0.97      0.97      5158\n",
      "weighted avg       0.97      0.97      0.97      5158\n",
      "\n",
      "[[1344   12    0    0]\n",
      " [   5 1257   34    0]\n",
      " [   0   22 1175   53]\n",
      " [   0    0   51 1205]]\n",
      "ExtraTreesClassifier()\n",
      "0.969174098487786\n",
      "              precision    recall  f1-score   support\n",
      "\n",
      "           1       0.98      0.99      0.99      1327\n",
      "           2       0.96      0.96      0.96      1291\n",
      "           3       0.95      0.96      0.95      1249\n",
      "           4       0.99      0.96      0.97      1291\n",
      "\n",
      "    accuracy                           0.97      5158\n",
      "   macro avg       0.97      0.97      0.97      5158\n",
      "weighted avg       0.97      0.97      0.97      5158\n",
      "\n",
      "[[1320    7    0    0]\n",
      " [  27 1244   20    0]\n",
      " [   2   36 1194   17]\n",
      " [   0    4   46 1241]]\n",
      "AdaBoostClassifier()\n",
      "0.7128732066692517\n",
      "              precision    recall  f1-score   support\n",
      "\n",
      "           1       1.00      0.99      0.99      1365\n",
      "           2       0.97      0.49      0.65      2555\n",
      "           3       0.02      0.23      0.04       106\n",
      "           4       0.83      0.93      0.88      1132\n",
      "\n",
      "    accuracy                           0.71      5158\n",
      "   macro avg       0.71      0.66      0.64      5158\n",
      "weighted avg       0.93      0.71      0.78      5158\n",
      "\n",
      "[[1345   20    0    0]\n",
      " [   4 1258 1161  132]\n",
      " [   0    6   24   76]\n",
      " [   0    7   75 1050]]\n",
      "SGDClassifier()\n",
      "0.8026366808840636\n",
      "              precision    recall  f1-score   support\n",
      "\n",
      "           1       0.97      0.92      0.95      1419\n",
      "           2       0.74      0.74      0.74      1291\n",
      "           3       0.53      0.71      0.61       943\n",
      "           4       0.96      0.80      0.87      1505\n",
      "\n",
      "    accuracy                           0.80      5158\n",
      "   macro avg       0.80      0.79      0.79      5158\n",
      "weighted avg       0.83      0.80      0.81      5158\n",
      "\n",
      "[[1311  108    0    0]\n",
      " [  35  951  292   13]\n",
      " [   3  231  671   38]\n",
      " [   0    1  297 1207]]\n"
     ]
    }
   ],
   "source": [
    "x_train,x_test,y_train,y_test=train_test_split(x,y,test_size=.3,random_state=25)\n",
    "for i in model:\n",
    "    i.fit(x_train,y_train)\n",
    "    Ypred=i.predict(x_test)\n",
    "    print(i)\n",
    "    print(accuracy_score(Ypred,y_test))\n",
    "    print(classification_report(Ypred,y_test))\n",
    "    print(confusion_matrix(Ypred,y_test))"
   ]
  },
  {
   "cell_type": "code",
   "execution_count": 72,
   "id": "9dc95624",
   "metadata": {},
   "outputs": [],
   "source": [
    "# Random forest has more accuracy than others."
   ]
  }
 ],
 "metadata": {
  "kernelspec": {
   "display_name": "Python 3 (ipykernel)",
   "language": "python",
   "name": "python3"
  },
  "language_info": {
   "codemirror_mode": {
    "name": "ipython",
    "version": 3
   },
   "file_extension": ".py",
   "mimetype": "text/x-python",
   "name": "python",
   "nbconvert_exporter": "python",
   "pygments_lexer": "ipython3",
   "version": "3.11.3"
  }
 },
 "nbformat": 4,
 "nbformat_minor": 5
}
