{
 "cells": [
  {
   "cell_type": "markdown",
   "id": "96e2cfce",
   "metadata": {},
   "source": [
    "# GLOBAL_POWER_PLANT"
   ]
  },
  {
   "cell_type": "code",
   "execution_count": 1,
   "id": "96ece871",
   "metadata": {},
   "outputs": [],
   "source": [
    "import pandas as pd\n",
    "import numpy as np\n",
    "import seaborn as sns\n",
    "import matplotlib.pyplot as plt\n",
    "import warnings\n",
    "warnings.filterwarnings('ignore')\n",
    "from sklearn.preprocessing import LabelEncoder\n",
    "from scipy.stats import zscore,boxcox\n",
    "from sklearn.preprocessing import MinMaxScaler\n",
    "from sklearn.model_selection import train_test_split\n",
    "from sklearn.linear_model import LinearRegression\n",
    "from sklearn.tree import DecisionTreeRegressor\n",
    "from sklearn.tree import DecisionTreeClassifier\n",
    "from sklearn.ensemble import GradientBoostingRegressor\n",
    "from sklearn.linear_model import Ridge\n",
    "from sklearn.svm import SVR\n",
    "from sklearn.svm import SVC\n",
    "from sklearn.ensemble import RandomForestRegressor\n",
    "from sklearn.ensemble import RandomForestClassifier\n",
    "from sklearn.model_selection import GridSearchCV\n",
    "from sklearn.metrics import mean_squared_error,r2_score,mean_absolute_error\n",
    "from sklearn.metrics import accuracy_score,confusion_matrix,classification_report\n",
    "from sklearn.metrics import roc_curve\n",
    "from sklearn.metrics import roc_auc_score"
   ]
  },
  {
   "cell_type": "code",
   "execution_count": 2,
   "id": "eb0e3a60",
   "metadata": {},
   "outputs": [],
   "source": [
    "df1=pd.read_csv('power plant(AUS)')\n",
    "df2=pd.read_csv('power plant(IND)')\n",
    "df3=pd.read_csv('power plant(USA)')"
   ]
  },
  {
   "cell_type": "code",
   "execution_count": 3,
   "id": "5e42f4ae",
   "metadata": {},
   "outputs": [
    {
     "data": {
      "text/html": [
       "<div>\n",
       "<style scoped>\n",
       "    .dataframe tbody tr th:only-of-type {\n",
       "        vertical-align: middle;\n",
       "    }\n",
       "\n",
       "    .dataframe tbody tr th {\n",
       "        vertical-align: top;\n",
       "    }\n",
       "\n",
       "    .dataframe thead th {\n",
       "        text-align: right;\n",
       "    }\n",
       "</style>\n",
       "<table border=\"1\" class=\"dataframe\">\n",
       "  <thead>\n",
       "    <tr style=\"text-align: right;\">\n",
       "      <th></th>\n",
       "      <th>country</th>\n",
       "      <th>country_long</th>\n",
       "      <th>name</th>\n",
       "      <th>gppd_idnr</th>\n",
       "      <th>capacity_mw</th>\n",
       "      <th>latitude</th>\n",
       "      <th>longitude</th>\n",
       "      <th>primary_fuel</th>\n",
       "      <th>other_fuel1</th>\n",
       "      <th>other_fuel2</th>\n",
       "      <th>...</th>\n",
       "      <th>year_of_capacity_data</th>\n",
       "      <th>generation_gwh_2013</th>\n",
       "      <th>generation_gwh_2014</th>\n",
       "      <th>generation_gwh_2015</th>\n",
       "      <th>generation_gwh_2016</th>\n",
       "      <th>generation_gwh_2017</th>\n",
       "      <th>generation_gwh_2018</th>\n",
       "      <th>generation_gwh_2019</th>\n",
       "      <th>generation_data_source</th>\n",
       "      <th>estimated_generation_gwh</th>\n",
       "    </tr>\n",
       "  </thead>\n",
       "  <tbody>\n",
       "    <tr>\n",
       "      <th>0</th>\n",
       "      <td>AUS</td>\n",
       "      <td>Australia</td>\n",
       "      <td>Adelaide Airport</td>\n",
       "      <td>AUS0000433</td>\n",
       "      <td>0.11</td>\n",
       "      <td>-34.9387</td>\n",
       "      <td>138.5377</td>\n",
       "      <td>Solar</td>\n",
       "      <td>NaN</td>\n",
       "      <td>NaN</td>\n",
       "      <td>...</td>\n",
       "      <td>2019.0</td>\n",
       "      <td>NaN</td>\n",
       "      <td>NaN</td>\n",
       "      <td>NaN</td>\n",
       "      <td>NaN</td>\n",
       "      <td>NaN</td>\n",
       "      <td>NaN</td>\n",
       "      <td>NaN</td>\n",
       "      <td>NaN</td>\n",
       "      <td>NaN</td>\n",
       "    </tr>\n",
       "    <tr>\n",
       "      <th>1</th>\n",
       "      <td>AUS</td>\n",
       "      <td>Australia</td>\n",
       "      <td>Adelaide Showgrounds</td>\n",
       "      <td>AUS0000432</td>\n",
       "      <td>1.00</td>\n",
       "      <td>-34.9453</td>\n",
       "      <td>138.5882</td>\n",
       "      <td>Solar</td>\n",
       "      <td>NaN</td>\n",
       "      <td>NaN</td>\n",
       "      <td>...</td>\n",
       "      <td>2019.0</td>\n",
       "      <td>NaN</td>\n",
       "      <td>NaN</td>\n",
       "      <td>NaN</td>\n",
       "      <td>NaN</td>\n",
       "      <td>NaN</td>\n",
       "      <td>NaN</td>\n",
       "      <td>NaN</td>\n",
       "      <td>NaN</td>\n",
       "      <td>NaN</td>\n",
       "    </tr>\n",
       "    <tr>\n",
       "      <th>2</th>\n",
       "      <td>AUS</td>\n",
       "      <td>Australia</td>\n",
       "      <td>Albany Wind Farm</td>\n",
       "      <td>AUS0000065</td>\n",
       "      <td>21.60</td>\n",
       "      <td>-35.0641</td>\n",
       "      <td>117.7977</td>\n",
       "      <td>Wind</td>\n",
       "      <td>NaN</td>\n",
       "      <td>NaN</td>\n",
       "      <td>...</td>\n",
       "      <td>2019.0</td>\n",
       "      <td>89.595278</td>\n",
       "      <td>102.642778</td>\n",
       "      <td>96.555556</td>\n",
       "      <td>95.872778</td>\n",
       "      <td>85.900278</td>\n",
       "      <td>92.682222</td>\n",
       "      <td>NaN</td>\n",
       "      <td>Australia Clean Energy Regulator</td>\n",
       "      <td>NaN</td>\n",
       "    </tr>\n",
       "    <tr>\n",
       "      <th>3</th>\n",
       "      <td>AUS</td>\n",
       "      <td>Australia</td>\n",
       "      <td>Alice Springs Airport</td>\n",
       "      <td>AUS0000469</td>\n",
       "      <td>0.24</td>\n",
       "      <td>-23.7966</td>\n",
       "      <td>133.8971</td>\n",
       "      <td>Solar</td>\n",
       "      <td>NaN</td>\n",
       "      <td>NaN</td>\n",
       "      <td>...</td>\n",
       "      <td>2019.0</td>\n",
       "      <td>NaN</td>\n",
       "      <td>NaN</td>\n",
       "      <td>NaN</td>\n",
       "      <td>NaN</td>\n",
       "      <td>NaN</td>\n",
       "      <td>NaN</td>\n",
       "      <td>NaN</td>\n",
       "      <td>NaN</td>\n",
       "      <td>NaN</td>\n",
       "    </tr>\n",
       "    <tr>\n",
       "      <th>4</th>\n",
       "      <td>AUS</td>\n",
       "      <td>Australia</td>\n",
       "      <td>Amcor Gawler</td>\n",
       "      <td>AUS0000231</td>\n",
       "      <td>4.00</td>\n",
       "      <td>-34.5509</td>\n",
       "      <td>138.7659</td>\n",
       "      <td>Oil</td>\n",
       "      <td>NaN</td>\n",
       "      <td>NaN</td>\n",
       "      <td>...</td>\n",
       "      <td>2019.0</td>\n",
       "      <td>NaN</td>\n",
       "      <td>NaN</td>\n",
       "      <td>NaN</td>\n",
       "      <td>NaN</td>\n",
       "      <td>NaN</td>\n",
       "      <td>NaN</td>\n",
       "      <td>NaN</td>\n",
       "      <td>NaN</td>\n",
       "      <td>NaN</td>\n",
       "    </tr>\n",
       "  </tbody>\n",
       "</table>\n",
       "<p>5 rows × 27 columns</p>\n",
       "</div>"
      ],
      "text/plain": [
       "  country country_long                   name   gppd_idnr  capacity_mw  \\\n",
       "0     AUS    Australia       Adelaide Airport  AUS0000433         0.11   \n",
       "1     AUS    Australia   Adelaide Showgrounds  AUS0000432         1.00   \n",
       "2     AUS    Australia       Albany Wind Farm  AUS0000065        21.60   \n",
       "3     AUS    Australia  Alice Springs Airport  AUS0000469         0.24   \n",
       "4     AUS    Australia           Amcor Gawler  AUS0000231         4.00   \n",
       "\n",
       "   latitude  longitude primary_fuel  other_fuel1  other_fuel2  ...  \\\n",
       "0  -34.9387   138.5377        Solar          NaN          NaN  ...   \n",
       "1  -34.9453   138.5882        Solar          NaN          NaN  ...   \n",
       "2  -35.0641   117.7977         Wind          NaN          NaN  ...   \n",
       "3  -23.7966   133.8971        Solar          NaN          NaN  ...   \n",
       "4  -34.5509   138.7659          Oil          NaN          NaN  ...   \n",
       "\n",
       "   year_of_capacity_data  generation_gwh_2013 generation_gwh_2014  \\\n",
       "0                 2019.0                  NaN                 NaN   \n",
       "1                 2019.0                  NaN                 NaN   \n",
       "2                 2019.0            89.595278          102.642778   \n",
       "3                 2019.0                  NaN                 NaN   \n",
       "4                 2019.0                  NaN                 NaN   \n",
       "\n",
       "  generation_gwh_2015 generation_gwh_2016 generation_gwh_2017  \\\n",
       "0                 NaN                 NaN                 NaN   \n",
       "1                 NaN                 NaN                 NaN   \n",
       "2           96.555556           95.872778           85.900278   \n",
       "3                 NaN                 NaN                 NaN   \n",
       "4                 NaN                 NaN                 NaN   \n",
       "\n",
       "   generation_gwh_2018  generation_gwh_2019            generation_data_source  \\\n",
       "0                  NaN                  NaN                               NaN   \n",
       "1                  NaN                  NaN                               NaN   \n",
       "2            92.682222                  NaN  Australia Clean Energy Regulator   \n",
       "3                  NaN                  NaN                               NaN   \n",
       "4                  NaN                  NaN                               NaN   \n",
       "\n",
       "   estimated_generation_gwh  \n",
       "0                       NaN  \n",
       "1                       NaN  \n",
       "2                       NaN  \n",
       "3                       NaN  \n",
       "4                       NaN  \n",
       "\n",
       "[5 rows x 27 columns]"
      ]
     },
     "execution_count": 3,
     "metadata": {},
     "output_type": "execute_result"
    }
   ],
   "source": [
    "df1.head()"
   ]
  },
  {
   "cell_type": "code",
   "execution_count": 4,
   "id": "fa079a6b",
   "metadata": {},
   "outputs": [
    {
     "name": "stdout",
     "output_type": "stream",
     "text": [
      "<class 'pandas.core.frame.DataFrame'>\n",
      "RangeIndex: 512 entries, 0 to 511\n",
      "Data columns (total 27 columns):\n",
      " #   Column                    Non-Null Count  Dtype  \n",
      "---  ------                    --------------  -----  \n",
      " 0   country                   512 non-null    object \n",
      " 1   country_long              512 non-null    object \n",
      " 2   name                      512 non-null    object \n",
      " 3   gppd_idnr                 512 non-null    object \n",
      " 4   capacity_mw               506 non-null    float64\n",
      " 5   latitude                  512 non-null    float64\n",
      " 6   longitude                 512 non-null    float64\n",
      " 7   primary_fuel              512 non-null    object \n",
      " 8   other_fuel1               0 non-null      float64\n",
      " 9   other_fuel2               0 non-null      float64\n",
      " 10  other_fuel3               0 non-null      float64\n",
      " 11  commissioning_year        292 non-null    float64\n",
      " 12  owner                     495 non-null    object \n",
      " 13  source                    512 non-null    object \n",
      " 14  url                       512 non-null    object \n",
      " 15  geolocation_source        512 non-null    object \n",
      " 16  wepp_id                   0 non-null      float64\n",
      " 17  year_of_capacity_data     508 non-null    float64\n",
      " 18  generation_gwh_2013       253 non-null    float64\n",
      " 19  generation_gwh_2014       277 non-null    float64\n",
      " 20  generation_gwh_2015       290 non-null    float64\n",
      " 21  generation_gwh_2016       299 non-null    float64\n",
      " 22  generation_gwh_2017       293 non-null    float64\n",
      " 23  generation_gwh_2018       300 non-null    float64\n",
      " 24  generation_gwh_2019       0 non-null      float64\n",
      " 25  generation_data_source    312 non-null    object \n",
      " 26  estimated_generation_gwh  0 non-null      float64\n",
      "dtypes: float64(17), object(10)\n",
      "memory usage: 108.1+ KB\n"
     ]
    }
   ],
   "source": [
    "df1.info()"
   ]
  },
  {
   "cell_type": "code",
   "execution_count": 5,
   "id": "08129930",
   "metadata": {},
   "outputs": [
    {
     "data": {
      "text/plain": [
       "country                       0\n",
       "country_long                  0\n",
       "name                          0\n",
       "gppd_idnr                     0\n",
       "capacity_mw                   6\n",
       "latitude                      0\n",
       "longitude                     0\n",
       "primary_fuel                  0\n",
       "other_fuel1                 512\n",
       "other_fuel2                 512\n",
       "other_fuel3                 512\n",
       "commissioning_year          220\n",
       "owner                        17\n",
       "source                        0\n",
       "url                           0\n",
       "geolocation_source            0\n",
       "wepp_id                     512\n",
       "year_of_capacity_data         4\n",
       "generation_gwh_2013         259\n",
       "generation_gwh_2014         235\n",
       "generation_gwh_2015         222\n",
       "generation_gwh_2016         213\n",
       "generation_gwh_2017         219\n",
       "generation_gwh_2018         212\n",
       "generation_gwh_2019         512\n",
       "generation_data_source      200\n",
       "estimated_generation_gwh    512\n",
       "dtype: int64"
      ]
     },
     "execution_count": 5,
     "metadata": {},
     "output_type": "execute_result"
    }
   ],
   "source": [
    "df1.isnull().sum()"
   ]
  },
  {
   "cell_type": "code",
   "execution_count": 6,
   "id": "585aeb6f",
   "metadata": {},
   "outputs": [
    {
     "data": {
      "text/html": [
       "<div>\n",
       "<style scoped>\n",
       "    .dataframe tbody tr th:only-of-type {\n",
       "        vertical-align: middle;\n",
       "    }\n",
       "\n",
       "    .dataframe tbody tr th {\n",
       "        vertical-align: top;\n",
       "    }\n",
       "\n",
       "    .dataframe thead th {\n",
       "        text-align: right;\n",
       "    }\n",
       "</style>\n",
       "<table border=\"1\" class=\"dataframe\">\n",
       "  <thead>\n",
       "    <tr style=\"text-align: right;\">\n",
       "      <th></th>\n",
       "      <th>capacity_mw</th>\n",
       "      <th>latitude</th>\n",
       "      <th>longitude</th>\n",
       "      <th>other_fuel1</th>\n",
       "      <th>other_fuel2</th>\n",
       "      <th>other_fuel3</th>\n",
       "      <th>commissioning_year</th>\n",
       "      <th>wepp_id</th>\n",
       "      <th>year_of_capacity_data</th>\n",
       "      <th>generation_gwh_2013</th>\n",
       "      <th>generation_gwh_2014</th>\n",
       "      <th>generation_gwh_2015</th>\n",
       "      <th>generation_gwh_2016</th>\n",
       "      <th>generation_gwh_2017</th>\n",
       "      <th>generation_gwh_2018</th>\n",
       "      <th>generation_gwh_2019</th>\n",
       "      <th>estimated_generation_gwh</th>\n",
       "    </tr>\n",
       "  </thead>\n",
       "  <tbody>\n",
       "    <tr>\n",
       "      <th>count</th>\n",
       "      <td>506.000000</td>\n",
       "      <td>512.000000</td>\n",
       "      <td>512.000000</td>\n",
       "      <td>0.0</td>\n",
       "      <td>0.0</td>\n",
       "      <td>0.0</td>\n",
       "      <td>292.000000</td>\n",
       "      <td>0.0</td>\n",
       "      <td>508.0</td>\n",
       "      <td>253.000000</td>\n",
       "      <td>277.000000</td>\n",
       "      <td>290.000000</td>\n",
       "      <td>299.000000</td>\n",
       "      <td>293.000000</td>\n",
       "      <td>300.000000</td>\n",
       "      <td>0.0</td>\n",
       "      <td>0.0</td>\n",
       "    </tr>\n",
       "    <tr>\n",
       "      <th>mean</th>\n",
       "      <td>127.380881</td>\n",
       "      <td>-30.862719</td>\n",
       "      <td>138.913013</td>\n",
       "      <td>NaN</td>\n",
       "      <td>NaN</td>\n",
       "      <td>NaN</td>\n",
       "      <td>1997.931507</td>\n",
       "      <td>NaN</td>\n",
       "      <td>2019.0</td>\n",
       "      <td>778.488685</td>\n",
       "      <td>731.375603</td>\n",
       "      <td>719.475953</td>\n",
       "      <td>698.604391</td>\n",
       "      <td>729.227186</td>\n",
       "      <td>707.507905</td>\n",
       "      <td>NaN</td>\n",
       "      <td>NaN</td>\n",
       "    </tr>\n",
       "    <tr>\n",
       "      <th>std</th>\n",
       "      <td>291.227666</td>\n",
       "      <td>7.238762</td>\n",
       "      <td>12.820301</td>\n",
       "      <td>NaN</td>\n",
       "      <td>NaN</td>\n",
       "      <td>NaN</td>\n",
       "      <td>16.217659</td>\n",
       "      <td>NaN</td>\n",
       "      <td>0.0</td>\n",
       "      <td>2251.906541</td>\n",
       "      <td>2068.549403</td>\n",
       "      <td>2206.550948</td>\n",
       "      <td>2201.084181</td>\n",
       "      <td>2228.929378</td>\n",
       "      <td>2239.435401</td>\n",
       "      <td>NaN</td>\n",
       "      <td>NaN</td>\n",
       "    </tr>\n",
       "    <tr>\n",
       "      <th>min</th>\n",
       "      <td>0.010000</td>\n",
       "      <td>-42.888300</td>\n",
       "      <td>113.534000</td>\n",
       "      <td>NaN</td>\n",
       "      <td>NaN</td>\n",
       "      <td>NaN</td>\n",
       "      <td>1949.000000</td>\n",
       "      <td>NaN</td>\n",
       "      <td>2019.0</td>\n",
       "      <td>0.003333</td>\n",
       "      <td>0.005000</td>\n",
       "      <td>0.000000</td>\n",
       "      <td>0.001667</td>\n",
       "      <td>0.021944</td>\n",
       "      <td>0.005000</td>\n",
       "      <td>NaN</td>\n",
       "      <td>NaN</td>\n",
       "    </tr>\n",
       "    <tr>\n",
       "      <th>25%</th>\n",
       "      <td>3.225000</td>\n",
       "      <td>-36.323000</td>\n",
       "      <td>129.337475</td>\n",
       "      <td>NaN</td>\n",
       "      <td>NaN</td>\n",
       "      <td>NaN</td>\n",
       "      <td>1989.000000</td>\n",
       "      <td>NaN</td>\n",
       "      <td>2019.0</td>\n",
       "      <td>17.232778</td>\n",
       "      <td>17.976667</td>\n",
       "      <td>14.980417</td>\n",
       "      <td>14.313889</td>\n",
       "      <td>13.282222</td>\n",
       "      <td>14.430486</td>\n",
       "      <td>NaN</td>\n",
       "      <td>NaN</td>\n",
       "    </tr>\n",
       "    <tr>\n",
       "      <th>50%</th>\n",
       "      <td>30.000000</td>\n",
       "      <td>-32.948800</td>\n",
       "      <td>144.967400</td>\n",
       "      <td>NaN</td>\n",
       "      <td>NaN</td>\n",
       "      <td>NaN</td>\n",
       "      <td>2001.000000</td>\n",
       "      <td>NaN</td>\n",
       "      <td>2019.0</td>\n",
       "      <td>100.758889</td>\n",
       "      <td>107.352500</td>\n",
       "      <td>93.063333</td>\n",
       "      <td>92.104722</td>\n",
       "      <td>89.629600</td>\n",
       "      <td>82.502639</td>\n",
       "      <td>NaN</td>\n",
       "      <td>NaN</td>\n",
       "    </tr>\n",
       "    <tr>\n",
       "      <th>75%</th>\n",
       "      <td>110.750000</td>\n",
       "      <td>-25.513875</td>\n",
       "      <td>148.595875</td>\n",
       "      <td>NaN</td>\n",
       "      <td>NaN</td>\n",
       "      <td>NaN</td>\n",
       "      <td>2012.000000</td>\n",
       "      <td>NaN</td>\n",
       "      <td>2019.0</td>\n",
       "      <td>325.435278</td>\n",
       "      <td>357.544444</td>\n",
       "      <td>325.640278</td>\n",
       "      <td>306.663889</td>\n",
       "      <td>354.642778</td>\n",
       "      <td>318.735278</td>\n",
       "      <td>NaN</td>\n",
       "      <td>NaN</td>\n",
       "    </tr>\n",
       "    <tr>\n",
       "      <th>max</th>\n",
       "      <td>2640.000000</td>\n",
       "      <td>-12.188900</td>\n",
       "      <td>153.434100</td>\n",
       "      <td>NaN</td>\n",
       "      <td>NaN</td>\n",
       "      <td>NaN</td>\n",
       "      <td>2018.000000</td>\n",
       "      <td>NaN</td>\n",
       "      <td>2019.0</td>\n",
       "      <td>16593.380000</td>\n",
       "      <td>16099.330280</td>\n",
       "      <td>17090.680000</td>\n",
       "      <td>17914.930000</td>\n",
       "      <td>15944.580000</td>\n",
       "      <td>17186.143890</td>\n",
       "      <td>NaN</td>\n",
       "      <td>NaN</td>\n",
       "    </tr>\n",
       "  </tbody>\n",
       "</table>\n",
       "</div>"
      ],
      "text/plain": [
       "       capacity_mw    latitude   longitude  other_fuel1  other_fuel2  \\\n",
       "count   506.000000  512.000000  512.000000          0.0          0.0   \n",
       "mean    127.380881  -30.862719  138.913013          NaN          NaN   \n",
       "std     291.227666    7.238762   12.820301          NaN          NaN   \n",
       "min       0.010000  -42.888300  113.534000          NaN          NaN   \n",
       "25%       3.225000  -36.323000  129.337475          NaN          NaN   \n",
       "50%      30.000000  -32.948800  144.967400          NaN          NaN   \n",
       "75%     110.750000  -25.513875  148.595875          NaN          NaN   \n",
       "max    2640.000000  -12.188900  153.434100          NaN          NaN   \n",
       "\n",
       "       other_fuel3  commissioning_year  wepp_id  year_of_capacity_data  \\\n",
       "count          0.0          292.000000      0.0                  508.0   \n",
       "mean           NaN         1997.931507      NaN                 2019.0   \n",
       "std            NaN           16.217659      NaN                    0.0   \n",
       "min            NaN         1949.000000      NaN                 2019.0   \n",
       "25%            NaN         1989.000000      NaN                 2019.0   \n",
       "50%            NaN         2001.000000      NaN                 2019.0   \n",
       "75%            NaN         2012.000000      NaN                 2019.0   \n",
       "max            NaN         2018.000000      NaN                 2019.0   \n",
       "\n",
       "       generation_gwh_2013  generation_gwh_2014  generation_gwh_2015  \\\n",
       "count           253.000000           277.000000           290.000000   \n",
       "mean            778.488685           731.375603           719.475953   \n",
       "std            2251.906541          2068.549403          2206.550948   \n",
       "min               0.003333             0.005000             0.000000   \n",
       "25%              17.232778            17.976667            14.980417   \n",
       "50%             100.758889           107.352500            93.063333   \n",
       "75%             325.435278           357.544444           325.640278   \n",
       "max           16593.380000         16099.330280         17090.680000   \n",
       "\n",
       "       generation_gwh_2016  generation_gwh_2017  generation_gwh_2018  \\\n",
       "count           299.000000           293.000000           300.000000   \n",
       "mean            698.604391           729.227186           707.507905   \n",
       "std            2201.084181          2228.929378          2239.435401   \n",
       "min               0.001667             0.021944             0.005000   \n",
       "25%              14.313889            13.282222            14.430486   \n",
       "50%              92.104722            89.629600            82.502639   \n",
       "75%             306.663889           354.642778           318.735278   \n",
       "max           17914.930000         15944.580000         17186.143890   \n",
       "\n",
       "       generation_gwh_2019  estimated_generation_gwh  \n",
       "count                  0.0                       0.0  \n",
       "mean                   NaN                       NaN  \n",
       "std                    NaN                       NaN  \n",
       "min                    NaN                       NaN  \n",
       "25%                    NaN                       NaN  \n",
       "50%                    NaN                       NaN  \n",
       "75%                    NaN                       NaN  \n",
       "max                    NaN                       NaN  "
      ]
     },
     "execution_count": 6,
     "metadata": {},
     "output_type": "execute_result"
    }
   ],
   "source": [
    "df1.describe()"
   ]
  },
  {
   "cell_type": "raw",
   "id": "31730c17",
   "metadata": {},
   "source": [
    "summary:\n",
    ".There are so much nan values in this dataset.\n",
    ".So many outliers are there in some columns as there is much difference in max and 75th percentile.\n",
    ".Some skewness is also visible.\n",
    ".We need to fill nan values before concat the three datasets because every dataset have different value zone for mean,mode\n",
    " or median."
   ]
  },
  {
   "cell_type": "raw",
   "id": "ee3e7fde",
   "metadata": {},
   "source": [
    "Dropping unwanted columns"
   ]
  },
  {
   "cell_type": "code",
   "execution_count": 7,
   "id": "05246bf2",
   "metadata": {},
   "outputs": [],
   "source": [
    "df1.drop(['other_fuel1','other_fuel2','other_fuel3','wepp_id','estimated_generation_gwh','generation_gwh_2019','gppd_idnr',\n",
    "          'year_of_capacity_data','owner'],axis=1,inplace=True)\n"
   ]
  },
  {
   "cell_type": "code",
   "execution_count": 8,
   "id": "e331e267",
   "metadata": {},
   "outputs": [],
   "source": [
    "df1.fillna(df1.median()[0], inplace=True)"
   ]
  },
  {
   "cell_type": "code",
   "execution_count": 9,
   "id": "431802dd",
   "metadata": {},
   "outputs": [
    {
     "data": {
      "text/plain": [
       "country                   0\n",
       "country_long              0\n",
       "name                      0\n",
       "capacity_mw               0\n",
       "latitude                  0\n",
       "longitude                 0\n",
       "primary_fuel              0\n",
       "commissioning_year        0\n",
       "source                    0\n",
       "url                       0\n",
       "geolocation_source        0\n",
       "generation_gwh_2013       0\n",
       "generation_gwh_2014       0\n",
       "generation_gwh_2015       0\n",
       "generation_gwh_2016       0\n",
       "generation_gwh_2017       0\n",
       "generation_gwh_2018       0\n",
       "generation_data_source    0\n",
       "dtype: int64"
      ]
     },
     "execution_count": 9,
     "metadata": {},
     "output_type": "execute_result"
    }
   ],
   "source": [
    "df1.isnull().sum()"
   ]
  },
  {
   "cell_type": "code",
   "execution_count": 10,
   "id": "d530739f",
   "metadata": {},
   "outputs": [
    {
     "data": {
      "text/html": [
       "<div>\n",
       "<style scoped>\n",
       "    .dataframe tbody tr th:only-of-type {\n",
       "        vertical-align: middle;\n",
       "    }\n",
       "\n",
       "    .dataframe tbody tr th {\n",
       "        vertical-align: top;\n",
       "    }\n",
       "\n",
       "    .dataframe thead th {\n",
       "        text-align: right;\n",
       "    }\n",
       "</style>\n",
       "<table border=\"1\" class=\"dataframe\">\n",
       "  <thead>\n",
       "    <tr style=\"text-align: right;\">\n",
       "      <th></th>\n",
       "      <th>country</th>\n",
       "      <th>country_long</th>\n",
       "      <th>name</th>\n",
       "      <th>gppd_idnr</th>\n",
       "      <th>capacity_mw</th>\n",
       "      <th>latitude</th>\n",
       "      <th>longitude</th>\n",
       "      <th>primary_fuel</th>\n",
       "      <th>other_fuel1</th>\n",
       "      <th>other_fuel2</th>\n",
       "      <th>...</th>\n",
       "      <th>year_of_capacity_data</th>\n",
       "      <th>generation_gwh_2013</th>\n",
       "      <th>generation_gwh_2014</th>\n",
       "      <th>generation_gwh_2015</th>\n",
       "      <th>generation_gwh_2016</th>\n",
       "      <th>generation_gwh_2017</th>\n",
       "      <th>generation_gwh_2018</th>\n",
       "      <th>generation_gwh_2019</th>\n",
       "      <th>generation_data_source</th>\n",
       "      <th>estimated_generation_gwh</th>\n",
       "    </tr>\n",
       "  </thead>\n",
       "  <tbody>\n",
       "    <tr>\n",
       "      <th>0</th>\n",
       "      <td>IND</td>\n",
       "      <td>India</td>\n",
       "      <td>ACME Solar Tower</td>\n",
       "      <td>WRI1020239</td>\n",
       "      <td>2.5</td>\n",
       "      <td>28.1839</td>\n",
       "      <td>73.2407</td>\n",
       "      <td>Solar</td>\n",
       "      <td>NaN</td>\n",
       "      <td>NaN</td>\n",
       "      <td>...</td>\n",
       "      <td>NaN</td>\n",
       "      <td>NaN</td>\n",
       "      <td>NaN</td>\n",
       "      <td>NaN</td>\n",
       "      <td>NaN</td>\n",
       "      <td>NaN</td>\n",
       "      <td>NaN</td>\n",
       "      <td>NaN</td>\n",
       "      <td>NaN</td>\n",
       "      <td>NaN</td>\n",
       "    </tr>\n",
       "    <tr>\n",
       "      <th>1</th>\n",
       "      <td>IND</td>\n",
       "      <td>India</td>\n",
       "      <td>ADITYA CEMENT WORKS</td>\n",
       "      <td>WRI1019881</td>\n",
       "      <td>98.0</td>\n",
       "      <td>24.7663</td>\n",
       "      <td>74.6090</td>\n",
       "      <td>Coal</td>\n",
       "      <td>NaN</td>\n",
       "      <td>NaN</td>\n",
       "      <td>...</td>\n",
       "      <td>NaN</td>\n",
       "      <td>NaN</td>\n",
       "      <td>NaN</td>\n",
       "      <td>NaN</td>\n",
       "      <td>NaN</td>\n",
       "      <td>NaN</td>\n",
       "      <td>NaN</td>\n",
       "      <td>NaN</td>\n",
       "      <td>NaN</td>\n",
       "      <td>NaN</td>\n",
       "    </tr>\n",
       "    <tr>\n",
       "      <th>2</th>\n",
       "      <td>IND</td>\n",
       "      <td>India</td>\n",
       "      <td>AES Saurashtra Windfarms</td>\n",
       "      <td>WRI1026669</td>\n",
       "      <td>39.2</td>\n",
       "      <td>21.9038</td>\n",
       "      <td>69.3732</td>\n",
       "      <td>Wind</td>\n",
       "      <td>NaN</td>\n",
       "      <td>NaN</td>\n",
       "      <td>...</td>\n",
       "      <td>NaN</td>\n",
       "      <td>NaN</td>\n",
       "      <td>NaN</td>\n",
       "      <td>NaN</td>\n",
       "      <td>NaN</td>\n",
       "      <td>NaN</td>\n",
       "      <td>NaN</td>\n",
       "      <td>NaN</td>\n",
       "      <td>NaN</td>\n",
       "      <td>NaN</td>\n",
       "    </tr>\n",
       "    <tr>\n",
       "      <th>3</th>\n",
       "      <td>IND</td>\n",
       "      <td>India</td>\n",
       "      <td>AGARTALA GT</td>\n",
       "      <td>IND0000001</td>\n",
       "      <td>135.0</td>\n",
       "      <td>23.8712</td>\n",
       "      <td>91.3602</td>\n",
       "      <td>Gas</td>\n",
       "      <td>NaN</td>\n",
       "      <td>NaN</td>\n",
       "      <td>...</td>\n",
       "      <td>2019.0</td>\n",
       "      <td>2.41461</td>\n",
       "      <td>617.789264</td>\n",
       "      <td>843.747</td>\n",
       "      <td>886.004428</td>\n",
       "      <td>663.774500</td>\n",
       "      <td>626.239128</td>\n",
       "      <td>NaN</td>\n",
       "      <td>Central Electricity Authority</td>\n",
       "      <td>NaN</td>\n",
       "    </tr>\n",
       "    <tr>\n",
       "      <th>4</th>\n",
       "      <td>IND</td>\n",
       "      <td>India</td>\n",
       "      <td>AKALTARA TPP</td>\n",
       "      <td>IND0000002</td>\n",
       "      <td>1800.0</td>\n",
       "      <td>21.9603</td>\n",
       "      <td>82.4091</td>\n",
       "      <td>Coal</td>\n",
       "      <td>Oil</td>\n",
       "      <td>NaN</td>\n",
       "      <td>...</td>\n",
       "      <td>2019.0</td>\n",
       "      <td>NaN</td>\n",
       "      <td>3035.550000</td>\n",
       "      <td>5916.370</td>\n",
       "      <td>6243.000000</td>\n",
       "      <td>5385.579736</td>\n",
       "      <td>7279.000000</td>\n",
       "      <td>NaN</td>\n",
       "      <td>Central Electricity Authority</td>\n",
       "      <td>NaN</td>\n",
       "    </tr>\n",
       "  </tbody>\n",
       "</table>\n",
       "<p>5 rows × 27 columns</p>\n",
       "</div>"
      ],
      "text/plain": [
       "  country country_long                      name   gppd_idnr  capacity_mw  \\\n",
       "0     IND        India          ACME Solar Tower  WRI1020239          2.5   \n",
       "1     IND        India       ADITYA CEMENT WORKS  WRI1019881         98.0   \n",
       "2     IND        India  AES Saurashtra Windfarms  WRI1026669         39.2   \n",
       "3     IND        India               AGARTALA GT  IND0000001        135.0   \n",
       "4     IND        India              AKALTARA TPP  IND0000002       1800.0   \n",
       "\n",
       "   latitude  longitude primary_fuel other_fuel1 other_fuel2  ...  \\\n",
       "0   28.1839    73.2407        Solar         NaN         NaN  ...   \n",
       "1   24.7663    74.6090         Coal         NaN         NaN  ...   \n",
       "2   21.9038    69.3732         Wind         NaN         NaN  ...   \n",
       "3   23.8712    91.3602          Gas         NaN         NaN  ...   \n",
       "4   21.9603    82.4091         Coal         Oil         NaN  ...   \n",
       "\n",
       "   year_of_capacity_data  generation_gwh_2013 generation_gwh_2014  \\\n",
       "0                    NaN                  NaN                 NaN   \n",
       "1                    NaN                  NaN                 NaN   \n",
       "2                    NaN                  NaN                 NaN   \n",
       "3                 2019.0              2.41461          617.789264   \n",
       "4                 2019.0                  NaN         3035.550000   \n",
       "\n",
       "  generation_gwh_2015 generation_gwh_2016 generation_gwh_2017  \\\n",
       "0                 NaN                 NaN                 NaN   \n",
       "1                 NaN                 NaN                 NaN   \n",
       "2                 NaN                 NaN                 NaN   \n",
       "3             843.747          886.004428          663.774500   \n",
       "4            5916.370         6243.000000         5385.579736   \n",
       "\n",
       "   generation_gwh_2018  generation_gwh_2019         generation_data_source  \\\n",
       "0                  NaN                  NaN                            NaN   \n",
       "1                  NaN                  NaN                            NaN   \n",
       "2                  NaN                  NaN                            NaN   \n",
       "3           626.239128                  NaN  Central Electricity Authority   \n",
       "4          7279.000000                  NaN  Central Electricity Authority   \n",
       "\n",
       "   estimated_generation_gwh  \n",
       "0                       NaN  \n",
       "1                       NaN  \n",
       "2                       NaN  \n",
       "3                       NaN  \n",
       "4                       NaN  \n",
       "\n",
       "[5 rows x 27 columns]"
      ]
     },
     "execution_count": 10,
     "metadata": {},
     "output_type": "execute_result"
    }
   ],
   "source": [
    "df2.head()"
   ]
  },
  {
   "cell_type": "code",
   "execution_count": 11,
   "id": "c0cd20a0",
   "metadata": {},
   "outputs": [
    {
     "name": "stdout",
     "output_type": "stream",
     "text": [
      "<class 'pandas.core.frame.DataFrame'>\n",
      "RangeIndex: 907 entries, 0 to 906\n",
      "Data columns (total 27 columns):\n",
      " #   Column                    Non-Null Count  Dtype  \n",
      "---  ------                    --------------  -----  \n",
      " 0   country                   907 non-null    object \n",
      " 1   country_long              907 non-null    object \n",
      " 2   name                      907 non-null    object \n",
      " 3   gppd_idnr                 907 non-null    object \n",
      " 4   capacity_mw               907 non-null    float64\n",
      " 5   latitude                  861 non-null    float64\n",
      " 6   longitude                 861 non-null    float64\n",
      " 7   primary_fuel              907 non-null    object \n",
      " 8   other_fuel1               198 non-null    object \n",
      " 9   other_fuel2               1 non-null      object \n",
      " 10  other_fuel3               0 non-null      float64\n",
      " 11  commissioning_year        533 non-null    float64\n",
      " 12  owner                     344 non-null    object \n",
      " 13  source                    907 non-null    object \n",
      " 14  url                       907 non-null    object \n",
      " 15  geolocation_source        888 non-null    object \n",
      " 16  wepp_id                   0 non-null      float64\n",
      " 17  year_of_capacity_data     519 non-null    float64\n",
      " 18  generation_gwh_2013       446 non-null    float64\n",
      " 19  generation_gwh_2014       404 non-null    float64\n",
      " 20  generation_gwh_2015       428 non-null    float64\n",
      " 21  generation_gwh_2016       440 non-null    float64\n",
      " 22  generation_gwh_2017       446 non-null    float64\n",
      " 23  generation_gwh_2018       453 non-null    float64\n",
      " 24  generation_gwh_2019       1 non-null      object \n",
      " 25  generation_data_source    454 non-null    object \n",
      " 26  estimated_generation_gwh  0 non-null      float64\n",
      "dtypes: float64(14), object(13)\n",
      "memory usage: 191.4+ KB\n"
     ]
    }
   ],
   "source": [
    "df2.info()"
   ]
  },
  {
   "cell_type": "code",
   "execution_count": 12,
   "id": "c1f3f7f4",
   "metadata": {},
   "outputs": [
    {
     "data": {
      "text/plain": [
       "country                       0\n",
       "country_long                  0\n",
       "name                          0\n",
       "gppd_idnr                     0\n",
       "capacity_mw                   0\n",
       "latitude                     46\n",
       "longitude                    46\n",
       "primary_fuel                  0\n",
       "other_fuel1                 709\n",
       "other_fuel2                 906\n",
       "other_fuel3                 907\n",
       "commissioning_year          374\n",
       "owner                       563\n",
       "source                        0\n",
       "url                           0\n",
       "geolocation_source           19\n",
       "wepp_id                     907\n",
       "year_of_capacity_data       388\n",
       "generation_gwh_2013         461\n",
       "generation_gwh_2014         503\n",
       "generation_gwh_2015         479\n",
       "generation_gwh_2016         467\n",
       "generation_gwh_2017         461\n",
       "generation_gwh_2018         454\n",
       "generation_gwh_2019         906\n",
       "generation_data_source      453\n",
       "estimated_generation_gwh    907\n",
       "dtype: int64"
      ]
     },
     "execution_count": 12,
     "metadata": {},
     "output_type": "execute_result"
    }
   ],
   "source": [
    "df2.isnull().sum()"
   ]
  },
  {
   "cell_type": "code",
   "execution_count": 13,
   "id": "92ffce2a",
   "metadata": {},
   "outputs": [],
   "source": [
    "df2.drop(['other_fuel1','other_fuel2','other_fuel3','wepp_id','estimated_generation_gwh','generation_gwh_2019','gppd_idnr',\n",
    "          'year_of_capacity_data','owner'],axis=1,inplace=True)\n"
   ]
  },
  {
   "cell_type": "code",
   "execution_count": 14,
   "id": "8bfe5a09",
   "metadata": {},
   "outputs": [],
   "source": [
    "df2.fillna(df2.median()[0], inplace=True)"
   ]
  },
  {
   "cell_type": "code",
   "execution_count": 15,
   "id": "54e62510",
   "metadata": {},
   "outputs": [
    {
     "data": {
      "text/plain": [
       "country                   0\n",
       "country_long              0\n",
       "name                      0\n",
       "capacity_mw               0\n",
       "latitude                  0\n",
       "longitude                 0\n",
       "primary_fuel              0\n",
       "commissioning_year        0\n",
       "source                    0\n",
       "url                       0\n",
       "geolocation_source        0\n",
       "generation_gwh_2013       0\n",
       "generation_gwh_2014       0\n",
       "generation_gwh_2015       0\n",
       "generation_gwh_2016       0\n",
       "generation_gwh_2017       0\n",
       "generation_gwh_2018       0\n",
       "generation_data_source    0\n",
       "dtype: int64"
      ]
     },
     "execution_count": 15,
     "metadata": {},
     "output_type": "execute_result"
    }
   ],
   "source": [
    "df2.isnull().sum()"
   ]
  },
  {
   "cell_type": "code",
   "execution_count": 16,
   "id": "5bd661c9",
   "metadata": {},
   "outputs": [
    {
     "data": {
      "text/html": [
       "<div>\n",
       "<style scoped>\n",
       "    .dataframe tbody tr th:only-of-type {\n",
       "        vertical-align: middle;\n",
       "    }\n",
       "\n",
       "    .dataframe tbody tr th {\n",
       "        vertical-align: top;\n",
       "    }\n",
       "\n",
       "    .dataframe thead th {\n",
       "        text-align: right;\n",
       "    }\n",
       "</style>\n",
       "<table border=\"1\" class=\"dataframe\">\n",
       "  <thead>\n",
       "    <tr style=\"text-align: right;\">\n",
       "      <th></th>\n",
       "      <th>country</th>\n",
       "      <th>country_long</th>\n",
       "      <th>name</th>\n",
       "      <th>gppd_idnr</th>\n",
       "      <th>capacity_mw</th>\n",
       "      <th>latitude</th>\n",
       "      <th>longitude</th>\n",
       "      <th>primary_fuel</th>\n",
       "      <th>other_fuel1</th>\n",
       "      <th>other_fuel2</th>\n",
       "      <th>...</th>\n",
       "      <th>year_of_capacity_data</th>\n",
       "      <th>generation_gwh_2013</th>\n",
       "      <th>generation_gwh_2014</th>\n",
       "      <th>generation_gwh_2015</th>\n",
       "      <th>generation_gwh_2016</th>\n",
       "      <th>generation_gwh_2017</th>\n",
       "      <th>generation_gwh_2018</th>\n",
       "      <th>generation_gwh_2019</th>\n",
       "      <th>generation_data_source</th>\n",
       "      <th>estimated_generation_gwh</th>\n",
       "    </tr>\n",
       "  </thead>\n",
       "  <tbody>\n",
       "    <tr>\n",
       "      <th>0</th>\n",
       "      <td>USA</td>\n",
       "      <td>United States of America</td>\n",
       "      <td>10 Briggs Solar NG  LLC (East)</td>\n",
       "      <td>USA0062781</td>\n",
       "      <td>0.0</td>\n",
       "      <td>41.6327</td>\n",
       "      <td>-71.4963</td>\n",
       "      <td>NaN</td>\n",
       "      <td>NaN</td>\n",
       "      <td>NaN</td>\n",
       "      <td>...</td>\n",
       "      <td>2019.0</td>\n",
       "      <td>NaN</td>\n",
       "      <td>NaN</td>\n",
       "      <td>NaN</td>\n",
       "      <td>NaN</td>\n",
       "      <td>NaN</td>\n",
       "      <td>NaN</td>\n",
       "      <td>NaN</td>\n",
       "      <td>NaN</td>\n",
       "      <td>NaN</td>\n",
       "    </tr>\n",
       "    <tr>\n",
       "      <th>1</th>\n",
       "      <td>USA</td>\n",
       "      <td>United States of America</td>\n",
       "      <td>100 Brook Hill Drive Solar</td>\n",
       "      <td>USA0063292</td>\n",
       "      <td>2.0</td>\n",
       "      <td>41.0930</td>\n",
       "      <td>-73.9828</td>\n",
       "      <td>Solar</td>\n",
       "      <td>NaN</td>\n",
       "      <td>NaN</td>\n",
       "      <td>...</td>\n",
       "      <td>2019.0</td>\n",
       "      <td>NaN</td>\n",
       "      <td>NaN</td>\n",
       "      <td>NaN</td>\n",
       "      <td>NaN</td>\n",
       "      <td>NaN</td>\n",
       "      <td>NaN</td>\n",
       "      <td>2.467</td>\n",
       "      <td>U.S. Energy Information Administration</td>\n",
       "      <td>NaN</td>\n",
       "    </tr>\n",
       "    <tr>\n",
       "      <th>2</th>\n",
       "      <td>USA</td>\n",
       "      <td>United States of America</td>\n",
       "      <td>1001 Ebenezer Church Solar</td>\n",
       "      <td>USA0063444</td>\n",
       "      <td>0.0</td>\n",
       "      <td>36.2838</td>\n",
       "      <td>-80.8434</td>\n",
       "      <td>NaN</td>\n",
       "      <td>NaN</td>\n",
       "      <td>NaN</td>\n",
       "      <td>...</td>\n",
       "      <td>2019.0</td>\n",
       "      <td>NaN</td>\n",
       "      <td>NaN</td>\n",
       "      <td>NaN</td>\n",
       "      <td>NaN</td>\n",
       "      <td>NaN</td>\n",
       "      <td>NaN</td>\n",
       "      <td>NaN</td>\n",
       "      <td>NaN</td>\n",
       "      <td>NaN</td>\n",
       "    </tr>\n",
       "    <tr>\n",
       "      <th>3</th>\n",
       "      <td>USA</td>\n",
       "      <td>United States of America</td>\n",
       "      <td>1008 Matthews Solar</td>\n",
       "      <td>USA0063447</td>\n",
       "      <td>0.0</td>\n",
       "      <td>36.2167</td>\n",
       "      <td>-80.5525</td>\n",
       "      <td>NaN</td>\n",
       "      <td>NaN</td>\n",
       "      <td>NaN</td>\n",
       "      <td>...</td>\n",
       "      <td>2019.0</td>\n",
       "      <td>NaN</td>\n",
       "      <td>NaN</td>\n",
       "      <td>NaN</td>\n",
       "      <td>NaN</td>\n",
       "      <td>NaN</td>\n",
       "      <td>NaN</td>\n",
       "      <td>NaN</td>\n",
       "      <td>NaN</td>\n",
       "      <td>NaN</td>\n",
       "    </tr>\n",
       "    <tr>\n",
       "      <th>4</th>\n",
       "      <td>USA</td>\n",
       "      <td>United States of America</td>\n",
       "      <td>1009 Yadkin Solar</td>\n",
       "      <td>USA0063445</td>\n",
       "      <td>0.0</td>\n",
       "      <td>36.1475</td>\n",
       "      <td>-80.6561</td>\n",
       "      <td>NaN</td>\n",
       "      <td>NaN</td>\n",
       "      <td>NaN</td>\n",
       "      <td>...</td>\n",
       "      <td>2019.0</td>\n",
       "      <td>NaN</td>\n",
       "      <td>NaN</td>\n",
       "      <td>NaN</td>\n",
       "      <td>NaN</td>\n",
       "      <td>NaN</td>\n",
       "      <td>NaN</td>\n",
       "      <td>NaN</td>\n",
       "      <td>NaN</td>\n",
       "      <td>NaN</td>\n",
       "    </tr>\n",
       "  </tbody>\n",
       "</table>\n",
       "<p>5 rows × 27 columns</p>\n",
       "</div>"
      ],
      "text/plain": [
       "  country              country_long                            name  \\\n",
       "0     USA  United States of America  10 Briggs Solar NG  LLC (East)   \n",
       "1     USA  United States of America      100 Brook Hill Drive Solar   \n",
       "2     USA  United States of America      1001 Ebenezer Church Solar   \n",
       "3     USA  United States of America             1008 Matthews Solar   \n",
       "4     USA  United States of America               1009 Yadkin Solar   \n",
       "\n",
       "    gppd_idnr  capacity_mw  latitude  longitude primary_fuel other_fuel1  \\\n",
       "0  USA0062781          0.0   41.6327   -71.4963          NaN         NaN   \n",
       "1  USA0063292          2.0   41.0930   -73.9828        Solar         NaN   \n",
       "2  USA0063444          0.0   36.2838   -80.8434          NaN         NaN   \n",
       "3  USA0063447          0.0   36.2167   -80.5525          NaN         NaN   \n",
       "4  USA0063445          0.0   36.1475   -80.6561          NaN         NaN   \n",
       "\n",
       "  other_fuel2  ... year_of_capacity_data  generation_gwh_2013  \\\n",
       "0         NaN  ...                2019.0                  NaN   \n",
       "1         NaN  ...                2019.0                  NaN   \n",
       "2         NaN  ...                2019.0                  NaN   \n",
       "3         NaN  ...                2019.0                  NaN   \n",
       "4         NaN  ...                2019.0                  NaN   \n",
       "\n",
       "  generation_gwh_2014 generation_gwh_2015 generation_gwh_2016  \\\n",
       "0                 NaN                 NaN                 NaN   \n",
       "1                 NaN                 NaN                 NaN   \n",
       "2                 NaN                 NaN                 NaN   \n",
       "3                 NaN                 NaN                 NaN   \n",
       "4                 NaN                 NaN                 NaN   \n",
       "\n",
       "  generation_gwh_2017  generation_gwh_2018  generation_gwh_2019  \\\n",
       "0                 NaN                  NaN                  NaN   \n",
       "1                 NaN                  NaN                2.467   \n",
       "2                 NaN                  NaN                  NaN   \n",
       "3                 NaN                  NaN                  NaN   \n",
       "4                 NaN                  NaN                  NaN   \n",
       "\n",
       "                   generation_data_source  estimated_generation_gwh  \n",
       "0                                     NaN                       NaN  \n",
       "1  U.S. Energy Information Administration                       NaN  \n",
       "2                                     NaN                       NaN  \n",
       "3                                     NaN                       NaN  \n",
       "4                                     NaN                       NaN  \n",
       "\n",
       "[5 rows x 27 columns]"
      ]
     },
     "execution_count": 16,
     "metadata": {},
     "output_type": "execute_result"
    }
   ],
   "source": [
    "df3.head()"
   ]
  },
  {
   "cell_type": "code",
   "execution_count": 17,
   "id": "d23603c8",
   "metadata": {},
   "outputs": [
    {
     "name": "stdout",
     "output_type": "stream",
     "text": [
      "<class 'pandas.core.frame.DataFrame'>\n",
      "RangeIndex: 11879 entries, 0 to 11878\n",
      "Data columns (total 27 columns):\n",
      " #   Column                    Non-Null Count  Dtype  \n",
      "---  ------                    --------------  -----  \n",
      " 0   country                   11879 non-null  object \n",
      " 1   country_long              11879 non-null  object \n",
      " 2   name                      11879 non-null  object \n",
      " 3   gppd_idnr                 11879 non-null  object \n",
      " 4   capacity_mw               11879 non-null  float64\n",
      " 5   latitude                  11847 non-null  float64\n",
      " 6   longitude                 11847 non-null  float64\n",
      " 7   primary_fuel              9875 non-null   object \n",
      " 8   other_fuel1               1430 non-null   object \n",
      " 9   other_fuel2               269 non-null    object \n",
      " 10  other_fuel3               92 non-null     object \n",
      " 11  commissioning_year        9829 non-null   float64\n",
      " 12  owner                     11866 non-null  object \n",
      " 13  source                    11879 non-null  object \n",
      " 14  url                       11879 non-null  object \n",
      " 15  geolocation_source        11875 non-null  object \n",
      " 16  wepp_id                   0 non-null      float64\n",
      " 17  year_of_capacity_data     11833 non-null  float64\n",
      " 18  generation_gwh_2013       6471 non-null   float64\n",
      " 19  generation_gwh_2014       6853 non-null   float64\n",
      " 20  generation_gwh_2015       7275 non-null   float64\n",
      " 21  generation_gwh_2016       7962 non-null   float64\n",
      " 22  generation_gwh_2017       8553 non-null   float64\n",
      " 23  generation_gwh_2018       9105 non-null   float64\n",
      " 24  generation_gwh_2019       9777 non-null   float64\n",
      " 25  generation_data_source    10069 non-null  object \n",
      " 26  estimated_generation_gwh  0 non-null      float64\n",
      "dtypes: float64(14), object(13)\n",
      "memory usage: 2.4+ MB\n"
     ]
    }
   ],
   "source": [
    "df3.info()"
   ]
  },
  {
   "cell_type": "code",
   "execution_count": 18,
   "id": "bae57a45",
   "metadata": {},
   "outputs": [
    {
     "data": {
      "text/plain": [
       "country                         0\n",
       "country_long                    0\n",
       "name                            0\n",
       "gppd_idnr                       0\n",
       "capacity_mw                     0\n",
       "latitude                       32\n",
       "longitude                      32\n",
       "primary_fuel                 2004\n",
       "other_fuel1                 10449\n",
       "other_fuel2                 11610\n",
       "other_fuel3                 11787\n",
       "commissioning_year           2050\n",
       "owner                          13\n",
       "source                          0\n",
       "url                             0\n",
       "geolocation_source              4\n",
       "wepp_id                     11879\n",
       "year_of_capacity_data          46\n",
       "generation_gwh_2013          5408\n",
       "generation_gwh_2014          5026\n",
       "generation_gwh_2015          4604\n",
       "generation_gwh_2016          3917\n",
       "generation_gwh_2017          3326\n",
       "generation_gwh_2018          2774\n",
       "generation_gwh_2019          2102\n",
       "generation_data_source       1810\n",
       "estimated_generation_gwh    11879\n",
       "dtype: int64"
      ]
     },
     "execution_count": 18,
     "metadata": {},
     "output_type": "execute_result"
    }
   ],
   "source": [
    "df3.isnull().sum()"
   ]
  },
  {
   "cell_type": "code",
   "execution_count": 19,
   "id": "0b2c3f86",
   "metadata": {},
   "outputs": [],
   "source": [
    "df3.drop(['other_fuel1','other_fuel2','other_fuel3','wepp_id','estimated_generation_gwh','generation_gwh_2019','gppd_idnr',\n",
    "          'year_of_capacity_data','owner'],axis=1,inplace=True)\n"
   ]
  },
  {
   "cell_type": "code",
   "execution_count": 20,
   "id": "20f5f09f",
   "metadata": {},
   "outputs": [],
   "source": [
    "df3['primary_fuel']=df3['primary_fuel'].fillna(df3['primary_fuel'].mode()[0])"
   ]
  },
  {
   "cell_type": "code",
   "execution_count": 21,
   "id": "1d30917b",
   "metadata": {},
   "outputs": [],
   "source": [
    "df3.fillna(df3.median()[0], inplace=True)"
   ]
  },
  {
   "cell_type": "code",
   "execution_count": 22,
   "id": "2884959e",
   "metadata": {},
   "outputs": [
    {
     "data": {
      "text/plain": [
       "country                   0\n",
       "country_long              0\n",
       "name                      0\n",
       "capacity_mw               0\n",
       "latitude                  0\n",
       "longitude                 0\n",
       "primary_fuel              0\n",
       "commissioning_year        0\n",
       "source                    0\n",
       "url                       0\n",
       "geolocation_source        0\n",
       "generation_gwh_2013       0\n",
       "generation_gwh_2014       0\n",
       "generation_gwh_2015       0\n",
       "generation_gwh_2016       0\n",
       "generation_gwh_2017       0\n",
       "generation_gwh_2018       0\n",
       "generation_data_source    0\n",
       "dtype: int64"
      ]
     },
     "execution_count": 22,
     "metadata": {},
     "output_type": "execute_result"
    }
   ],
   "source": [
    "df3.isnull().sum()"
   ]
  },
  {
   "cell_type": "code",
   "execution_count": 23,
   "id": "a297c997",
   "metadata": {},
   "outputs": [],
   "source": [
    "df=pd.concat([df1,df2,df3],ignore_index=True)"
   ]
  },
  {
   "cell_type": "code",
   "execution_count": 24,
   "id": "575e5dbd",
   "metadata": {},
   "outputs": [
    {
     "data": {
      "text/html": [
       "<div>\n",
       "<style scoped>\n",
       "    .dataframe tbody tr th:only-of-type {\n",
       "        vertical-align: middle;\n",
       "    }\n",
       "\n",
       "    .dataframe tbody tr th {\n",
       "        vertical-align: top;\n",
       "    }\n",
       "\n",
       "    .dataframe thead th {\n",
       "        text-align: right;\n",
       "    }\n",
       "</style>\n",
       "<table border=\"1\" class=\"dataframe\">\n",
       "  <thead>\n",
       "    <tr style=\"text-align: right;\">\n",
       "      <th></th>\n",
       "      <th>country</th>\n",
       "      <th>country_long</th>\n",
       "      <th>name</th>\n",
       "      <th>capacity_mw</th>\n",
       "      <th>latitude</th>\n",
       "      <th>longitude</th>\n",
       "      <th>primary_fuel</th>\n",
       "      <th>commissioning_year</th>\n",
       "      <th>source</th>\n",
       "      <th>url</th>\n",
       "      <th>geolocation_source</th>\n",
       "      <th>generation_gwh_2013</th>\n",
       "      <th>generation_gwh_2014</th>\n",
       "      <th>generation_gwh_2015</th>\n",
       "      <th>generation_gwh_2016</th>\n",
       "      <th>generation_gwh_2017</th>\n",
       "      <th>generation_gwh_2018</th>\n",
       "      <th>generation_data_source</th>\n",
       "    </tr>\n",
       "  </thead>\n",
       "  <tbody>\n",
       "    <tr>\n",
       "      <th>0</th>\n",
       "      <td>AUS</td>\n",
       "      <td>Australia</td>\n",
       "      <td>Adelaide Airport</td>\n",
       "      <td>0.11</td>\n",
       "      <td>-34.9387</td>\n",
       "      <td>138.5377</td>\n",
       "      <td>Solar</td>\n",
       "      <td>2011.00000</td>\n",
       "      <td>Australian Renewable Energy Mapping Infrastruc...</td>\n",
       "      <td>https://www.nationalmap.gov.au/</td>\n",
       "      <td>Australian Renewable Energy Mapping Infrastruc...</td>\n",
       "      <td>30.000000</td>\n",
       "      <td>30.000000</td>\n",
       "      <td>30.000000</td>\n",
       "      <td>30.000000</td>\n",
       "      <td>30.000000</td>\n",
       "      <td>30.000000</td>\n",
       "      <td>30.0</td>\n",
       "    </tr>\n",
       "    <tr>\n",
       "      <th>1</th>\n",
       "      <td>AUS</td>\n",
       "      <td>Australia</td>\n",
       "      <td>Adelaide Showgrounds</td>\n",
       "      <td>1.00</td>\n",
       "      <td>-34.9453</td>\n",
       "      <td>138.5882</td>\n",
       "      <td>Solar</td>\n",
       "      <td>30.00000</td>\n",
       "      <td>Australian Renewable Energy Mapping Infrastruc...</td>\n",
       "      <td>https://www.nationalmap.gov.au/</td>\n",
       "      <td>Australian Renewable Energy Mapping Infrastruc...</td>\n",
       "      <td>30.000000</td>\n",
       "      <td>30.000000</td>\n",
       "      <td>30.000000</td>\n",
       "      <td>30.000000</td>\n",
       "      <td>30.000000</td>\n",
       "      <td>30.000000</td>\n",
       "      <td>30.0</td>\n",
       "    </tr>\n",
       "    <tr>\n",
       "      <th>2</th>\n",
       "      <td>AUS</td>\n",
       "      <td>Australia</td>\n",
       "      <td>Albany Wind Farm</td>\n",
       "      <td>21.60</td>\n",
       "      <td>-35.0641</td>\n",
       "      <td>117.7977</td>\n",
       "      <td>Wind</td>\n",
       "      <td>30.00000</td>\n",
       "      <td>Australian Renewable Energy Mapping Infrastruc...</td>\n",
       "      <td>https://www.nationalmap.gov.au/</td>\n",
       "      <td>Australian Renewable Energy Mapping Infrastruc...</td>\n",
       "      <td>89.595278</td>\n",
       "      <td>102.642778</td>\n",
       "      <td>96.555556</td>\n",
       "      <td>95.872778</td>\n",
       "      <td>85.900278</td>\n",
       "      <td>92.682222</td>\n",
       "      <td>Australia Clean Energy Regulator</td>\n",
       "    </tr>\n",
       "    <tr>\n",
       "      <th>3</th>\n",
       "      <td>AUS</td>\n",
       "      <td>Australia</td>\n",
       "      <td>Alice Springs Airport</td>\n",
       "      <td>0.24</td>\n",
       "      <td>-23.7966</td>\n",
       "      <td>133.8971</td>\n",
       "      <td>Solar</td>\n",
       "      <td>2004.00000</td>\n",
       "      <td>Australian Renewable Energy Mapping Infrastruc...</td>\n",
       "      <td>https://www.nationalmap.gov.au/</td>\n",
       "      <td>Australian Renewable Energy Mapping Infrastruc...</td>\n",
       "      <td>30.000000</td>\n",
       "      <td>30.000000</td>\n",
       "      <td>30.000000</td>\n",
       "      <td>30.000000</td>\n",
       "      <td>30.000000</td>\n",
       "      <td>30.000000</td>\n",
       "      <td>30.0</td>\n",
       "    </tr>\n",
       "    <tr>\n",
       "      <th>4</th>\n",
       "      <td>AUS</td>\n",
       "      <td>Australia</td>\n",
       "      <td>Amcor Gawler</td>\n",
       "      <td>4.00</td>\n",
       "      <td>-34.5509</td>\n",
       "      <td>138.7659</td>\n",
       "      <td>Oil</td>\n",
       "      <td>2015.00000</td>\n",
       "      <td>Australian Renewable Energy Mapping Infrastruc...</td>\n",
       "      <td>https://www.nationalmap.gov.au/</td>\n",
       "      <td>Australian Renewable Energy Mapping Infrastruc...</td>\n",
       "      <td>30.000000</td>\n",
       "      <td>30.000000</td>\n",
       "      <td>30.000000</td>\n",
       "      <td>30.000000</td>\n",
       "      <td>30.000000</td>\n",
       "      <td>30.000000</td>\n",
       "      <td>30.0</td>\n",
       "    </tr>\n",
       "    <tr>\n",
       "      <th>...</th>\n",
       "      <td>...</td>\n",
       "      <td>...</td>\n",
       "      <td>...</td>\n",
       "      <td>...</td>\n",
       "      <td>...</td>\n",
       "      <td>...</td>\n",
       "      <td>...</td>\n",
       "      <td>...</td>\n",
       "      <td>...</td>\n",
       "      <td>...</td>\n",
       "      <td>...</td>\n",
       "      <td>...</td>\n",
       "      <td>...</td>\n",
       "      <td>...</td>\n",
       "      <td>...</td>\n",
       "      <td>...</td>\n",
       "      <td>...</td>\n",
       "      <td>...</td>\n",
       "    </tr>\n",
       "    <tr>\n",
       "      <th>13293</th>\n",
       "      <td>USA</td>\n",
       "      <td>United States of America</td>\n",
       "      <td>Zotos International WPGF</td>\n",
       "      <td>3.40</td>\n",
       "      <td>42.8869</td>\n",
       "      <td>-76.9683</td>\n",
       "      <td>Wind</td>\n",
       "      <td>2012.00000</td>\n",
       "      <td>U.S. Energy Information Administration</td>\n",
       "      <td>http://www.eia.gov/electricity/data/browser/</td>\n",
       "      <td>U.S. Energy Information Administration</td>\n",
       "      <td>3.671000</td>\n",
       "      <td>2.460150</td>\n",
       "      <td>2.489000</td>\n",
       "      <td>1.670000</td>\n",
       "      <td>1.233490</td>\n",
       "      <td>2.630000</td>\n",
       "      <td>U.S. Energy Information Administration</td>\n",
       "    </tr>\n",
       "    <tr>\n",
       "      <th>13294</th>\n",
       "      <td>USA</td>\n",
       "      <td>United States of America</td>\n",
       "      <td>Zumbro Community Solar Garden</td>\n",
       "      <td>1.00</td>\n",
       "      <td>44.3195</td>\n",
       "      <td>-92.6703</td>\n",
       "      <td>Solar</td>\n",
       "      <td>2018.00000</td>\n",
       "      <td>U.S. Energy Information Administration</td>\n",
       "      <td>http://www.eia.gov/electricity/data/browser/</td>\n",
       "      <td>U.S. Energy Information Administration</td>\n",
       "      <td>5.000000</td>\n",
       "      <td>5.000000</td>\n",
       "      <td>5.000000</td>\n",
       "      <td>5.000000</td>\n",
       "      <td>5.000000</td>\n",
       "      <td>1.161000</td>\n",
       "      <td>U.S. Energy Information Administration</td>\n",
       "    </tr>\n",
       "    <tr>\n",
       "      <th>13295</th>\n",
       "      <td>USA</td>\n",
       "      <td>United States of America</td>\n",
       "      <td>Zumbro Solar Garden</td>\n",
       "      <td>0.00</td>\n",
       "      <td>44.0460</td>\n",
       "      <td>-92.7600</td>\n",
       "      <td>Solar</td>\n",
       "      <td>5.00000</td>\n",
       "      <td>U.S. Energy Information Administration</td>\n",
       "      <td>http://www.eia.gov/electricity/data/browser/</td>\n",
       "      <td>U.S. Energy Information Administration</td>\n",
       "      <td>5.000000</td>\n",
       "      <td>5.000000</td>\n",
       "      <td>5.000000</td>\n",
       "      <td>5.000000</td>\n",
       "      <td>5.000000</td>\n",
       "      <td>5.000000</td>\n",
       "      <td>5.0</td>\n",
       "    </tr>\n",
       "    <tr>\n",
       "      <th>13296</th>\n",
       "      <td>USA</td>\n",
       "      <td>United States of America</td>\n",
       "      <td>Zuni</td>\n",
       "      <td>0.00</td>\n",
       "      <td>39.7373</td>\n",
       "      <td>-105.0170</td>\n",
       "      <td>Solar</td>\n",
       "      <td>5.00000</td>\n",
       "      <td>U.S. Energy Information Administration</td>\n",
       "      <td>http://www.eia.gov/electricity/data/browser/</td>\n",
       "      <td>U.S. Energy Information Administration</td>\n",
       "      <td>0.000000</td>\n",
       "      <td>0.000000</td>\n",
       "      <td>0.000000</td>\n",
       "      <td>5.000000</td>\n",
       "      <td>5.000000</td>\n",
       "      <td>5.000000</td>\n",
       "      <td>U.S. Energy Information Administration</td>\n",
       "    </tr>\n",
       "    <tr>\n",
       "      <th>13297</th>\n",
       "      <td>USA</td>\n",
       "      <td>United States of America</td>\n",
       "      <td>eBay - South Jordan</td>\n",
       "      <td>9.80</td>\n",
       "      <td>40.5606</td>\n",
       "      <td>-112.0478</td>\n",
       "      <td>Gas</td>\n",
       "      <td>2013.77551</td>\n",
       "      <td>U.S. Energy Information Administration</td>\n",
       "      <td>http://www.eia.gov/electricity/data/browser/</td>\n",
       "      <td>U.S. Energy Information Administration</td>\n",
       "      <td>12.968000</td>\n",
       "      <td>51.276000</td>\n",
       "      <td>71.505000</td>\n",
       "      <td>76.392000</td>\n",
       "      <td>76.631000</td>\n",
       "      <td>75.228000</td>\n",
       "      <td>U.S. Energy Information Administration</td>\n",
       "    </tr>\n",
       "  </tbody>\n",
       "</table>\n",
       "<p>13298 rows × 18 columns</p>\n",
       "</div>"
      ],
      "text/plain": [
       "      country              country_long                           name  \\\n",
       "0         AUS                 Australia               Adelaide Airport   \n",
       "1         AUS                 Australia           Adelaide Showgrounds   \n",
       "2         AUS                 Australia               Albany Wind Farm   \n",
       "3         AUS                 Australia          Alice Springs Airport   \n",
       "4         AUS                 Australia                   Amcor Gawler   \n",
       "...       ...                       ...                            ...   \n",
       "13293     USA  United States of America       Zotos International WPGF   \n",
       "13294     USA  United States of America  Zumbro Community Solar Garden   \n",
       "13295     USA  United States of America            Zumbro Solar Garden   \n",
       "13296     USA  United States of America                           Zuni   \n",
       "13297     USA  United States of America            eBay - South Jordan   \n",
       "\n",
       "       capacity_mw  latitude  longitude primary_fuel  commissioning_year  \\\n",
       "0             0.11  -34.9387   138.5377        Solar          2011.00000   \n",
       "1             1.00  -34.9453   138.5882        Solar            30.00000   \n",
       "2            21.60  -35.0641   117.7977         Wind            30.00000   \n",
       "3             0.24  -23.7966   133.8971        Solar          2004.00000   \n",
       "4             4.00  -34.5509   138.7659          Oil          2015.00000   \n",
       "...            ...       ...        ...          ...                 ...   \n",
       "13293         3.40   42.8869   -76.9683         Wind          2012.00000   \n",
       "13294         1.00   44.3195   -92.6703        Solar          2018.00000   \n",
       "13295         0.00   44.0460   -92.7600        Solar             5.00000   \n",
       "13296         0.00   39.7373  -105.0170        Solar             5.00000   \n",
       "13297         9.80   40.5606  -112.0478          Gas          2013.77551   \n",
       "\n",
       "                                                  source  \\\n",
       "0      Australian Renewable Energy Mapping Infrastruc...   \n",
       "1      Australian Renewable Energy Mapping Infrastruc...   \n",
       "2      Australian Renewable Energy Mapping Infrastruc...   \n",
       "3      Australian Renewable Energy Mapping Infrastruc...   \n",
       "4      Australian Renewable Energy Mapping Infrastruc...   \n",
       "...                                                  ...   \n",
       "13293             U.S. Energy Information Administration   \n",
       "13294             U.S. Energy Information Administration   \n",
       "13295             U.S. Energy Information Administration   \n",
       "13296             U.S. Energy Information Administration   \n",
       "13297             U.S. Energy Information Administration   \n",
       "\n",
       "                                                url  \\\n",
       "0                   https://www.nationalmap.gov.au/   \n",
       "1                   https://www.nationalmap.gov.au/   \n",
       "2                   https://www.nationalmap.gov.au/   \n",
       "3                   https://www.nationalmap.gov.au/   \n",
       "4                   https://www.nationalmap.gov.au/   \n",
       "...                                             ...   \n",
       "13293  http://www.eia.gov/electricity/data/browser/   \n",
       "13294  http://www.eia.gov/electricity/data/browser/   \n",
       "13295  http://www.eia.gov/electricity/data/browser/   \n",
       "13296  http://www.eia.gov/electricity/data/browser/   \n",
       "13297  http://www.eia.gov/electricity/data/browser/   \n",
       "\n",
       "                                      geolocation_source  generation_gwh_2013  \\\n",
       "0      Australian Renewable Energy Mapping Infrastruc...            30.000000   \n",
       "1      Australian Renewable Energy Mapping Infrastruc...            30.000000   \n",
       "2      Australian Renewable Energy Mapping Infrastruc...            89.595278   \n",
       "3      Australian Renewable Energy Mapping Infrastruc...            30.000000   \n",
       "4      Australian Renewable Energy Mapping Infrastruc...            30.000000   \n",
       "...                                                  ...                  ...   \n",
       "13293             U.S. Energy Information Administration             3.671000   \n",
       "13294             U.S. Energy Information Administration             5.000000   \n",
       "13295             U.S. Energy Information Administration             5.000000   \n",
       "13296             U.S. Energy Information Administration             0.000000   \n",
       "13297             U.S. Energy Information Administration            12.968000   \n",
       "\n",
       "       generation_gwh_2014  generation_gwh_2015  generation_gwh_2016  \\\n",
       "0                30.000000            30.000000            30.000000   \n",
       "1                30.000000            30.000000            30.000000   \n",
       "2               102.642778            96.555556            95.872778   \n",
       "3                30.000000            30.000000            30.000000   \n",
       "4                30.000000            30.000000            30.000000   \n",
       "...                    ...                  ...                  ...   \n",
       "13293             2.460150             2.489000             1.670000   \n",
       "13294             5.000000             5.000000             5.000000   \n",
       "13295             5.000000             5.000000             5.000000   \n",
       "13296             0.000000             0.000000             5.000000   \n",
       "13297            51.276000            71.505000            76.392000   \n",
       "\n",
       "       generation_gwh_2017  generation_gwh_2018  \\\n",
       "0                30.000000            30.000000   \n",
       "1                30.000000            30.000000   \n",
       "2                85.900278            92.682222   \n",
       "3                30.000000            30.000000   \n",
       "4                30.000000            30.000000   \n",
       "...                    ...                  ...   \n",
       "13293             1.233490             2.630000   \n",
       "13294             5.000000             1.161000   \n",
       "13295             5.000000             5.000000   \n",
       "13296             5.000000             5.000000   \n",
       "13297            76.631000            75.228000   \n",
       "\n",
       "                       generation_data_source  \n",
       "0                                        30.0  \n",
       "1                                        30.0  \n",
       "2            Australia Clean Energy Regulator  \n",
       "3                                        30.0  \n",
       "4                                        30.0  \n",
       "...                                       ...  \n",
       "13293  U.S. Energy Information Administration  \n",
       "13294  U.S. Energy Information Administration  \n",
       "13295                                     5.0  \n",
       "13296  U.S. Energy Information Administration  \n",
       "13297  U.S. Energy Information Administration  \n",
       "\n",
       "[13298 rows x 18 columns]"
      ]
     },
     "execution_count": 24,
     "metadata": {},
     "output_type": "execute_result"
    }
   ],
   "source": [
    "df"
   ]
  },
  {
   "cell_type": "code",
   "execution_count": 25,
   "id": "c15a8c96",
   "metadata": {},
   "outputs": [
    {
     "name": "stdout",
     "output_type": "stream",
     "text": [
      "<class 'pandas.core.frame.DataFrame'>\n",
      "RangeIndex: 13298 entries, 0 to 13297\n",
      "Data columns (total 18 columns):\n",
      " #   Column                  Non-Null Count  Dtype  \n",
      "---  ------                  --------------  -----  \n",
      " 0   country                 13298 non-null  object \n",
      " 1   country_long            13298 non-null  object \n",
      " 2   name                    13298 non-null  object \n",
      " 3   capacity_mw             13298 non-null  float64\n",
      " 4   latitude                13298 non-null  float64\n",
      " 5   longitude               13298 non-null  float64\n",
      " 6   primary_fuel            13298 non-null  object \n",
      " 7   commissioning_year      13298 non-null  float64\n",
      " 8   source                  13298 non-null  object \n",
      " 9   url                     13298 non-null  object \n",
      " 10  geolocation_source      13298 non-null  object \n",
      " 11  generation_gwh_2013     13298 non-null  float64\n",
      " 12  generation_gwh_2014     13298 non-null  float64\n",
      " 13  generation_gwh_2015     13298 non-null  float64\n",
      " 14  generation_gwh_2016     13298 non-null  float64\n",
      " 15  generation_gwh_2017     13298 non-null  float64\n",
      " 16  generation_gwh_2018     13298 non-null  float64\n",
      " 17  generation_data_source  13298 non-null  object \n",
      "dtypes: float64(10), object(8)\n",
      "memory usage: 1.8+ MB\n"
     ]
    }
   ],
   "source": [
    "df.info()"
   ]
  },
  {
   "cell_type": "code",
   "execution_count": 26,
   "id": "850a970a",
   "metadata": {},
   "outputs": [
    {
     "data": {
      "text/plain": [
       "country                   0\n",
       "country_long              0\n",
       "name                      0\n",
       "capacity_mw               0\n",
       "latitude                  0\n",
       "longitude                 0\n",
       "primary_fuel              0\n",
       "commissioning_year        0\n",
       "source                    0\n",
       "url                       0\n",
       "geolocation_source        0\n",
       "generation_gwh_2013       0\n",
       "generation_gwh_2014       0\n",
       "generation_gwh_2015       0\n",
       "generation_gwh_2016       0\n",
       "generation_gwh_2017       0\n",
       "generation_gwh_2018       0\n",
       "generation_data_source    0\n",
       "dtype: int64"
      ]
     },
     "execution_count": 26,
     "metadata": {},
     "output_type": "execute_result"
    }
   ],
   "source": [
    "df.isnull().sum()"
   ]
  },
  {
   "cell_type": "code",
   "execution_count": 27,
   "id": "e2876a49",
   "metadata": {},
   "outputs": [
    {
     "data": {
      "text/html": [
       "<div>\n",
       "<style scoped>\n",
       "    .dataframe tbody tr th:only-of-type {\n",
       "        vertical-align: middle;\n",
       "    }\n",
       "\n",
       "    .dataframe tbody tr th {\n",
       "        vertical-align: top;\n",
       "    }\n",
       "\n",
       "    .dataframe thead th {\n",
       "        text-align: right;\n",
       "    }\n",
       "</style>\n",
       "<table border=\"1\" class=\"dataframe\">\n",
       "  <thead>\n",
       "    <tr style=\"text-align: right;\">\n",
       "      <th></th>\n",
       "      <th>capacity_mw</th>\n",
       "      <th>latitude</th>\n",
       "      <th>longitude</th>\n",
       "      <th>commissioning_year</th>\n",
       "      <th>generation_gwh_2013</th>\n",
       "      <th>generation_gwh_2014</th>\n",
       "      <th>generation_gwh_2015</th>\n",
       "      <th>generation_gwh_2016</th>\n",
       "      <th>generation_gwh_2017</th>\n",
       "      <th>generation_gwh_2018</th>\n",
       "    </tr>\n",
       "  </thead>\n",
       "  <tbody>\n",
       "    <tr>\n",
       "      <th>count</th>\n",
       "      <td>13298.000000</td>\n",
       "      <td>13298.000000</td>\n",
       "      <td>13298.000000</td>\n",
       "      <td>13298.000000</td>\n",
       "      <td>13298.000000</td>\n",
       "      <td>13298.000000</td>\n",
       "      <td>13298.000000</td>\n",
       "      <td>13298.000000</td>\n",
       "      <td>13298.000000</td>\n",
       "      <td>13298.000000</td>\n",
       "    </tr>\n",
       "    <tr>\n",
       "      <th>mean</th>\n",
       "      <td>117.699129</td>\n",
       "      <td>35.064421</td>\n",
       "      <td>-73.144559</td>\n",
       "      <td>1603.824091</td>\n",
       "      <td>308.434268</td>\n",
       "      <td>364.838377</td>\n",
       "      <td>375.104091</td>\n",
       "      <td>371.612905</td>\n",
       "      <td>375.862950</td>\n",
       "      <td>384.340092</td>\n",
       "    </tr>\n",
       "    <tr>\n",
       "      <th>std</th>\n",
       "      <td>347.095704</td>\n",
       "      <td>15.534302</td>\n",
       "      <td>63.285169</td>\n",
       "      <td>791.993137</td>\n",
       "      <td>1516.266715</td>\n",
       "      <td>1679.582434</td>\n",
       "      <td>1691.652956</td>\n",
       "      <td>1679.071876</td>\n",
       "      <td>1689.926784</td>\n",
       "      <td>1704.678608</td>\n",
       "    </tr>\n",
       "    <tr>\n",
       "      <th>min</th>\n",
       "      <td>0.000000</td>\n",
       "      <td>-42.888300</td>\n",
       "      <td>-171.712400</td>\n",
       "      <td>5.000000</td>\n",
       "      <td>-947.600000</td>\n",
       "      <td>-989.619000</td>\n",
       "      <td>-864.428000</td>\n",
       "      <td>-768.620000</td>\n",
       "      <td>-934.944000</td>\n",
       "      <td>-982.622000</td>\n",
       "    </tr>\n",
       "    <tr>\n",
       "      <th>25%</th>\n",
       "      <td>1.500000</td>\n",
       "      <td>33.890675</td>\n",
       "      <td>-104.583400</td>\n",
       "      <td>1954.000000</td>\n",
       "      <td>5.000000</td>\n",
       "      <td>5.000000</td>\n",
       "      <td>5.000000</td>\n",
       "      <td>5.000000</td>\n",
       "      <td>5.000000</td>\n",
       "      <td>4.088500</td>\n",
       "    </tr>\n",
       "    <tr>\n",
       "      <th>50%</th>\n",
       "      <td>5.500000</td>\n",
       "      <td>38.397900</td>\n",
       "      <td>-87.104400</td>\n",
       "      <td>2000.295163</td>\n",
       "      <td>5.000000</td>\n",
       "      <td>5.000000</td>\n",
       "      <td>5.000000</td>\n",
       "      <td>5.000000</td>\n",
       "      <td>5.025500</td>\n",
       "      <td>6.285000</td>\n",
       "    </tr>\n",
       "    <tr>\n",
       "      <th>75%</th>\n",
       "      <td>52.650000</td>\n",
       "      <td>42.190675</td>\n",
       "      <td>-75.291600</td>\n",
       "      <td>2014.000000</td>\n",
       "      <td>46.912750</td>\n",
       "      <td>59.200000</td>\n",
       "      <td>59.200000</td>\n",
       "      <td>59.200000</td>\n",
       "      <td>59.200000</td>\n",
       "      <td>59.200000</td>\n",
       "    </tr>\n",
       "    <tr>\n",
       "      <th>max</th>\n",
       "      <td>6809.000000</td>\n",
       "      <td>425.246100</td>\n",
       "      <td>153.434100</td>\n",
       "      <td>2020.000000</td>\n",
       "      <td>31431.080000</td>\n",
       "      <td>32320.917000</td>\n",
       "      <td>32525.595000</td>\n",
       "      <td>32377.477000</td>\n",
       "      <td>35116.000000</td>\n",
       "      <td>35136.000000</td>\n",
       "    </tr>\n",
       "  </tbody>\n",
       "</table>\n",
       "</div>"
      ],
      "text/plain": [
       "        capacity_mw      latitude     longitude  commissioning_year  \\\n",
       "count  13298.000000  13298.000000  13298.000000        13298.000000   \n",
       "mean     117.699129     35.064421    -73.144559         1603.824091   \n",
       "std      347.095704     15.534302     63.285169          791.993137   \n",
       "min        0.000000    -42.888300   -171.712400            5.000000   \n",
       "25%        1.500000     33.890675   -104.583400         1954.000000   \n",
       "50%        5.500000     38.397900    -87.104400         2000.295163   \n",
       "75%       52.650000     42.190675    -75.291600         2014.000000   \n",
       "max     6809.000000    425.246100    153.434100         2020.000000   \n",
       "\n",
       "       generation_gwh_2013  generation_gwh_2014  generation_gwh_2015  \\\n",
       "count         13298.000000         13298.000000         13298.000000   \n",
       "mean            308.434268           364.838377           375.104091   \n",
       "std            1516.266715          1679.582434          1691.652956   \n",
       "min            -947.600000          -989.619000          -864.428000   \n",
       "25%               5.000000             5.000000             5.000000   \n",
       "50%               5.000000             5.000000             5.000000   \n",
       "75%              46.912750            59.200000            59.200000   \n",
       "max           31431.080000         32320.917000         32525.595000   \n",
       "\n",
       "       generation_gwh_2016  generation_gwh_2017  generation_gwh_2018  \n",
       "count         13298.000000         13298.000000         13298.000000  \n",
       "mean            371.612905           375.862950           384.340092  \n",
       "std            1679.071876          1689.926784          1704.678608  \n",
       "min            -768.620000          -934.944000          -982.622000  \n",
       "25%               5.000000             5.000000             4.088500  \n",
       "50%               5.000000             5.025500             6.285000  \n",
       "75%              59.200000            59.200000            59.200000  \n",
       "max           32377.477000         35116.000000         35136.000000  "
      ]
     },
     "execution_count": 27,
     "metadata": {},
     "output_type": "execute_result"
    }
   ],
   "source": [
    "df.describe()"
   ]
  },
  {
   "cell_type": "code",
   "execution_count": 28,
   "id": "0e95164b",
   "metadata": {},
   "outputs": [
    {
     "name": "stdout",
     "output_type": "stream",
     "text": [
      "['AUS' 'IND' 'USA']\n",
      "['Australia' 'India' 'United States of America']\n"
     ]
    }
   ],
   "source": [
    "print(df['country'].unique())\n",
    "print(df['country_long'].unique())"
   ]
  },
  {
   "cell_type": "raw",
   "id": "626e56f9",
   "metadata": {},
   "source": [
    "Both are same so we can drop one."
   ]
  },
  {
   "cell_type": "code",
   "execution_count": 29,
   "id": "6aac82c3",
   "metadata": {},
   "outputs": [],
   "source": [
    "df.drop(['country_long'],axis=1,inplace=True)"
   ]
  },
  {
   "cell_type": "code",
   "execution_count": 30,
   "id": "72b3a629",
   "metadata": {},
   "outputs": [
    {
     "data": {
      "text/plain": [
       "array(['Adelaide Airport', 'Adelaide Showgrounds', 'Albany Wind Farm',\n",
       "       ..., 'Zumbro Solar Garden', 'Zuni', 'eBay - South Jordan'],\n",
       "      dtype=object)"
      ]
     },
     "execution_count": 30,
     "metadata": {},
     "output_type": "execute_result"
    }
   ],
   "source": [
    "df['name'].unique()"
   ]
  },
  {
   "cell_type": "code",
   "execution_count": 31,
   "id": "d8c07da0",
   "metadata": {},
   "outputs": [
    {
     "data": {
      "text/plain": [
       "206"
      ]
     },
     "execution_count": 31,
     "metadata": {},
     "output_type": "execute_result"
    }
   ],
   "source": [
    "df['source'].nunique()"
   ]
  },
  {
   "cell_type": "code",
   "execution_count": 32,
   "id": "86b0f595",
   "metadata": {},
   "outputs": [
    {
     "data": {
      "text/plain": [
       "325"
      ]
     },
     "execution_count": 32,
     "metadata": {},
     "output_type": "execute_result"
    }
   ],
   "source": [
    "df['url'].nunique()"
   ]
  },
  {
   "cell_type": "code",
   "execution_count": 33,
   "id": "0b3cef77",
   "metadata": {},
   "outputs": [
    {
     "name": "stdout",
     "output_type": "stream",
     "text": [
      "[30.0 'Australia Clean Energy Regulator']\n",
      "[59.2 'Central Electricity Authority']\n",
      "[5.0 'U.S. Energy Information Administration']\n"
     ]
    }
   ],
   "source": [
    "print(df1['generation_data_source'].unique())\n",
    "print(df2['generation_data_source'].unique())\n",
    "print(df3['generation_data_source'].unique())"
   ]
  },
  {
   "cell_type": "raw",
   "id": "81432969",
   "metadata": {},
   "source": [
    "'generation_data_source' does not contain much information about data so we can drop it."
   ]
  },
  {
   "cell_type": "code",
   "execution_count": 34,
   "id": "afc3c9f4",
   "metadata": {},
   "outputs": [],
   "source": [
    "df.drop(['generation_data_source'],axis=1,inplace=True)"
   ]
  },
  {
   "cell_type": "code",
   "execution_count": 35,
   "id": "6e05a467",
   "metadata": {},
   "outputs": [
    {
     "data": {
      "text/plain": [
       "array(['Australian Renewable Energy Mapping Infrastructure',\n",
       "       'National Renewable Energy Laboratory', 'WRI', 59.2,\n",
       "       'Industry About', 'U.S. Energy Information Administration', 5.0],\n",
       "      dtype=object)"
      ]
     },
     "execution_count": 35,
     "metadata": {},
     "output_type": "execute_result"
    }
   ],
   "source": [
    "df['geolocation_source'].unique()"
   ]
  },
  {
   "cell_type": "code",
   "execution_count": 36,
   "id": "48a49e44",
   "metadata": {},
   "outputs": [
    {
     "data": {
      "text/plain": [
       "U.S. Energy Information Administration                11833\n",
       "WRI                                                     807\n",
       "Australian Renewable Energy Mapping Infrastructure      512\n",
       "Industry About                                          119\n",
       "59.2                                                     19\n",
       "National Renewable Energy Laboratory                      4\n",
       "5.0                                                       4\n",
       "Name: geolocation_source, dtype: int64"
      ]
     },
     "execution_count": 36,
     "metadata": {},
     "output_type": "execute_result"
    }
   ],
   "source": [
    "df['geolocation_source'].value_counts()"
   ]
  },
  {
   "cell_type": "code",
   "execution_count": 37,
   "id": "379ae4d1",
   "metadata": {},
   "outputs": [],
   "source": [
    "df['geolocation_source'] = df['geolocation_source'].replace(5.0, np.nan)"
   ]
  },
  {
   "cell_type": "code",
   "execution_count": 38,
   "id": "173d1e98",
   "metadata": {},
   "outputs": [],
   "source": [
    "df['geolocation_source'] = df['geolocation_source'].replace(59.2, np.nan)"
   ]
  },
  {
   "cell_type": "code",
   "execution_count": 39,
   "id": "f0fc71d0",
   "metadata": {},
   "outputs": [],
   "source": [
    "df=df.dropna(axis=0)"
   ]
  },
  {
   "cell_type": "code",
   "execution_count": 40,
   "id": "126a4bc7",
   "metadata": {},
   "outputs": [],
   "source": [
    "df.drop(['url'],axis=1,inplace=True)"
   ]
  },
  {
   "cell_type": "raw",
   "id": "840bb5c2",
   "metadata": {},
   "source": [
    "from url we can not get much information so drop it."
   ]
  },
  {
   "cell_type": "code",
   "execution_count": 41,
   "id": "560ed2e0",
   "metadata": {},
   "outputs": [
    {
     "data": {
      "text/plain": [
       "<Axes: >"
      ]
     },
     "execution_count": 41,
     "metadata": {},
     "output_type": "execute_result"
    },
    {
     "data": {
      "image/png": "[encoded data removed]",
      "text/plain": [
       "<Figure size 640x480 with 2 Axes>"
      ]
     },
     "metadata": {},
     "output_type": "display_data"
    }
   ],
   "source": [
    "sns.heatmap(df.corr(),annot=True)"
   ]
  },
  {
   "cell_type": "code",
   "execution_count": 43,
   "id": "3c96a8ae",
   "metadata": {},
   "outputs": [
    {
     "data": {
      "text/plain": [
       "<seaborn.axisgrid.FacetGrid at 0x22ace87bf90>"
      ]
     },
     "execution_count": 43,
     "metadata": {},
     "output_type": "execute_result"
    },
    {
     "data": {
      "image/png": "[encoded data removed]",
      "text/plain": [
       "<Figure size 500x500 with 1 Axes>"
      ]
     },
     "metadata": {},
     "output_type": "display_data"
    }
   ],
   "source": [
    "sns.catplot(data=df,x='capacity_mw',y='country')"
   ]
  },
  {
   "cell_type": "code",
   "execution_count": 44,
   "id": "7d927d64",
   "metadata": {},
   "outputs": [
    {
     "data": {
      "text/plain": [
       "<seaborn.axisgrid.FacetGrid at 0x22aa0caa850>"
      ]
     },
     "execution_count": 44,
     "metadata": {},
     "output_type": "execute_result"
    },
    {
     "data": {
      "image/png": "[encoded data removed]",
      "text/plain": [
       "<Figure size 500x500 with 1 Axes>"
      ]
     },
     "metadata": {},
     "output_type": "display_data"
    }
   ],
   "source": [
    "sns.catplot(data=df,x='capacity_mw',y='primary_fuel')"
   ]
  },
  {
   "cell_type": "code",
   "execution_count": 47,
   "id": "12c964f8",
   "metadata": {},
   "outputs": [
    {
     "data": {
      "text/plain": [
       "<seaborn.axisgrid.FacetGrid at 0x22ae2790350>"
      ]
     },
     "execution_count": 47,
     "metadata": {},
     "output_type": "execute_result"
    },
    {
     "data": {
      "image/png": "[encoded data removed]",
      "text/plain": [
       "<Figure size 500x500 with 1 Axes>"
      ]
     },
     "metadata": {},
     "output_type": "display_data"
    }
   ],
   "source": [
    "sns.catplot(data=df,x='capacity_mw',y='geolocation_source')"
   ]
  },
  {
   "cell_type": "code",
   "execution_count": 48,
   "id": "377d226a",
   "metadata": {},
   "outputs": [],
   "source": [
    "lb = LabelEncoder()\n",
    "df['country']=lb.fit_transform(df['country'])\n",
    "df['name']=lb.fit_transform(df['name'])\n",
    "df['primary_fuel'] = lb.fit_transform(df['primary_fuel'])\n",
    "df['geolocation_source'] = lb.fit_transform(df['geolocation_source'])\n",
    "df['source'] = lb.fit_transform(df['source'])"
   ]
  },
  {
   "cell_type": "code",
   "execution_count": 49,
   "id": "e954757b",
   "metadata": {},
   "outputs": [
    {
     "data": {
      "text/plain": [
       "(array([ 1,  2,  3,  4,  5,  6,  7,  8,  9, 10, 11, 12, 13, 14, 15]),\n",
       " [Text(1, 0, 'country'),\n",
       "  Text(2, 0, 'name'),\n",
       "  Text(3, 0, 'capacity_mw'),\n",
       "  Text(4, 0, 'latitude'),\n",
       "  Text(5, 0, 'longitude'),\n",
       "  Text(6, 0, 'primary_fuel'),\n",
       "  Text(7, 0, 'commissioning_year'),\n",
       "  Text(8, 0, 'source'),\n",
       "  Text(9, 0, 'geolocation_source'),\n",
       "  Text(10, 0, 'generation_gwh_2013'),\n",
       "  Text(11, 0, 'generation_gwh_2014'),\n",
       "  Text(12, 0, 'generation_gwh_2015'),\n",
       "  Text(13, 0, 'generation_gwh_2016'),\n",
       "  Text(14, 0, 'generation_gwh_2017'),\n",
       "  Text(15, 0, 'generation_gwh_2018')])"
      ]
     },
     "execution_count": 49,
     "metadata": {},
     "output_type": "execute_result"
    },
    {
     "data": {
      "image/png": "[encoded data removed]",
      "text/plain": [
       "<Figure size 640x480 with 1 Axes>"
      ]
     },
     "metadata": {},
     "output_type": "display_data"
    }
   ],
   "source": [
    "df.plot.box()\n",
    "plt.xticks(rotation='vertical')"
   ]
  },
  {
   "cell_type": "code",
   "execution_count": 61,
   "id": "ec10199b",
   "metadata": {},
   "outputs": [
    {
     "name": "stdout",
     "output_type": "stream",
     "text": [
      "<class 'pandas.core.frame.DataFrame'>\n",
      "Int64Index: 13275 entries, 0 to 13297\n",
      "Data columns (total 15 columns):\n",
      " #   Column               Non-Null Count  Dtype  \n",
      "---  ------               --------------  -----  \n",
      " 0   country              13275 non-null  int32  \n",
      " 1   name                 13275 non-null  int32  \n",
      " 2   capacity_mw          13275 non-null  float64\n",
      " 3   latitude             13275 non-null  float64\n",
      " 4   longitude            13275 non-null  float64\n",
      " 5   primary_fuel         13275 non-null  int32  \n",
      " 6   commissioning_year   13275 non-null  float64\n",
      " 7   source               13275 non-null  int32  \n",
      " 8   geolocation_source   13275 non-null  int32  \n",
      " 9   generation_gwh_2013  13275 non-null  float64\n",
      " 10  generation_gwh_2014  13275 non-null  float64\n",
      " 11  generation_gwh_2015  13275 non-null  float64\n",
      " 12  generation_gwh_2016  13275 non-null  float64\n",
      " 13  generation_gwh_2017  13275 non-null  float64\n",
      " 14  generation_gwh_2018  13275 non-null  float64\n",
      "dtypes: float64(10), int32(5)\n",
      "memory usage: 1.4 MB\n"
     ]
    }
   ],
   "source": [
    "df.info()"
   ]
  },
  {
   "cell_type": "markdown",
   "id": "df7ed383",
   "metadata": {},
   "source": [
    "# Removing outliers"
   ]
  },
  {
   "cell_type": "code",
   "execution_count": 50,
   "id": "7a78ed27",
   "metadata": {},
   "outputs": [],
   "source": [
    "z=np.abs(zscore(df).values)"
   ]
  },
  {
   "cell_type": "code",
   "execution_count": 51,
   "id": "06b53265",
   "metadata": {},
   "outputs": [
    {
     "name": "stdout",
     "output_type": "stream",
     "text": [
      "(array([    0,     0,     0, ..., 13223, 13237, 13242], dtype=int64), array([0, 3, 4, ..., 7, 4, 2], dtype=int64))\n"
     ]
    }
   ],
   "source": [
    "threshold=3\n",
    "print(np.where(z>3))"
   ]
  },
  {
   "cell_type": "code",
   "execution_count": 52,
   "id": "468f0997",
   "metadata": {},
   "outputs": [],
   "source": [
    "DF=df[(z<3).all(axis=1)]"
   ]
  },
  {
   "cell_type": "code",
   "execution_count": 53,
   "id": "d2cf6516",
   "metadata": {},
   "outputs": [
    {
     "name": "stdout",
     "output_type": "stream",
     "text": [
      "(13275, 15)\n",
      "(12161, 15)\n"
     ]
    }
   ],
   "source": [
    "print(df.shape)\n",
    "print(DF.shape)"
   ]
  },
  {
   "cell_type": "code",
   "execution_count": 62,
   "id": "9a98f28a",
   "metadata": {},
   "outputs": [
    {
     "name": "stdout",
     "output_type": "stream",
     "text": [
      "<class 'pandas.core.frame.DataFrame'>\n",
      "Int64Index: 12161 entries, 512 to 13297\n",
      "Data columns (total 15 columns):\n",
      " #   Column               Non-Null Count  Dtype  \n",
      "---  ------               --------------  -----  \n",
      " 0   country              12161 non-null  int32  \n",
      " 1   name                 12161 non-null  int32  \n",
      " 2   capacity_mw          12161 non-null  float64\n",
      " 3   latitude             12161 non-null  float64\n",
      " 4   longitude            12161 non-null  float64\n",
      " 5   primary_fuel         12161 non-null  int32  \n",
      " 6   commissioning_year   12161 non-null  float64\n",
      " 7   source               12161 non-null  int32  \n",
      " 8   geolocation_source   12161 non-null  int32  \n",
      " 9   generation_gwh_2013  12161 non-null  float64\n",
      " 10  generation_gwh_2014  12161 non-null  float64\n",
      " 11  generation_gwh_2015  12161 non-null  float64\n",
      " 12  generation_gwh_2016  12161 non-null  float64\n",
      " 13  generation_gwh_2017  12161 non-null  float64\n",
      " 14  generation_gwh_2018  12161 non-null  float64\n",
      "dtypes: float64(10), int32(5)\n",
      "memory usage: 1.3 MB\n"
     ]
    }
   ],
   "source": [
    "DF.info()"
   ]
  },
  {
   "cell_type": "markdown",
   "id": "beb68c2f",
   "metadata": {},
   "source": [
    "# skewness"
   ]
  },
  {
   "cell_type": "code",
   "execution_count": 58,
   "id": "90fd4bea",
   "metadata": {},
   "outputs": [
    {
     "data": {
      "text/plain": [
       "country               -4.037441\n",
       "name                   0.003128\n",
       "capacity_mw            3.680306\n",
       "latitude              -0.712023\n",
       "longitude              2.759399\n",
       "primary_fuel          -0.500232\n",
       "commissioning_year    -1.622520\n",
       "source                -4.569347\n",
       "geolocation_source    -1.409493\n",
       "generation_gwh_2013    6.123300\n",
       "generation_gwh_2014    5.704118\n",
       "generation_gwh_2015    5.704496\n",
       "generation_gwh_2016    5.816739\n",
       "generation_gwh_2017    5.700408\n",
       "generation_gwh_2018    5.579797\n",
       "dtype: float64"
      ]
     },
     "execution_count": 58,
     "metadata": {},
     "output_type": "execute_result"
    }
   ],
   "source": [
    "DF.skew()"
   ]
  },
  {
   "cell_type": "code",
   "execution_count": 59,
   "id": "da4b0c4b",
   "metadata": {},
   "outputs": [],
   "source": [
    "from sklearn.preprocessing import power_transform"
   ]
  },
  {
   "cell_type": "code",
   "execution_count": 64,
   "id": "75b50e3c",
   "metadata": {},
   "outputs": [],
   "source": [
    "DF[['country','capacity_mw','source','generation_gwh_2013','generation_gwh_2014','generation_gwh_2015',\n",
    "    'generation_gwh_2016','generation_gwh_2017','generation_gwh_2018']]=power_transform(DF[['country','capacity_mw',\n",
    "    'source','generation_gwh_2013','generation_gwh_2014','generation_gwh_2015','generation_gwh_2016',\n",
    "    'generation_gwh_2017','generation_gwh_2018']])"
   ]
  },
  {
   "cell_type": "code",
   "execution_count": 66,
   "id": "1f0f01e0",
   "metadata": {},
   "outputs": [],
   "source": [
    "x=df.drop(['capacity_mw'],axis=1)\n",
    "y=df['capacity_mw']"
   ]
  },
  {
   "cell_type": "markdown",
   "id": "a2958e96",
   "metadata": {},
   "source": [
    "# scaling data"
   ]
  },
  {
   "cell_type": "code",
   "execution_count": 67,
   "id": "b9091cdd",
   "metadata": {},
   "outputs": [],
   "source": [
    "mmc=MinMaxScaler()\n",
    "x=mmc.fit_transform(x)"
   ]
  },
  {
   "cell_type": "code",
   "execution_count": 68,
   "id": "b5b39561",
   "metadata": {},
   "outputs": [
    {
     "name": "stdout",
     "output_type": "stream",
     "text": [
      "Best random state: 24\n",
      "Best score: 0.7809181554948578\n"
     ]
    }
   ],
   "source": [
    "best_random_state = 0\n",
    "best_score = 0\n",
    "\n",
    "for i in range(100):\n",
    "    xtrain, xtest, ytrain, ytest = train_test_split(x, y, test_size=0.2, random_state=i)\n",
    "    lr = LinearRegression()\n",
    "    lr.fit(xtrain, ytrain)\n",
    "    score = lr.score(xtest, ytest)\n",
    "    \n",
    "    if score > best_score:\n",
    "        best_score = score\n",
    "        best_random_state = i\n",
    "\n",
    "print('Best random state:', best_random_state)\n",
    "print('Best score:', best_score)"
   ]
  },
  {
   "cell_type": "code",
   "execution_count": 69,
   "id": "609383b4",
   "metadata": {},
   "outputs": [
    {
     "name": "stdout",
     "output_type": "stream",
     "text": [
      "MSE: 40120.294643467016\n",
      "MAE: 88.65577418007322\n",
      "r2_score: 0.6314758489634498\n"
     ]
    }
   ],
   "source": [
    "pred=lr.predict(xtest)\n",
    "print('MSE:',mean_squared_error(pred,ytest))\n",
    "print('MAE:',mean_absolute_error(pred,ytest))\n",
    "print('r2_score:',r2_score(pred,ytest))"
   ]
  },
  {
   "cell_type": "code",
   "execution_count": 70,
   "id": "fed9cc5f",
   "metadata": {},
   "outputs": [],
   "source": [
    "dtc=DecisionTreeRegressor()\n",
    "dtc.fit(xtrain,ytrain)\n",
    "predic=dtc.predict(xtest)"
   ]
  },
  {
   "cell_type": "code",
   "execution_count": 71,
   "id": "2395b4e8",
   "metadata": {},
   "outputs": [
    {
     "name": "stdout",
     "output_type": "stream",
     "text": [
      "MSE: 40120.294643467016\n",
      "MAE: 88.65577418007322\n",
      "r2_score: 0.6314758489634498\n"
     ]
    }
   ],
   "source": [
    "print('MSE:',mean_squared_error(pred,ytest))\n",
    "print('MAE:',mean_absolute_error(pred,ytest))\n",
    "print('r2_score:',r2_score(pred,ytest))"
   ]
  },
  {
   "cell_type": "code",
   "execution_count": 72,
   "id": "cb7e485a",
   "metadata": {},
   "outputs": [],
   "source": [
    "gbr=GradientBoostingRegressor()\n",
    "gbr.fit(xtrain,ytrain)\n",
    "gbr_pred=gbr.predict(xtest)"
   ]
  },
  {
   "cell_type": "code",
   "execution_count": 73,
   "id": "069376ab",
   "metadata": {},
   "outputs": [
    {
     "name": "stdout",
     "output_type": "stream",
     "text": [
      "MSE: 23411.18117410109\n",
      "MAE: 57.39478457078016\n",
      "r2_score: 0.7891924184934651\n"
     ]
    }
   ],
   "source": [
    "print('MSE:',mean_squared_error(gbr_pred,ytest))\n",
    "print('MAE:',mean_absolute_error(gbr_pred,ytest))\n",
    "print('r2_score:',r2_score(gbr_pred,ytest))"
   ]
  },
  {
   "cell_type": "code",
   "execution_count": 74,
   "id": "cd1fcb08",
   "metadata": {},
   "outputs": [],
   "source": [
    "rd=Ridge('alpha'==0.1)\n",
    "rd.fit(xtrain,ytrain)\n",
    "pre=rd.predict(xtest)"
   ]
  },
  {
   "cell_type": "code",
   "execution_count": 75,
   "id": "fd4a04a6",
   "metadata": {},
   "outputs": [
    {
     "name": "stdout",
     "output_type": "stream",
     "text": [
      "MSE: 40120.294643468515\n",
      "MAE: 88.6557741800733\n",
      "r2_score: 0.6314758489634384\n"
     ]
    }
   ],
   "source": [
    "print('MSE:',mean_squared_error(pre,ytest))\n",
    "print('MAE:',mean_absolute_error(pre,ytest))\n",
    "print('r2_score:',r2_score(pre,ytest))"
   ]
  },
  {
   "cell_type": "code",
   "execution_count": 76,
   "id": "b6812573",
   "metadata": {},
   "outputs": [],
   "source": [
    "rf=RandomForestRegressor()\n",
    "                          \n",
    "rf.fit(xtrain,ytrain)\n",
    "predi=rf.predict(xtest)\n"
   ]
  },
  {
   "cell_type": "code",
   "execution_count": 77,
   "id": "dee1b5fc",
   "metadata": {},
   "outputs": [
    {
     "name": "stdout",
     "output_type": "stream",
     "text": [
      "MSE: 20761.888259841686\n",
      "MAE: 49.55703319020715\n",
      "r2_score: 0.8161850593386871\n"
     ]
    }
   ],
   "source": [
    "print('MSE:',mean_squared_error(predi,ytest))\n",
    "print('MAE:',mean_absolute_error(predi,ytest))\n",
    "print('r2_score:',r2_score(predi,ytest))"
   ]
  },
  {
   "cell_type": "raw",
   "id": "c0f9753e",
   "metadata": {},
   "source": [
    "We have got highest accuracy with Random Forest Regressor."
   ]
  },
  {
   "cell_type": "markdown",
   "id": "3e5ba700",
   "metadata": {},
   "source": [
    "# Hyperparameter tuning"
   ]
  },
  {
   "cell_type": "code",
   "execution_count": 78,
   "id": "b3c4c124",
   "metadata": {},
   "outputs": [
    {
     "data": {
      "text/plain": [
       "{'max_depth': 20, 'n_estimators': 150}"
      ]
     },
     "execution_count": 78,
     "metadata": {},
     "output_type": "execute_result"
    }
   ],
   "source": [
    "rf=RandomForestRegressor()\n",
    "param={'max_depth':[10,20,30],'n_estimators':[100,150]}\n",
    "rf=GridSearchCV(rf,param,cv=5)\n",
    "rf.fit(xtrain,ytrain)\n",
    "rf.best_params_"
   ]
  },
  {
   "cell_type": "code",
   "execution_count": 79,
   "id": "327a27ac",
   "metadata": {},
   "outputs": [],
   "source": [
    "rf=RandomForestRegressor(max_depth=20,n_estimators=150)\n",
    "                          \n",
    "rf.fit(xtrain,ytrain)\n",
    "pred_i=rf.predict(xtest)"
   ]
  },
  {
   "cell_type": "code",
   "execution_count": 80,
   "id": "57bc78db",
   "metadata": {},
   "outputs": [
    {
     "name": "stdout",
     "output_type": "stream",
     "text": [
      "MSE: 20614.473755121177\n",
      "MAE: 49.770606907095285\n",
      "r2_score: 0.8180219663455397\n"
     ]
    }
   ],
   "source": [
    "print('MSE:',mean_squared_error(pred_i,ytest))\n",
    "print('MAE:',mean_absolute_error(pred_i,ytest))\n",
    "print('r2_score:',r2_score(pred_i,ytest))"
   ]
  },
  {
   "cell_type": "markdown",
   "id": "3e58efdd",
   "metadata": {},
   "source": [
    "# predicting primary fuel (classification)"
   ]
  },
  {
   "cell_type": "code",
   "execution_count": 82,
   "id": "4723c719",
   "metadata": {},
   "outputs": [],
   "source": [
    "X=df.drop(['primary_fuel'],axis=1)\n",
    "Y=df['primary_fuel']"
   ]
  },
  {
   "cell_type": "code",
   "execution_count": 83,
   "id": "61c687ac",
   "metadata": {},
   "outputs": [],
   "source": [
    "mmc=MinMaxScaler()\n",
    "X=mmc.fit_transform(X)"
   ]
  },
  {
   "cell_type": "code",
   "execution_count": 84,
   "id": "636d3277",
   "metadata": {},
   "outputs": [],
   "source": [
    "Xtrain,Xtest,Ytrain,Ytest=train_test_split(X,Y,test_size=.2,random_state=42)"
   ]
  },
  {
   "cell_type": "code",
   "execution_count": 85,
   "id": "949f378b",
   "metadata": {},
   "outputs": [
    {
     "name": "stdout",
     "output_type": "stream",
     "text": [
      "Accuracy score : DecisionTreeClassifier()\n",
      "0.7548022598870057\n",
      "Accuracy score : RandomForestClassifier()\n",
      "0.8331450094161958\n",
      "Accuracy score : SVC()\n",
      "0.488135593220339\n"
     ]
    }
   ],
   "source": [
    "DTC= DecisionTreeClassifier()\n",
    "RC= RandomForestClassifier()\n",
    "SC=SVC()\n",
    "\n",
    "model=[DTC,RC,SC]\n",
    "\n",
    "\n",
    "\n",
    "for m in model:\n",
    "    m.fit(Xtrain,Ytrain)\n",
    "    m.score(Xtrain,Ytrain)\n",
    "    prediction=m.predict(Xtest)\n",
    "    \n",
    "    print('Accuracy score :', m)\n",
    "    print(accuracy_score(Ytest,prediction))   \n",
    "        "
   ]
  },
  {
   "cell_type": "raw",
   "id": "421d009a",
   "metadata": {},
   "source": [
    "Best model for classification task is Random Forest."
   ]
  },
  {
   "cell_type": "code",
   "execution_count": 86,
   "id": "32b5b1ba",
   "metadata": {},
   "outputs": [],
   "source": [
    "RC=RandomForestClassifier()\n",
    "                          \n",
    "RC.fit(Xtrain,Ytrain)\n",
    "PRED=RC.predict(Xtest)"
   ]
  },
  {
   "cell_type": "code",
   "execution_count": 87,
   "id": "34969dc5",
   "metadata": {},
   "outputs": [
    {
     "name": "stdout",
     "output_type": "stream",
     "text": [
      "0.8365348399246705\n"
     ]
    }
   ],
   "source": [
    "print(accuracy_score(Ytest,PRED))"
   ]
  },
  {
   "cell_type": "code",
   "execution_count": 90,
   "id": "57dc592d",
   "metadata": {},
   "outputs": [
    {
     "data": {
      "text/plain": [
       "['Global power plant.obj']"
      ]
     },
     "execution_count": 90,
     "metadata": {},
     "output_type": "execute_result"
    }
   ],
   "source": [
    "import joblib\n",
    "joblib.dump(RC,'Global power plant.obj')"
   ]
  },
  {
   "cell_type": "code",
   "execution_count": null,
   "id": "7039ffc5",
   "metadata": {},
   "outputs": [],
   "source": []
  }
 ],
 "metadata": {
  "kernelspec": {
   "display_name": "Python 3 (ipykernel)",
   "language": "python",
   "name": "python3"
  },
  "language_info": {
   "codemirror_mode": {
    "name": "ipython",
    "version": 3
   },
   "file_extension": ".py",
   "mimetype": "text/x-python",
   "name": "python",
   "nbconvert_exporter": "python",
   "pygments_lexer": "ipython3",
   "version": "3.11.3"
  }
 },
 "nbformat": 4,
 "nbformat_minor": 5
}
